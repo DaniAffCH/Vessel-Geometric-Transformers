{
 "cells": [
  {
   "cell_type": "markdown",
   "metadata": {},
   "source": [
    "You can run this notebook directly on Google Colab\n",
    "\n",
    "[![Open In Colab](https://colab.research.google.com/assets/colab-badge.svg)](https://colab.research.google.com/github/DaniAffCH/Vessel-Geometric-Transformers/blob/main/main.ipynb)"
   ]
  },
  {
   "cell_type": "code",
   "execution_count": 1,
   "metadata": {},
   "outputs": [
    {
     "name": "stdout",
     "output_type": "stream",
     "text": [
      "\u001b[31mWarning: No GPU found. Please check your runtime settings.\u001b[0m\n",
      "Requirement already satisfied: gdown in /home/neverorfrog/.miniconda3/envs/gatr/lib/python3.11/site-packages (from -r requirements.txt (line 1)) (5.2.0)\n",
      "Requirement already satisfied: pre-commit in /home/neverorfrog/.miniconda3/envs/gatr/lib/python3.11/site-packages (from -r requirements.txt (line 2)) (4.0.1)\n",
      "Requirement already satisfied: flake8 in /home/neverorfrog/.miniconda3/envs/gatr/lib/python3.11/site-packages (from -r requirements.txt (line 3)) (7.1.1)\n",
      "Requirement already satisfied: black in /home/neverorfrog/.miniconda3/envs/gatr/lib/python3.11/site-packages (from -r requirements.txt (line 4)) (24.10.0)\n",
      "Requirement already satisfied: mypy in /home/neverorfrog/.miniconda3/envs/gatr/lib/python3.11/site-packages (from -r requirements.txt (line 5)) (1.12.0)\n",
      "Requirement already satisfied: h5py in /home/neverorfrog/.miniconda3/envs/gatr/lib/python3.11/site-packages (from -r requirements.txt (line 6)) (3.12.1)\n",
      "Requirement already satisfied: numba==0.58.1 in /home/neverorfrog/.miniconda3/envs/gatr/lib/python3.11/site-packages (from -r requirements.txt (line 7)) (0.58.1)\n",
      "Requirement already satisfied: einops in /home/neverorfrog/.miniconda3/envs/gatr/lib/python3.11/site-packages (from -r requirements.txt (line 8)) (0.8.0)\n",
      "Requirement already satisfied: torch in /home/neverorfrog/.miniconda3/envs/gatr/lib/python3.11/site-packages (from -r requirements.txt (line 9)) (2.5.0)\n",
      "Requirement already satisfied: torch_geometric==2.5.3 in /home/neverorfrog/.miniconda3/envs/gatr/lib/python3.11/site-packages (from -r requirements.txt (line 10)) (2.5.3)\n",
      "Requirement already satisfied: lightning in /home/neverorfrog/.miniconda3/envs/gatr/lib/python3.11/site-packages (from -r requirements.txt (line 11)) (2.4.0)\n",
      "Requirement already satisfied: tqdm in /home/neverorfrog/.miniconda3/envs/gatr/lib/python3.11/site-packages (from -r requirements.txt (line 13)) (4.66.5)\n",
      "Requirement already satisfied: omegaconf in /home/neverorfrog/.miniconda3/envs/gatr/lib/python3.11/site-packages (from -r requirements.txt (line 14)) (2.3.0)\n",
      "Requirement already satisfied: pandas in /home/neverorfrog/.miniconda3/envs/gatr/lib/python3.11/site-packages (from -r requirements.txt (line 15)) (2.2.3)\n",
      "Requirement already satisfied: pathlib in /home/neverorfrog/.miniconda3/envs/gatr/lib/python3.11/site-packages (from -r requirements.txt (line 16)) (1.0.1)\n",
      "Requirement already satisfied: pytest in /home/neverorfrog/.miniconda3/envs/gatr/lib/python3.11/site-packages (from -r requirements.txt (line 17)) (8.3.3)\n",
      "Requirement already satisfied: pyyaml in /home/neverorfrog/.miniconda3/envs/gatr/lib/python3.11/site-packages (from -r requirements.txt (line 18)) (6.0.2)\n",
      "Requirement already satisfied: types-PyYAML in /home/neverorfrog/.miniconda3/envs/gatr/lib/python3.11/site-packages (from -r requirements.txt (line 19)) (6.0.12.20240917)\n",
      "Requirement already satisfied: types-tqdm in /home/neverorfrog/.miniconda3/envs/gatr/lib/python3.11/site-packages (from -r requirements.txt (line 20)) (4.66.0.20240417)\n",
      "Requirement already satisfied: wandb in /home/neverorfrog/.miniconda3/envs/gatr/lib/python3.11/site-packages (from -r requirements.txt (line 21)) (0.18.5)\n",
      "Requirement already satisfied: clifford in /home/neverorfrog/.miniconda3/envs/gatr/lib/python3.11/site-packages (from -r requirements.txt (line 22)) (1.4.0)\n",
      "Requirement already satisfied: optuna in /home/neverorfrog/.miniconda3/envs/gatr/lib/python3.11/site-packages (from -r requirements.txt (line 23)) (4.0.0)\n",
      "Requirement already satisfied: seaborn in /home/neverorfrog/.miniconda3/envs/gatr/lib/python3.11/site-packages (from -r requirements.txt (line 24)) (0.13.2)\n",
      "Requirement already satisfied: llvmlite<0.42,>=0.41.0dev0 in /home/neverorfrog/.miniconda3/envs/gatr/lib/python3.11/site-packages (from numba==0.58.1->-r requirements.txt (line 7)) (0.41.1)\n",
      "Requirement already satisfied: numpy<1.27,>=1.22 in /home/neverorfrog/.miniconda3/envs/gatr/lib/python3.11/site-packages (from numba==0.58.1->-r requirements.txt (line 7)) (1.26.4)\n",
      "Requirement already satisfied: scipy in /home/neverorfrog/.miniconda3/envs/gatr/lib/python3.11/site-packages (from torch_geometric==2.5.3->-r requirements.txt (line 10)) (1.14.1)\n",
      "Requirement already satisfied: fsspec in /home/neverorfrog/.miniconda3/envs/gatr/lib/python3.11/site-packages (from torch_geometric==2.5.3->-r requirements.txt (line 10)) (2024.9.0)\n",
      "Requirement already satisfied: jinja2 in /home/neverorfrog/.miniconda3/envs/gatr/lib/python3.11/site-packages (from torch_geometric==2.5.3->-r requirements.txt (line 10)) (3.1.4)\n",
      "Requirement already satisfied: aiohttp in /home/neverorfrog/.miniconda3/envs/gatr/lib/python3.11/site-packages (from torch_geometric==2.5.3->-r requirements.txt (line 10)) (3.10.10)\n",
      "Requirement already satisfied: requests in /home/neverorfrog/.miniconda3/envs/gatr/lib/python3.11/site-packages (from torch_geometric==2.5.3->-r requirements.txt (line 10)) (2.32.3)\n",
      "Requirement already satisfied: pyparsing in /home/neverorfrog/.miniconda3/envs/gatr/lib/python3.11/site-packages (from torch_geometric==2.5.3->-r requirements.txt (line 10)) (3.2.0)\n",
      "Requirement already satisfied: scikit-learn in /home/neverorfrog/.miniconda3/envs/gatr/lib/python3.11/site-packages (from torch_geometric==2.5.3->-r requirements.txt (line 10)) (1.5.2)\n",
      "Requirement already satisfied: psutil>=5.8.0 in /home/neverorfrog/.miniconda3/envs/gatr/lib/python3.11/site-packages (from torch_geometric==2.5.3->-r requirements.txt (line 10)) (6.1.0)\n",
      "Requirement already satisfied: beautifulsoup4 in /home/neverorfrog/.miniconda3/envs/gatr/lib/python3.11/site-packages (from gdown->-r requirements.txt (line 1)) (4.12.3)\n",
      "Requirement already satisfied: filelock in /home/neverorfrog/.miniconda3/envs/gatr/lib/python3.11/site-packages (from gdown->-r requirements.txt (line 1)) (3.16.1)\n",
      "Requirement already satisfied: cfgv>=2.0.0 in /home/neverorfrog/.miniconda3/envs/gatr/lib/python3.11/site-packages (from pre-commit->-r requirements.txt (line 2)) (3.4.0)\n",
      "Requirement already satisfied: identify>=1.0.0 in /home/neverorfrog/.miniconda3/envs/gatr/lib/python3.11/site-packages (from pre-commit->-r requirements.txt (line 2)) (2.6.1)\n",
      "Requirement already satisfied: nodeenv>=0.11.1 in /home/neverorfrog/.miniconda3/envs/gatr/lib/python3.11/site-packages (from pre-commit->-r requirements.txt (line 2)) (1.9.1)\n",
      "Requirement already satisfied: virtualenv>=20.10.0 in /home/neverorfrog/.miniconda3/envs/gatr/lib/python3.11/site-packages (from pre-commit->-r requirements.txt (line 2)) (20.27.0)\n",
      "Requirement already satisfied: mccabe<0.8.0,>=0.7.0 in /home/neverorfrog/.miniconda3/envs/gatr/lib/python3.11/site-packages (from flake8->-r requirements.txt (line 3)) (0.7.0)\n",
      "Requirement already satisfied: pycodestyle<2.13.0,>=2.12.0 in /home/neverorfrog/.miniconda3/envs/gatr/lib/python3.11/site-packages (from flake8->-r requirements.txt (line 3)) (2.12.1)\n",
      "Requirement already satisfied: pyflakes<3.3.0,>=3.2.0 in /home/neverorfrog/.miniconda3/envs/gatr/lib/python3.11/site-packages (from flake8->-r requirements.txt (line 3)) (3.2.0)\n",
      "Requirement already satisfied: click>=8.0.0 in /home/neverorfrog/.miniconda3/envs/gatr/lib/python3.11/site-packages (from black->-r requirements.txt (line 4)) (8.1.7)\n",
      "Requirement already satisfied: mypy-extensions>=0.4.3 in /home/neverorfrog/.miniconda3/envs/gatr/lib/python3.11/site-packages (from black->-r requirements.txt (line 4)) (1.0.0)\n",
      "Requirement already satisfied: packaging>=22.0 in /home/neverorfrog/.miniconda3/envs/gatr/lib/python3.11/site-packages (from black->-r requirements.txt (line 4)) (24.1)\n",
      "Requirement already satisfied: pathspec>=0.9.0 in /home/neverorfrog/.miniconda3/envs/gatr/lib/python3.11/site-packages (from black->-r requirements.txt (line 4)) (0.12.1)\n",
      "Requirement already satisfied: platformdirs>=2 in /home/neverorfrog/.miniconda3/envs/gatr/lib/python3.11/site-packages (from black->-r requirements.txt (line 4)) (4.3.6)\n",
      "Requirement already satisfied: typing-extensions>=4.6.0 in /home/neverorfrog/.miniconda3/envs/gatr/lib/python3.11/site-packages (from mypy->-r requirements.txt (line 5)) (4.12.2)\n",
      "Requirement already satisfied: networkx in /home/neverorfrog/.miniconda3/envs/gatr/lib/python3.11/site-packages (from torch->-r requirements.txt (line 9)) (3.4.1)\n",
      "Requirement already satisfied: nvidia-cuda-nvrtc-cu12==12.4.127 in /home/neverorfrog/.miniconda3/envs/gatr/lib/python3.11/site-packages (from torch->-r requirements.txt (line 9)) (12.4.127)\n",
      "Requirement already satisfied: nvidia-cuda-runtime-cu12==12.4.127 in /home/neverorfrog/.miniconda3/envs/gatr/lib/python3.11/site-packages (from torch->-r requirements.txt (line 9)) (12.4.127)\n",
      "Requirement already satisfied: nvidia-cuda-cupti-cu12==12.4.127 in /home/neverorfrog/.miniconda3/envs/gatr/lib/python3.11/site-packages (from torch->-r requirements.txt (line 9)) (12.4.127)\n",
      "Requirement already satisfied: nvidia-cudnn-cu12==9.1.0.70 in /home/neverorfrog/.miniconda3/envs/gatr/lib/python3.11/site-packages (from torch->-r requirements.txt (line 9)) (9.1.0.70)\n",
      "Requirement already satisfied: nvidia-cublas-cu12==12.4.5.8 in /home/neverorfrog/.miniconda3/envs/gatr/lib/python3.11/site-packages (from torch->-r requirements.txt (line 9)) (12.4.5.8)\n",
      "Requirement already satisfied: nvidia-cufft-cu12==11.2.1.3 in /home/neverorfrog/.miniconda3/envs/gatr/lib/python3.11/site-packages (from torch->-r requirements.txt (line 9)) (11.2.1.3)\n",
      "Requirement already satisfied: nvidia-curand-cu12==10.3.5.147 in /home/neverorfrog/.miniconda3/envs/gatr/lib/python3.11/site-packages (from torch->-r requirements.txt (line 9)) (10.3.5.147)\n",
      "Requirement already satisfied: nvidia-cusolver-cu12==11.6.1.9 in /home/neverorfrog/.miniconda3/envs/gatr/lib/python3.11/site-packages (from torch->-r requirements.txt (line 9)) (11.6.1.9)\n",
      "Requirement already satisfied: nvidia-cusparse-cu12==12.3.1.170 in /home/neverorfrog/.miniconda3/envs/gatr/lib/python3.11/site-packages (from torch->-r requirements.txt (line 9)) (12.3.1.170)\n",
      "Requirement already satisfied: nvidia-nccl-cu12==2.21.5 in /home/neverorfrog/.miniconda3/envs/gatr/lib/python3.11/site-packages (from torch->-r requirements.txt (line 9)) (2.21.5)\n",
      "Requirement already satisfied: nvidia-nvtx-cu12==12.4.127 in /home/neverorfrog/.miniconda3/envs/gatr/lib/python3.11/site-packages (from torch->-r requirements.txt (line 9)) (12.4.127)\n",
      "Requirement already satisfied: nvidia-nvjitlink-cu12==12.4.127 in /home/neverorfrog/.miniconda3/envs/gatr/lib/python3.11/site-packages (from torch->-r requirements.txt (line 9)) (12.4.127)\n",
      "Requirement already satisfied: triton==3.1.0 in /home/neverorfrog/.miniconda3/envs/gatr/lib/python3.11/site-packages (from torch->-r requirements.txt (line 9)) (3.1.0)\n",
      "Requirement already satisfied: sympy==1.13.1 in /home/neverorfrog/.miniconda3/envs/gatr/lib/python3.11/site-packages (from torch->-r requirements.txt (line 9)) (1.13.1)\n",
      "Requirement already satisfied: mpmath<1.4,>=1.1.0 in /home/neverorfrog/.miniconda3/envs/gatr/lib/python3.11/site-packages (from sympy==1.13.1->torch->-r requirements.txt (line 9)) (1.3.0)\n",
      "Requirement already satisfied: lightning-utilities<2.0,>=0.10.0 in /home/neverorfrog/.miniconda3/envs/gatr/lib/python3.11/site-packages (from lightning->-r requirements.txt (line 11)) (0.11.8)\n",
      "Requirement already satisfied: torchmetrics<3.0,>=0.7.0 in /home/neverorfrog/.miniconda3/envs/gatr/lib/python3.11/site-packages (from lightning->-r requirements.txt (line 11)) (1.4.3)\n",
      "Requirement already satisfied: pytorch-lightning in /home/neverorfrog/.miniconda3/envs/gatr/lib/python3.11/site-packages (from lightning->-r requirements.txt (line 11)) (2.4.0)\n",
      "Requirement already satisfied: bitsandbytes<1.0,>=0.42.0 in /home/neverorfrog/.miniconda3/envs/gatr/lib/python3.11/site-packages (from lightning[extra]->-r requirements.txt (line 12)) (0.44.1)\n",
      "Requirement already satisfied: hydra-core<2.0,>=1.2.0 in /home/neverorfrog/.miniconda3/envs/gatr/lib/python3.11/site-packages (from lightning[extra]->-r requirements.txt (line 12)) (1.3.2)\n",
      "Requirement already satisfied: jsonargparse<5.0,>=4.27.7 in /home/neverorfrog/.miniconda3/envs/gatr/lib/python3.11/site-packages (from jsonargparse[signatures]<5.0,>=4.27.7; extra == \"extra\"->lightning[extra]->-r requirements.txt (line 12)) (4.33.2)\n",
      "Requirement already satisfied: matplotlib<4.0,>3.1 in /home/neverorfrog/.miniconda3/envs/gatr/lib/python3.11/site-packages (from lightning[extra]->-r requirements.txt (line 12)) (3.9.2)\n",
      "Requirement already satisfied: rich<14.0,>=12.3.0 in /home/neverorfrog/.miniconda3/envs/gatr/lib/python3.11/site-packages (from lightning[extra]->-r requirements.txt (line 12)) (13.9.2)\n",
      "Requirement already satisfied: tensorboardX<3.0,>=2.2 in /home/neverorfrog/.miniconda3/envs/gatr/lib/python3.11/site-packages (from lightning[extra]->-r requirements.txt (line 12)) (2.6.2.2)\n",
      "Requirement already satisfied: antlr4-python3-runtime==4.9.* in /home/neverorfrog/.miniconda3/envs/gatr/lib/python3.11/site-packages (from omegaconf->-r requirements.txt (line 14)) (4.9.3)\n",
      "Requirement already satisfied: python-dateutil>=2.8.2 in /home/neverorfrog/.miniconda3/envs/gatr/lib/python3.11/site-packages (from pandas->-r requirements.txt (line 15)) (2.9.0.post0)\n",
      "Requirement already satisfied: pytz>=2020.1 in /home/neverorfrog/.miniconda3/envs/gatr/lib/python3.11/site-packages (from pandas->-r requirements.txt (line 15)) (2024.2)\n",
      "Requirement already satisfied: tzdata>=2022.7 in /home/neverorfrog/.miniconda3/envs/gatr/lib/python3.11/site-packages (from pandas->-r requirements.txt (line 15)) (2024.2)\n",
      "Requirement already satisfied: iniconfig in /home/neverorfrog/.miniconda3/envs/gatr/lib/python3.11/site-packages (from pytest->-r requirements.txt (line 17)) (2.0.0)\n",
      "Requirement already satisfied: pluggy<2,>=1.5 in /home/neverorfrog/.miniconda3/envs/gatr/lib/python3.11/site-packages (from pytest->-r requirements.txt (line 17)) (1.5.0)\n",
      "Requirement already satisfied: docker-pycreds>=0.4.0 in /home/neverorfrog/.miniconda3/envs/gatr/lib/python3.11/site-packages (from wandb->-r requirements.txt (line 21)) (0.4.0)\n",
      "Requirement already satisfied: gitpython!=3.1.29,>=1.0.0 in /home/neverorfrog/.miniconda3/envs/gatr/lib/python3.11/site-packages (from wandb->-r requirements.txt (line 21)) (3.1.43)\n",
      "Requirement already satisfied: protobuf!=4.21.0,!=5.28.0,<6,>=3.19.0 in /home/neverorfrog/.miniconda3/envs/gatr/lib/python3.11/site-packages (from wandb->-r requirements.txt (line 21)) (5.28.2)\n",
      "Requirement already satisfied: sentry-sdk>=2.0.0 in /home/neverorfrog/.miniconda3/envs/gatr/lib/python3.11/site-packages (from wandb->-r requirements.txt (line 21)) (2.17.0)\n",
      "Requirement already satisfied: setproctitle in /home/neverorfrog/.miniconda3/envs/gatr/lib/python3.11/site-packages (from wandb->-r requirements.txt (line 21)) (1.3.3)\n",
      "Requirement already satisfied: setuptools in /home/neverorfrog/.miniconda3/envs/gatr/lib/python3.11/site-packages (from wandb->-r requirements.txt (line 21)) (75.1.0)\n",
      "Requirement already satisfied: sparse in /home/neverorfrog/.miniconda3/envs/gatr/lib/python3.11/site-packages (from clifford->-r requirements.txt (line 22)) (0.15.4)\n",
      "Requirement already satisfied: alembic>=1.5.0 in /home/neverorfrog/.miniconda3/envs/gatr/lib/python3.11/site-packages (from optuna->-r requirements.txt (line 23)) (1.13.3)\n",
      "Requirement already satisfied: colorlog in /home/neverorfrog/.miniconda3/envs/gatr/lib/python3.11/site-packages (from optuna->-r requirements.txt (line 23)) (6.8.2)\n",
      "Requirement already satisfied: sqlalchemy>=1.3.0 in /home/neverorfrog/.miniconda3/envs/gatr/lib/python3.11/site-packages (from optuna->-r requirements.txt (line 23)) (2.0.36)\n",
      "Requirement already satisfied: Mako in /home/neverorfrog/.miniconda3/envs/gatr/lib/python3.11/site-packages (from alembic>=1.5.0->optuna->-r requirements.txt (line 23)) (1.3.5)\n",
      "Requirement already satisfied: six>=1.4.0 in /home/neverorfrog/.miniconda3/envs/gatr/lib/python3.11/site-packages (from docker-pycreds>=0.4.0->wandb->-r requirements.txt (line 21)) (1.16.0)\n",
      "Requirement already satisfied: aiohappyeyeballs>=2.3.0 in /home/neverorfrog/.miniconda3/envs/gatr/lib/python3.11/site-packages (from aiohttp->torch_geometric==2.5.3->-r requirements.txt (line 10)) (2.4.3)\n",
      "Requirement already satisfied: aiosignal>=1.1.2 in /home/neverorfrog/.miniconda3/envs/gatr/lib/python3.11/site-packages (from aiohttp->torch_geometric==2.5.3->-r requirements.txt (line 10)) (1.3.1)\n",
      "Requirement already satisfied: attrs>=17.3.0 in /home/neverorfrog/.miniconda3/envs/gatr/lib/python3.11/site-packages (from aiohttp->torch_geometric==2.5.3->-r requirements.txt (line 10)) (24.2.0)\n",
      "Requirement already satisfied: frozenlist>=1.1.1 in /home/neverorfrog/.miniconda3/envs/gatr/lib/python3.11/site-packages (from aiohttp->torch_geometric==2.5.3->-r requirements.txt (line 10)) (1.4.1)\n",
      "Requirement already satisfied: multidict<7.0,>=4.5 in /home/neverorfrog/.miniconda3/envs/gatr/lib/python3.11/site-packages (from aiohttp->torch_geometric==2.5.3->-r requirements.txt (line 10)) (6.1.0)\n",
      "Requirement already satisfied: yarl<2.0,>=1.12.0 in /home/neverorfrog/.miniconda3/envs/gatr/lib/python3.11/site-packages (from aiohttp->torch_geometric==2.5.3->-r requirements.txt (line 10)) (1.15.4)\n",
      "Requirement already satisfied: gitdb<5,>=4.0.1 in /home/neverorfrog/.miniconda3/envs/gatr/lib/python3.11/site-packages (from gitpython!=3.1.29,>=1.0.0->wandb->-r requirements.txt (line 21)) (4.0.11)\n",
      "Requirement already satisfied: docstring-parser>=0.15 in /home/neverorfrog/.miniconda3/envs/gatr/lib/python3.11/site-packages (from jsonargparse[signatures]<5.0,>=4.27.7; extra == \"extra\"->lightning[extra]->-r requirements.txt (line 12)) (0.16)\n",
      "Requirement already satisfied: typeshed-client>=2.1.0 in /home/neverorfrog/.miniconda3/envs/gatr/lib/python3.11/site-packages (from jsonargparse[signatures]<5.0,>=4.27.7; extra == \"extra\"->lightning[extra]->-r requirements.txt (line 12)) (2.7.0)\n",
      "Requirement already satisfied: contourpy>=1.0.1 in /home/neverorfrog/.miniconda3/envs/gatr/lib/python3.11/site-packages (from matplotlib<4.0,>3.1->lightning[extra]->-r requirements.txt (line 12)) (1.3.0)\n",
      "Requirement already satisfied: cycler>=0.10 in /home/neverorfrog/.miniconda3/envs/gatr/lib/python3.11/site-packages (from matplotlib<4.0,>3.1->lightning[extra]->-r requirements.txt (line 12)) (0.12.1)\n",
      "Requirement already satisfied: fonttools>=4.22.0 in /home/neverorfrog/.miniconda3/envs/gatr/lib/python3.11/site-packages (from matplotlib<4.0,>3.1->lightning[extra]->-r requirements.txt (line 12)) (4.54.1)\n",
      "Requirement already satisfied: kiwisolver>=1.3.1 in /home/neverorfrog/.miniconda3/envs/gatr/lib/python3.11/site-packages (from matplotlib<4.0,>3.1->lightning[extra]->-r requirements.txt (line 12)) (1.4.7)\n",
      "Requirement already satisfied: pillow>=8 in /home/neverorfrog/.miniconda3/envs/gatr/lib/python3.11/site-packages (from matplotlib<4.0,>3.1->lightning[extra]->-r requirements.txt (line 12)) (11.0.0)\n",
      "Requirement already satisfied: charset-normalizer<4,>=2 in /home/neverorfrog/.miniconda3/envs/gatr/lib/python3.11/site-packages (from requests->torch_geometric==2.5.3->-r requirements.txt (line 10)) (3.4.0)\n",
      "Requirement already satisfied: idna<4,>=2.5 in /home/neverorfrog/.miniconda3/envs/gatr/lib/python3.11/site-packages (from requests->torch_geometric==2.5.3->-r requirements.txt (line 10)) (3.10)\n",
      "Requirement already satisfied: urllib3<3,>=1.21.1 in /home/neverorfrog/.miniconda3/envs/gatr/lib/python3.11/site-packages (from requests->torch_geometric==2.5.3->-r requirements.txt (line 10)) (2.2.3)\n",
      "Requirement already satisfied: certifi>=2017.4.17 in /home/neverorfrog/.miniconda3/envs/gatr/lib/python3.11/site-packages (from requests->torch_geometric==2.5.3->-r requirements.txt (line 10)) (2024.8.30)\n",
      "Requirement already satisfied: markdown-it-py>=2.2.0 in /home/neverorfrog/.miniconda3/envs/gatr/lib/python3.11/site-packages (from rich<14.0,>=12.3.0->lightning[extra]->-r requirements.txt (line 12)) (3.0.0)\n",
      "Requirement already satisfied: pygments<3.0.0,>=2.13.0 in /home/neverorfrog/.miniconda3/envs/gatr/lib/python3.11/site-packages (from rich<14.0,>=12.3.0->lightning[extra]->-r requirements.txt (line 12)) (2.18.0)\n",
      "Requirement already satisfied: greenlet!=0.4.17 in /home/neverorfrog/.miniconda3/envs/gatr/lib/python3.11/site-packages (from sqlalchemy>=1.3.0->optuna->-r requirements.txt (line 23)) (3.1.1)\n",
      "Requirement already satisfied: distlib<1,>=0.3.7 in /home/neverorfrog/.miniconda3/envs/gatr/lib/python3.11/site-packages (from virtualenv>=20.10.0->pre-commit->-r requirements.txt (line 2)) (0.3.9)\n",
      "Requirement already satisfied: soupsieve>1.2 in /home/neverorfrog/.miniconda3/envs/gatr/lib/python3.11/site-packages (from beautifulsoup4->gdown->-r requirements.txt (line 1)) (2.6)\n",
      "Requirement already satisfied: MarkupSafe>=2.0 in /home/neverorfrog/.miniconda3/envs/gatr/lib/python3.11/site-packages (from jinja2->torch_geometric==2.5.3->-r requirements.txt (line 10)) (3.0.1)\n",
      "Requirement already satisfied: PySocks!=1.5.7,>=1.5.6 in /home/neverorfrog/.miniconda3/envs/gatr/lib/python3.11/site-packages (from requests[socks]->gdown->-r requirements.txt (line 1)) (1.7.1)\n",
      "Requirement already satisfied: joblib>=1.2.0 in /home/neverorfrog/.miniconda3/envs/gatr/lib/python3.11/site-packages (from scikit-learn->torch_geometric==2.5.3->-r requirements.txt (line 10)) (1.4.2)\n",
      "Requirement already satisfied: threadpoolctl>=3.1.0 in /home/neverorfrog/.miniconda3/envs/gatr/lib/python3.11/site-packages (from scikit-learn->torch_geometric==2.5.3->-r requirements.txt (line 10)) (3.5.0)\n",
      "Requirement already satisfied: smmap<6,>=3.0.1 in /home/neverorfrog/.miniconda3/envs/gatr/lib/python3.11/site-packages (from gitdb<5,>=4.0.1->gitpython!=3.1.29,>=1.0.0->wandb->-r requirements.txt (line 21)) (5.0.1)\n",
      "Requirement already satisfied: mdurl~=0.1 in /home/neverorfrog/.miniconda3/envs/gatr/lib/python3.11/site-packages (from markdown-it-py>=2.2.0->rich<14.0,>=12.3.0->lightning[extra]->-r requirements.txt (line 12)) (0.1.2)\n",
      "Requirement already satisfied: importlib-resources>=1.4.0 in /home/neverorfrog/.miniconda3/envs/gatr/lib/python3.11/site-packages (from typeshed-client>=2.1.0->jsonargparse[signatures]<5.0,>=4.27.7; extra == \"extra\"->lightning[extra]->-r requirements.txt (line 12)) (6.4.5)\n",
      "Requirement already satisfied: propcache>=0.2.0 in /home/neverorfrog/.miniconda3/envs/gatr/lib/python3.11/site-packages (from yarl<2.0,>=1.12.0->aiohttp->torch_geometric==2.5.3->-r requirements.txt (line 10)) (0.2.0)\n",
      "[https://github.com/psf/black] already up to date!\n",
      "[https://github.com/pycqa/isort] already up to date!\n",
      "[https://github.com/PyCQA/flake8] already up to date!\n",
      "[https://github.com/pre-commit/mirrors-mypy] already up to date!\n",
      "pre-commit installed at .git/hooks/pre-commit\n"
     ]
    }
   ],
   "source": [
    "import sys\n",
    "import warnings\n",
    "\n",
    "warnings.filterwarnings('ignore')\n",
    "\n",
    "COLAB_RUNTIME = 'google.colab' in sys.modules\n",
    "!nvidia-smi &> /dev/null || echo -e \"\\e[31mWarning: No GPU found. Please check your runtime settings.\\e[0m\"\n",
    "if COLAB_RUNTIME:\n",
    "    !git config --global init.defaultBranch main\n",
    "    !git init\n",
    "    !git remote add origin https://github.com/DaniAffCH/Vessel-Geometric-Transformers.git\n",
    "    !git pull origin main\n",
    "    !pip install -q -r requirements.txt\n",
    "else: # Development mode, setting precommit checks \n",
    "    !pip install -r requirements.txt\n",
    "    !pre-commit autoupdate\n",
    "    !pre-commit install\n"
   ]
  },
  {
   "cell_type": "markdown",
   "metadata": {},
   "source": [
    "Loading the configuration (customizable changing config.yaml)"
   ]
  },
  {
   "cell_type": "code",
   "execution_count": 2,
   "metadata": {},
   "outputs": [],
   "source": [
    "from src.utils import load_config\n",
    "import os\n",
    "\n",
    "config_path = os.path.join(\"config\",\"config.yaml\")\n",
    "config = load_config(config_path)"
   ]
  },
  {
   "cell_type": "markdown",
   "metadata": {},
   "source": [
    "---"
   ]
  },
  {
   "cell_type": "markdown",
   "metadata": {},
   "source": [
    "Loading the dataset and showing statistics"
   ]
  },
  {
   "cell_type": "code",
   "execution_count": 3,
   "metadata": {},
   "outputs": [
    {
     "name": "stdout",
     "output_type": "stream",
     "text": [
      "Train size: 2999\n",
      "Val size: 599\n",
      "Test size: 401\n",
      "One Sample: Data(pos=[9736, 3], wss=[9736, 3], pressure=[9736], face=[3, 19468], inlet_index=[248], label=Category.Single)\n"
     ]
    },
    {
     "name": "stderr",
     "output_type": "stream",
     "text": [
      "100%|██████████| 3999/3999 [00:02<00:00, 1398.55it/s]\n"
     ]
    },
    {
     "data": {
      "text/html": [
       "<div>\n",
       "<style scoped>\n",
       "    .dataframe tbody tr th:only-of-type {\n",
       "        vertical-align: middle;\n",
       "    }\n",
       "\n",
       "    .dataframe tbody tr th {\n",
       "        vertical-align: top;\n",
       "    }\n",
       "\n",
       "    .dataframe thead th {\n",
       "        text-align: right;\n",
       "    }\n",
       "</style>\n",
       "<table border=\"1\" class=\"dataframe\">\n",
       "  <thead>\n",
       "    <tr style=\"text-align: right;\">\n",
       "      <th></th>\n",
       "      <th>Mean</th>\n",
       "      <th>Median</th>\n",
       "      <th>Std</th>\n",
       "      <th>Min</th>\n",
       "      <th>Max</th>\n",
       "    </tr>\n",
       "  </thead>\n",
       "  <tbody>\n",
       "    <tr>\n",
       "      <th>WSS</th>\n",
       "      <td>13011.76019</td>\n",
       "      <td>11387.0</td>\n",
       "      <td>4271.667184</td>\n",
       "      <td>5466</td>\n",
       "      <td>24800</td>\n",
       "    </tr>\n",
       "    <tr>\n",
       "      <th>POS</th>\n",
       "      <td>13011.76019</td>\n",
       "      <td>11387.0</td>\n",
       "      <td>4271.667184</td>\n",
       "      <td>5466</td>\n",
       "      <td>24800</td>\n",
       "    </tr>\n",
       "    <tr>\n",
       "      <th>FACE</th>\n",
       "      <td>26019.52038</td>\n",
       "      <td>22770.0</td>\n",
       "      <td>8543.334368</td>\n",
       "      <td>10928</td>\n",
       "      <td>49596</td>\n",
       "    </tr>\n",
       "    <tr>\n",
       "      <th>PRESSURE</th>\n",
       "      <td>13011.76019</td>\n",
       "      <td>11387.0</td>\n",
       "      <td>4271.667184</td>\n",
       "      <td>5466</td>\n",
       "      <td>24800</td>\n",
       "    </tr>\n",
       "  </tbody>\n",
       "</table>\n",
       "</div>"
      ],
      "text/plain": [
       "                 Mean   Median          Std    Min    Max\n",
       "WSS       13011.76019  11387.0  4271.667184   5466  24800\n",
       "POS       13011.76019  11387.0  4271.667184   5466  24800\n",
       "FACE      26019.52038  22770.0  8543.334368  10928  49596\n",
       "PRESSURE  13011.76019  11387.0  4271.667184   5466  24800"
      ]
     },
     "metadata": {},
     "output_type": "display_data"
    }
   ],
   "source": [
    "from src.data import VesselDataModule\n",
    "from src.utils.data_analysis import data_info\n",
    "\n",
    "data = VesselDataModule(config.dataset)\n",
    "\n",
    "data_info(data)"
   ]
  },
  {
   "cell_type": "markdown",
   "metadata": {},
   "source": [
    "Showing label distribution to check whether train, validation and test set are balanced"
   ]
  },
  {
   "cell_type": "code",
   "execution_count": null,
   "metadata": {},
   "outputs": [],
   "source": [
    "import seaborn as sns\n",
    "import numpy as np\n",
    "import pandas as pd\n",
    "import matplotlib.pyplot as plt\n",
    "\n",
    "train_labels = data.train_set.getLabels()\n",
    "val_labels = data.val_set.getLabels()\n",
    "test_labels = data.test_set.getLabels()\n",
    "\n",
    "combined_labels = np.concatenate([train_labels, val_labels, test_labels])\n",
    "subsets = ['train'] * len(train_labels) + ['val'] * len(val_labels) + ['test'] * len(test_labels)\n",
    "\n",
    "df = pd.DataFrame({'label': combined_labels, 'subset': subsets})\n",
    "\n",
    "df['count'] = df.groupby(['subset', 'label'])['label'].transform('count')\n",
    "df['total'] = df.groupby('subset')['label'].transform('count')\n",
    "df['frequency'] = df['count'] / df['total']\n",
    "\n",
    "df_normalized = df.drop_duplicates(subset=['label', 'subset'])\n",
    "\n",
    "sns.set_theme(style='whitegrid')\n",
    "\n",
    "plt.figure(figsize=(12, 6))\n",
    "\n",
    "sns.barplot(x='subset', y='frequency', hue='label', data=df_normalized)\n",
    "\n",
    "plt.title('Normalized Label Distribution Across Train, Validation, and Test Sets')\n",
    "plt.xlabel('Dataset Subset')\n",
    "plt.ylabel('Normalized Frequency')\n",
    "plt.legend(title='Label', loc='upper right')\n",
    "plt.xticks(rotation=0)\n",
    "plt.tight_layout()\n",
    "plt.show()\n"
   ]
  },
  {
   "cell_type": "markdown",
   "metadata": {},
   "source": [
    "Plotting the data distribution projected in 2D using Principal Component Analysis."
   ]
  },
  {
   "cell_type": "code",
   "execution_count": null,
   "metadata": {},
   "outputs": [],
   "source": [
    "from src.utils.definitions import Feature, Category\n",
    "from src.utils.data_analysis import plot_data\n",
    "\n",
    "wss, labels = data.extract_feature(Feature.WSS)\n",
    "pos, labels = data.extract_feature(Feature.POS)\n",
    "pressure, labels = data.extract_feature(Feature.PRESSURE)\n",
    "face, labels = data.extract_feature(Feature.FACE)\n",
    "plot_data(pos, labels, Category, \"Position\")\n",
    "plot_data(wss, labels, Category, \"Wall Shear Stress\")\n",
    "plot_data(pressure, labels, Category, \"Pressure\")\n",
    "plot_data(face, labels, Category, \"Face\")"
   ]
  },
  {
   "cell_type": "markdown",
   "metadata": {},
   "source": [
    "---"
   ]
  },
  {
   "cell_type": "markdown",
   "metadata": {},
   "source": [
    "Performing equivariance check using random samples from the dataset.  \n",
    "Geometric Layer is expected to fail due to lack of distance-aware dot product"
   ]
  },
  {
   "cell_type": "code",
   "execution_count": null,
   "metadata": {},
   "outputs": [],
   "source": [
    "from src.lib.geometricAlgebraElements import GeometricAlgebraBase\n",
    "from src.test.test_equivariance import TestEquivariance\n",
    "import unittest\n",
    "\n",
    "dl = data.train_dataloader()\n",
    "\n",
    "batch = next(iter(dl)).data[0]\n",
    "batch = batch.view(-1, GeometricAlgebraBase.GA_size)[:10]\n",
    "TestEquivariance.INPUT_DATA = batch\n",
    "\n",
    "suite = unittest.TestSuite()\n",
    "suite.addTests(unittest.TestLoader().loadTestsFromTestCase(TestEquivariance))\n",
    "test_runner = unittest.TextTestRunner(verbosity=0)\n",
    "restResult = test_runner.run(suite)"
   ]
  },
  {
   "cell_type": "markdown",
   "metadata": {},
   "source": [
    "---"
   ]
  },
  {
   "cell_type": "markdown",
   "metadata": {},
   "source": [
    "# MLP Baseline"
   ]
  },
  {
   "cell_type": "code",
   "execution_count": null,
   "metadata": {},
   "outputs": [
    {
     "name": "stderr",
     "output_type": "stream",
     "text": [
      "\u001b[34m\u001b[1mwandb\u001b[0m: Using wandb-core as the SDK backend. Please refer to https://wandb.me/wandb-core for more information.\n",
      "\u001b[34m\u001b[1mwandb\u001b[0m: Currently logged in as: \u001b[33mneverorfrog\u001b[0m (\u001b[33mneverorfrog-sapienza\u001b[0m). Use \u001b[1m`wandb login --relogin`\u001b[0m to force relogin\n",
      "\u001b[34m\u001b[1mwandb\u001b[0m: \u001b[33mWARNING\u001b[0m If you're specifying your api key in code, ensure this code is not shared publicly.\n",
      "\u001b[34m\u001b[1mwandb\u001b[0m: \u001b[33mWARNING\u001b[0m Consider setting the WANDB_API_KEY environment variable, or running `wandb login` from the command line.\n",
      "\u001b[34m\u001b[1mwandb\u001b[0m: Appending key for api.wandb.ai to your netrc file: /home/neverorfrog/.netrc\n"
     ]
    },
    {
     "data": {
      "text/html": [
       "Tracking run with wandb version 0.18.5"
      ],
      "text/plain": [
       "<IPython.core.display.HTML object>"
      ]
     },
     "metadata": {},
     "output_type": "display_data"
    },
    {
     "data": {
      "text/html": [
       "Run data is saved locally in <code>/home/neverorfrog/code/deep-learning/gatr/wandb/run-20241024_232906-9f8j9e0d</code>"
      ],
      "text/plain": [
       "<IPython.core.display.HTML object>"
      ]
     },
     "metadata": {},
     "output_type": "display_data"
    },
    {
     "data": {
      "text/html": [
       "Syncing run <strong><a href='https://wandb.ai/neverorfrog-sapienza/Vessel-Geometric-Transformers/runs/9f8j9e0d' target=\"_blank\">exalted-microwave-47</a></strong> to <a href='https://wandb.ai/neverorfrog-sapienza/Vessel-Geometric-Transformers' target=\"_blank\">Weights & Biases</a> (<a href='https://wandb.me/run' target=\"_blank\">docs</a>)<br/>"
      ],
      "text/plain": [
       "<IPython.core.display.HTML object>"
      ]
     },
     "metadata": {},
     "output_type": "display_data"
    },
    {
     "data": {
      "text/html": [
       " View project at <a href='https://wandb.ai/neverorfrog-sapienza/Vessel-Geometric-Transformers' target=\"_blank\">https://wandb.ai/neverorfrog-sapienza/Vessel-Geometric-Transformers</a>"
      ],
      "text/plain": [
       "<IPython.core.display.HTML object>"
      ]
     },
     "metadata": {},
     "output_type": "display_data"
    },
    {
     "data": {
      "text/html": [
       " View run at <a href='https://wandb.ai/neverorfrog-sapienza/Vessel-Geometric-Transformers/runs/9f8j9e0d' target=\"_blank\">https://wandb.ai/neverorfrog-sapienza/Vessel-Geometric-Transformers/runs/9f8j9e0d</a>"
      ],
      "text/plain": [
       "<IPython.core.display.HTML object>"
      ]
     },
     "metadata": {},
     "output_type": "display_data"
    },
    {
     "name": "stderr",
     "output_type": "stream",
     "text": [
      "GPU available: False, used: False\n",
      "TPU available: False, using: 0 TPU cores\n",
      "HPU available: False, using: 0 HPUs\n",
      "\n",
      "  | Name           | Type              | Params | Mode \n",
      "-------------------------------------------------------------\n",
      "0 | loss_fn        | BCEWithLogitsLoss | 0      | train\n",
      "1 | train_accuracy | BinaryAccuracy    | 0      | train\n",
      "2 | val_accuracy   | BinaryAccuracy    | 0      | train\n",
      "3 | test_accuracy  | BinaryAccuracy    | 0      | train\n",
      "4 | train_f1       | BinaryF1Score     | 0      | train\n",
      "5 | val_f1         | BinaryF1Score     | 0      | train\n",
      "6 | test_f1        | BinaryF1Score     | 0      | train\n",
      "7 | fc             | Sequential        | 307 K  | train\n",
      "-------------------------------------------------------------\n",
      "307 K     Trainable params\n",
      "0         Non-trainable params\n",
      "307 K     Total params\n",
      "1.229     Total estimated model params size (MB)\n",
      "13        Modules in train mode\n",
      "0         Modules in eval mode\n"
     ]
    },
    {
     "name": "stdout",
     "output_type": "stream",
     "text": [
      "Epoch 0: 100%|██████████| 375/375 [00:04<00:00, 78.67it/s, v_num=9e0d, val/loss=0.156, val/acc=0.970, val/f1=0.970, train/loss=0.383, train/acc=0.900, train/f1=0.897]"
     ]
    },
    {
     "name": "stderr",
     "output_type": "stream",
     "text": [
      "Metric val/loss improved. New best score: 0.156\n",
      "Epoch 0, global step 375: 'val/loss' reached 0.15650 (best 0.15650), saving model to '/home/neverorfrog/code/deep-learning/gatr/ckpt/epoch=0-step=375.ckpt' as top 1\n"
     ]
    },
    {
     "name": "stdout",
     "output_type": "stream",
     "text": [
      "Epoch 1: 100%|██████████| 375/375 [00:05<00:00, 71.77it/s, v_num=9e0d, val/loss=0.0851, val/acc=0.980, val/f1=0.980, train/loss=0.106, train/acc=0.980, train/f1=0.981]"
     ]
    },
    {
     "name": "stderr",
     "output_type": "stream",
     "text": [
      "Metric val/loss improved by 0.071 >= min_delta = 1e-05. New best score: 0.085\n",
      "Epoch 1, global step 750: 'val/loss' reached 0.08509 (best 0.08509), saving model to '/home/neverorfrog/code/deep-learning/gatr/ckpt/epoch=1-step=750.ckpt' as top 1\n"
     ]
    },
    {
     "name": "stdout",
     "output_type": "stream",
     "text": [
      "Epoch 2: 100%|██████████| 375/375 [00:04<00:00, 87.90it/s, v_num=9e0d, val/loss=0.0851, val/acc=0.980, val/f1=0.980, train/loss=0.106, train/acc=0.980, train/f1=0.981]"
     ]
    },
    {
     "name": "stderr",
     "output_type": "stream",
     "text": [
      "Exception ignored in: <function _releaseLock at 0x7da8e2fb0ea0>\n",
      "Traceback (most recent call last):\n",
      "  File \"/home/neverorfrog/.miniconda3/envs/gatr/lib/python3.11/logging/__init__.py\", line 237, in _releaseLock\n",
      "    def _releaseLock():\n",
      "    \n",
      "KeyboardInterrupt: \n"
     ]
    },
    {
     "name": "stdout",
     "output_type": "stream",
     "text": [
      "Epoch 2: 100%|██████████| 375/375 [00:05<00:00, 70.30it/s, v_num=9e0d, val/loss=0.0661, val/acc=0.980, val/f1=0.980, train/loss=0.0685, train/acc=0.983, train/f1=0.983]"
     ]
    },
    {
     "name": "stderr",
     "output_type": "stream",
     "text": [
      "Metric val/loss improved by 0.019 >= min_delta = 1e-05. New best score: 0.066\n",
      "Epoch 2, global step 1125: 'val/loss' reached 0.06606 (best 0.06606), saving model to '/home/neverorfrog/code/deep-learning/gatr/ckpt/epoch=2-step=1125.ckpt' as top 1\n"
     ]
    },
    {
     "name": "stdout",
     "output_type": "stream",
     "text": [
      "Epoch 3: 100%|██████████| 375/375 [00:05<00:00, 69.42it/s, v_num=9e0d, val/loss=0.0571, val/acc=0.982, val/f1=0.981, train/loss=0.0517, train/acc=0.985, train/f1=0.986]"
     ]
    },
    {
     "name": "stderr",
     "output_type": "stream",
     "text": [
      "Metric val/loss improved by 0.009 >= min_delta = 1e-05. New best score: 0.057\n",
      "Epoch 3, global step 1500: 'val/loss' reached 0.05706 (best 0.05706), saving model to '/home/neverorfrog/code/deep-learning/gatr/ckpt/epoch=3-step=1500.ckpt' as top 1\n"
     ]
    },
    {
     "name": "stdout",
     "output_type": "stream",
     "text": [
      "Epoch 4: 100%|██████████| 375/375 [00:04<00:00, 86.99it/s, v_num=9e0d, val/loss=0.0571, val/acc=0.982, val/f1=0.981, train/loss=0.0517, train/acc=0.985, train/f1=0.986]"
     ]
    }
   ],
   "source": [
    "from src.trainer import VesselTrainer\n",
    "from src.models import BaselineMLP\n",
    "\n",
    "model = BaselineMLP(config.mlp)\n",
    "trainer = VesselTrainer(config.trainer, \"mlp\")\n",
    "trainer.fit(model, data)"
   ]
  },
  {
   "cell_type": "code",
   "execution_count": null,
   "metadata": {},
   "outputs": [],
   "source": [
    "trainer.test(model, data)"
   ]
  },
  {
   "cell_type": "markdown",
   "metadata": {},
   "source": [
    "# Attention based Baseline"
   ]
  },
  {
   "cell_type": "markdown",
   "metadata": {},
   "source": [
    "Running hyperparameter optimization to find the best hyperparameters maximizing the validation accuracy"
   ]
  },
  {
   "cell_type": "code",
   "execution_count": null,
   "metadata": {},
   "outputs": [],
   "source": [
    "from src.utils.hpo import baseline_hpo\n",
    "\n",
    "baseline_hpo(config, data) # Hyperparameter optimization: writes the config file with the best hyperparameters"
   ]
  },
  {
   "cell_type": "markdown",
   "metadata": {},
   "source": [
    "Training the model using the best hyperparameters"
   ]
  },
  {
   "cell_type": "code",
   "execution_count": null,
   "metadata": {},
   "outputs": [],
   "source": [
    "from src.trainer import VesselTrainer\n",
    "from src.models import BaselineTransformer\n",
    "\n",
    "model = BaselineTransformer(config.baseline)\n",
    "trainer = VesselTrainer(config.trainer, \"transformer\")\n",
    "trainer.fit(model, data)"
   ]
  },
  {
   "cell_type": "markdown",
   "metadata": {},
   "source": [
    "Test the model performance on unseen test data."
   ]
  },
  {
   "cell_type": "code",
   "execution_count": null,
   "metadata": {},
   "outputs": [],
   "source": [
    "trainer.test(model, data)"
   ]
  },
  {
   "cell_type": "markdown",
   "metadata": {},
   "source": [
    "---"
   ]
  },
  {
   "cell_type": "markdown",
   "metadata": {},
   "source": [
    "# GATr"
   ]
  },
  {
   "cell_type": "markdown",
   "metadata": {},
   "source": [
    "Running hyperparameter optimization to find the best hyperparameters maximizing the validation accuracy"
   ]
  },
  {
   "cell_type": "code",
   "execution_count": null,
   "metadata": {},
   "outputs": [],
   "source": [
    "from src.models import Gatr\n",
    "from src.utils.hpo import gatr_hpo\n",
    "\n",
    "gatr_hpo(config, data) # Hyperparameter optimization: writes the config file with the best hyperparameters"
   ]
  },
  {
   "cell_type": "markdown",
   "metadata": {},
   "source": [
    "Training the model using the best hyperparameters"
   ]
  },
  {
   "cell_type": "code",
   "execution_count": null,
   "metadata": {},
   "outputs": [],
   "source": [
    "from src.trainer import VesselTrainer\n",
    "\n",
    "model = Gatr(config.gatr)\n",
    "trainer = VesselTrainer(config.trainer, \"gatr\")\n",
    "trainer.fit(model, data)"
   ]
  },
  {
   "cell_type": "markdown",
   "metadata": {},
   "source": [
    "Test the model performance on unseen test data."
   ]
  },
  {
   "cell_type": "code",
   "execution_count": null,
   "metadata": {},
   "outputs": [],
   "source": [
    "trainer.test(model, data)"
   ]
  },
  {
   "cell_type": "markdown",
   "metadata": {},
   "source": [
    "----"
   ]
  }
 ],
 "metadata": {
  "kernelspec": {
   "display_name": "gatr",
   "language": "python",
   "name": "python3"
  },
  "language_info": {
   "codemirror_mode": {
    "name": "ipython",
    "version": 3
   },
   "file_extension": ".py",
   "mimetype": "text/x-python",
   "name": "python",
   "nbconvert_exporter": "python",
   "pygments_lexer": "ipython3",
   "version": "3.11.10"
  }
 },
 "nbformat": 4,
 "nbformat_minor": 2
}
