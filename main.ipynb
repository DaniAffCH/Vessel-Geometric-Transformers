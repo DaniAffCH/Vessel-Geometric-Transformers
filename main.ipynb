{
 "cells": [
  {
   "cell_type": "markdown",
   "metadata": {},
   "source": [
    "You can run this notebook directly on Google Colab\n",
    "\n",
    "[![Open In Colab](https://colab.research.google.com/assets/colab-badge.svg)](https://colab.research.google.com/github/DaniAffCH/Vessel-Geometric-Transformers/blob/main/main.ipynb)"
   ]
  },
  {
   "cell_type": "code",
   "execution_count": 1,
   "metadata": {},
   "outputs": [
    {
     "name": "stdout",
     "output_type": "stream",
     "text": [
      "Requirement already satisfied: gdown in ./.venv/lib/python3.10/site-packages (from -r requirements.txt (line 1)) (5.2.0)\n",
      "Requirement already satisfied: pre-commit in ./.venv/lib/python3.10/site-packages (from -r requirements.txt (line 2)) (3.7.1)\n",
      "Requirement already satisfied: flake8 in ./.venv/lib/python3.10/site-packages (from -r requirements.txt (line 3)) (7.0.0)\n",
      "Requirement already satisfied: black in ./.venv/lib/python3.10/site-packages (from -r requirements.txt (line 4)) (24.4.2)\n",
      "Requirement already satisfied: mypy in ./.venv/lib/python3.10/site-packages (from -r requirements.txt (line 5)) (1.10.0)\n",
      "Requirement already satisfied: h5py in ./.venv/lib/python3.10/site-packages (from -r requirements.txt (line 6)) (3.11.0)\n",
      "Requirement already satisfied: numba==0.58.1 in ./.venv/lib/python3.10/site-packages (from -r requirements.txt (line 7)) (0.58.1)\n",
      "Requirement already satisfied: einops in ./.venv/lib/python3.10/site-packages (from -r requirements.txt (line 8)) (0.8.0)\n",
      "Requirement already satisfied: torch in ./.venv/lib/python3.10/site-packages (from -r requirements.txt (line 9)) (2.4.0)\n",
      "Requirement already satisfied: torch_geometric==2.5.3 in ./.venv/lib/python3.10/site-packages (from -r requirements.txt (line 10)) (2.5.3)\n",
      "Requirement already satisfied: lightning in ./.venv/lib/python3.10/site-packages (from -r requirements.txt (line 11)) (2.3.3)\n",
      "Requirement already satisfied: tqdm in ./.venv/lib/python3.10/site-packages (from -r requirements.txt (line 13)) (4.66.4)\n",
      "Requirement already satisfied: omegaconf in ./.venv/lib/python3.10/site-packages (from -r requirements.txt (line 14)) (2.3.0)\n",
      "Requirement already satisfied: pandas in ./.venv/lib/python3.10/site-packages (from -r requirements.txt (line 15)) (2.2.2)\n",
      "Requirement already satisfied: pathlib in ./.venv/lib/python3.10/site-packages (from -r requirements.txt (line 16)) (1.0.1)\n",
      "Requirement already satisfied: pytest in ./.venv/lib/python3.10/site-packages (from -r requirements.txt (line 17)) (8.3.2)\n",
      "Requirement already satisfied: pyyaml in ./.venv/lib/python3.10/site-packages (from -r requirements.txt (line 18)) (6.0.1)\n",
      "Requirement already satisfied: types-PyYAML in ./.venv/lib/python3.10/site-packages (from -r requirements.txt (line 19)) (6.0.12.20240724)\n",
      "Requirement already satisfied: types-tqdm in ./.venv/lib/python3.10/site-packages (from -r requirements.txt (line 20)) (4.66.0.20240417)\n",
      "Requirement already satisfied: wandb in ./.venv/lib/python3.10/site-packages (from -r requirements.txt (line 21)) (0.17.7)\n",
      "Requirement already satisfied: clifford in ./.venv/lib/python3.10/site-packages (from -r requirements.txt (line 22)) (1.4.0)\n",
      "Requirement already satisfied: optuna in ./.venv/lib/python3.10/site-packages (from -r requirements.txt (line 23)) (3.6.1)\n",
      "Requirement already satisfied: seaborn in ./.venv/lib/python3.10/site-packages (from -r requirements.txt (line 24)) (0.13.2)\n",
      "Requirement already satisfied: llvmlite<0.42,>=0.41.0dev0 in ./.venv/lib/python3.10/site-packages (from numba==0.58.1->-r requirements.txt (line 7)) (0.41.1)\n",
      "Requirement already satisfied: numpy<1.27,>=1.22 in ./.venv/lib/python3.10/site-packages (from numba==0.58.1->-r requirements.txt (line 7)) (1.26.4)\n",
      "Requirement already satisfied: scipy in ./.venv/lib/python3.10/site-packages (from torch_geometric==2.5.3->-r requirements.txt (line 10)) (1.13.0)\n",
      "Requirement already satisfied: fsspec in ./.venv/lib/python3.10/site-packages (from torch_geometric==2.5.3->-r requirements.txt (line 10)) (2024.3.1)\n",
      "Requirement already satisfied: jinja2 in ./.venv/lib/python3.10/site-packages (from torch_geometric==2.5.3->-r requirements.txt (line 10)) (3.1.4)\n",
      "Requirement already satisfied: aiohttp in ./.venv/lib/python3.10/site-packages (from torch_geometric==2.5.3->-r requirements.txt (line 10)) (3.9.5)\n",
      "Requirement already satisfied: requests in ./.venv/lib/python3.10/site-packages (from torch_geometric==2.5.3->-r requirements.txt (line 10)) (2.31.0)\n",
      "Requirement already satisfied: pyparsing in ./.venv/lib/python3.10/site-packages (from torch_geometric==2.5.3->-r requirements.txt (line 10)) (3.1.2)\n",
      "Requirement already satisfied: scikit-learn in ./.venv/lib/python3.10/site-packages (from torch_geometric==2.5.3->-r requirements.txt (line 10)) (1.4.2)\n",
      "Requirement already satisfied: psutil>=5.8.0 in ./.venv/lib/python3.10/site-packages (from torch_geometric==2.5.3->-r requirements.txt (line 10)) (5.9.8)\n",
      "Requirement already satisfied: beautifulsoup4 in ./.venv/lib/python3.10/site-packages (from gdown->-r requirements.txt (line 1)) (4.12.3)\n",
      "Requirement already satisfied: filelock in ./.venv/lib/python3.10/site-packages (from gdown->-r requirements.txt (line 1)) (3.14.0)\n",
      "Requirement already satisfied: cfgv>=2.0.0 in ./.venv/lib/python3.10/site-packages (from pre-commit->-r requirements.txt (line 2)) (3.4.0)\n",
      "Requirement already satisfied: identify>=1.0.0 in ./.venv/lib/python3.10/site-packages (from pre-commit->-r requirements.txt (line 2)) (2.5.36)\n",
      "Requirement already satisfied: nodeenv>=0.11.1 in ./.venv/lib/python3.10/site-packages (from pre-commit->-r requirements.txt (line 2)) (1.8.0)\n",
      "Requirement already satisfied: virtualenv>=20.10.0 in ./.venv/lib/python3.10/site-packages (from pre-commit->-r requirements.txt (line 2)) (20.26.1)\n",
      "Requirement already satisfied: mccabe<0.8.0,>=0.7.0 in ./.venv/lib/python3.10/site-packages (from flake8->-r requirements.txt (line 3)) (0.7.0)\n",
      "Requirement already satisfied: pycodestyle<2.12.0,>=2.11.0 in ./.venv/lib/python3.10/site-packages (from flake8->-r requirements.txt (line 3)) (2.11.1)\n",
      "Requirement already satisfied: pyflakes<3.3.0,>=3.2.0 in ./.venv/lib/python3.10/site-packages (from flake8->-r requirements.txt (line 3)) (3.2.0)\n",
      "Requirement already satisfied: click>=8.0.0 in ./.venv/lib/python3.10/site-packages (from black->-r requirements.txt (line 4)) (8.1.7)\n",
      "Requirement already satisfied: mypy-extensions>=0.4.3 in ./.venv/lib/python3.10/site-packages (from black->-r requirements.txt (line 4)) (1.0.0)\n",
      "Requirement already satisfied: packaging>=22.0 in ./.venv/lib/python3.10/site-packages (from black->-r requirements.txt (line 4)) (24.0)\n",
      "Requirement already satisfied: pathspec>=0.9.0 in ./.venv/lib/python3.10/site-packages (from black->-r requirements.txt (line 4)) (0.12.1)\n",
      "Requirement already satisfied: platformdirs>=2 in ./.venv/lib/python3.10/site-packages (from black->-r requirements.txt (line 4)) (4.2.1)\n",
      "Requirement already satisfied: tomli>=1.1.0 in ./.venv/lib/python3.10/site-packages (from black->-r requirements.txt (line 4)) (2.0.1)\n",
      "Requirement already satisfied: typing-extensions>=4.0.1 in ./.venv/lib/python3.10/site-packages (from black->-r requirements.txt (line 4)) (4.11.0)\n",
      "Requirement already satisfied: sympy in ./.venv/lib/python3.10/site-packages (from torch->-r requirements.txt (line 9)) (1.12)\n",
      "Requirement already satisfied: networkx in ./.venv/lib/python3.10/site-packages (from torch->-r requirements.txt (line 9)) (3.3)\n",
      "Requirement already satisfied: nvidia-cuda-nvrtc-cu12==12.1.105 in ./.venv/lib/python3.10/site-packages (from torch->-r requirements.txt (line 9)) (12.1.105)\n",
      "Requirement already satisfied: nvidia-cuda-runtime-cu12==12.1.105 in ./.venv/lib/python3.10/site-packages (from torch->-r requirements.txt (line 9)) (12.1.105)\n",
      "Requirement already satisfied: nvidia-cuda-cupti-cu12==12.1.105 in ./.venv/lib/python3.10/site-packages (from torch->-r requirements.txt (line 9)) (12.1.105)\n",
      "Requirement already satisfied: nvidia-cudnn-cu12==9.1.0.70 in ./.venv/lib/python3.10/site-packages (from torch->-r requirements.txt (line 9)) (9.1.0.70)\n",
      "Requirement already satisfied: nvidia-cublas-cu12==12.1.3.1 in ./.venv/lib/python3.10/site-packages (from torch->-r requirements.txt (line 9)) (12.1.3.1)\n",
      "Requirement already satisfied: nvidia-cufft-cu12==11.0.2.54 in ./.venv/lib/python3.10/site-packages (from torch->-r requirements.txt (line 9)) (11.0.2.54)\n",
      "Requirement already satisfied: nvidia-curand-cu12==10.3.2.106 in ./.venv/lib/python3.10/site-packages (from torch->-r requirements.txt (line 9)) (10.3.2.106)\n",
      "Requirement already satisfied: nvidia-cusolver-cu12==11.4.5.107 in ./.venv/lib/python3.10/site-packages (from torch->-r requirements.txt (line 9)) (11.4.5.107)\n",
      "Requirement already satisfied: nvidia-cusparse-cu12==12.1.0.106 in ./.venv/lib/python3.10/site-packages (from torch->-r requirements.txt (line 9)) (12.1.0.106)\n",
      "Requirement already satisfied: nvidia-nccl-cu12==2.20.5 in ./.venv/lib/python3.10/site-packages (from torch->-r requirements.txt (line 9)) (2.20.5)\n",
      "Requirement already satisfied: nvidia-nvtx-cu12==12.1.105 in ./.venv/lib/python3.10/site-packages (from torch->-r requirements.txt (line 9)) (12.1.105)\n",
      "Requirement already satisfied: triton==3.0.0 in ./.venv/lib/python3.10/site-packages (from torch->-r requirements.txt (line 9)) (3.0.0)\n",
      "Requirement already satisfied: nvidia-nvjitlink-cu12 in ./.venv/lib/python3.10/site-packages (from nvidia-cusolver-cu12==11.4.5.107->torch->-r requirements.txt (line 9)) (12.4.127)\n",
      "Requirement already satisfied: lightning-utilities<2.0,>=0.10.0 in ./.venv/lib/python3.10/site-packages (from lightning->-r requirements.txt (line 11)) (0.11.6)\n",
      "Requirement already satisfied: torchmetrics<3.0,>=0.7.0 in ./.venv/lib/python3.10/site-packages (from lightning->-r requirements.txt (line 11)) (1.4.0.post0)\n",
      "Requirement already satisfied: pytorch-lightning in ./.venv/lib/python3.10/site-packages (from lightning->-r requirements.txt (line 11)) (2.3.3)\n",
      "Requirement already satisfied: bitsandbytes<1.0,>=0.42.0 in ./.venv/lib/python3.10/site-packages (from lightning[extra]->-r requirements.txt (line 12)) (0.43.3)\n",
      "Requirement already satisfied: hydra-core<2.0,>=1.2.0 in ./.venv/lib/python3.10/site-packages (from lightning[extra]->-r requirements.txt (line 12)) (1.3.2)\n",
      "Requirement already satisfied: jsonargparse<5.0,>=4.27.7 in ./.venv/lib/python3.10/site-packages (from jsonargparse[signatures]<5.0,>=4.27.7; extra == \"extra\"->lightning[extra]->-r requirements.txt (line 12)) (4.32.0)\n",
      "Requirement already satisfied: matplotlib<4.0,>3.1 in ./.venv/lib/python3.10/site-packages (from lightning[extra]->-r requirements.txt (line 12)) (3.9.1)\n",
      "Requirement already satisfied: rich<14.0,>=12.3.0 in ./.venv/lib/python3.10/site-packages (from lightning[extra]->-r requirements.txt (line 12)) (13.7.1)\n",
      "Requirement already satisfied: tensorboardX<3.0,>=2.2 in ./.venv/lib/python3.10/site-packages (from lightning[extra]->-r requirements.txt (line 12)) (2.6.2.2)\n",
      "Requirement already satisfied: antlr4-python3-runtime==4.9.* in ./.venv/lib/python3.10/site-packages (from omegaconf->-r requirements.txt (line 14)) (4.9.3)\n",
      "Requirement already satisfied: python-dateutil>=2.8.2 in ./.venv/lib/python3.10/site-packages (from pandas->-r requirements.txt (line 15)) (2.9.0.post0)\n",
      "Requirement already satisfied: pytz>=2020.1 in ./.venv/lib/python3.10/site-packages (from pandas->-r requirements.txt (line 15)) (2024.1)\n",
      "Requirement already satisfied: tzdata>=2022.7 in ./.venv/lib/python3.10/site-packages (from pandas->-r requirements.txt (line 15)) (2024.1)\n",
      "Requirement already satisfied: iniconfig in ./.venv/lib/python3.10/site-packages (from pytest->-r requirements.txt (line 17)) (2.0.0)\n",
      "Requirement already satisfied: pluggy<2,>=1.5 in ./.venv/lib/python3.10/site-packages (from pytest->-r requirements.txt (line 17)) (1.5.0)\n",
      "Requirement already satisfied: exceptiongroup>=1.0.0rc8 in ./.venv/lib/python3.10/site-packages (from pytest->-r requirements.txt (line 17)) (1.2.1)\n",
      "Requirement already satisfied: docker-pycreds>=0.4.0 in ./.venv/lib/python3.10/site-packages (from wandb->-r requirements.txt (line 21)) (0.4.0)\n",
      "Requirement already satisfied: gitpython!=3.1.29,>=1.0.0 in ./.venv/lib/python3.10/site-packages (from wandb->-r requirements.txt (line 21)) (3.1.43)\n",
      "Requirement already satisfied: protobuf!=4.21.0,<6,>=3.19.0 in ./.venv/lib/python3.10/site-packages (from wandb->-r requirements.txt (line 21)) (5.27.3)\n",
      "Requirement already satisfied: sentry-sdk>=1.0.0 in ./.venv/lib/python3.10/site-packages (from wandb->-r requirements.txt (line 21)) (2.13.0)\n",
      "Requirement already satisfied: setproctitle in ./.venv/lib/python3.10/site-packages (from wandb->-r requirements.txt (line 21)) (1.3.3)\n",
      "Requirement already satisfied: setuptools in ./.venv/lib/python3.10/site-packages (from wandb->-r requirements.txt (line 21)) (59.6.0)\n",
      "Requirement already satisfied: sparse in ./.venv/lib/python3.10/site-packages (from clifford->-r requirements.txt (line 22)) (0.15.4)\n",
      "Requirement already satisfied: alembic>=1.5.0 in ./.venv/lib/python3.10/site-packages (from optuna->-r requirements.txt (line 23)) (1.13.2)\n",
      "Requirement already satisfied: colorlog in ./.venv/lib/python3.10/site-packages (from optuna->-r requirements.txt (line 23)) (6.8.2)\n",
      "Requirement already satisfied: sqlalchemy>=1.3.0 in ./.venv/lib/python3.10/site-packages (from optuna->-r requirements.txt (line 23)) (2.0.32)\n",
      "Requirement already satisfied: Mako in ./.venv/lib/python3.10/site-packages (from alembic>=1.5.0->optuna->-r requirements.txt (line 23)) (1.3.5)\n",
      "Requirement already satisfied: six>=1.4.0 in ./.venv/lib/python3.10/site-packages (from docker-pycreds>=0.4.0->wandb->-r requirements.txt (line 21)) (1.16.0)\n",
      "Requirement already satisfied: aiosignal>=1.1.2 in ./.venv/lib/python3.10/site-packages (from aiohttp->torch_geometric==2.5.3->-r requirements.txt (line 10)) (1.3.1)\n",
      "Requirement already satisfied: attrs>=17.3.0 in ./.venv/lib/python3.10/site-packages (from aiohttp->torch_geometric==2.5.3->-r requirements.txt (line 10)) (23.2.0)\n",
      "Requirement already satisfied: frozenlist>=1.1.1 in ./.venv/lib/python3.10/site-packages (from aiohttp->torch_geometric==2.5.3->-r requirements.txt (line 10)) (1.4.1)\n",
      "Requirement already satisfied: multidict<7.0,>=4.5 in ./.venv/lib/python3.10/site-packages (from aiohttp->torch_geometric==2.5.3->-r requirements.txt (line 10)) (6.0.5)\n",
      "Requirement already satisfied: yarl<2.0,>=1.0 in ./.venv/lib/python3.10/site-packages (from aiohttp->torch_geometric==2.5.3->-r requirements.txt (line 10)) (1.9.4)\n",
      "Requirement already satisfied: async-timeout<5.0,>=4.0 in ./.venv/lib/python3.10/site-packages (from aiohttp->torch_geometric==2.5.3->-r requirements.txt (line 10)) (4.0.3)\n",
      "Requirement already satisfied: gitdb<5,>=4.0.1 in ./.venv/lib/python3.10/site-packages (from gitpython!=3.1.29,>=1.0.0->wandb->-r requirements.txt (line 21)) (4.0.11)\n",
      "Requirement already satisfied: docstring-parser>=0.15 in ./.venv/lib/python3.10/site-packages (from jsonargparse[signatures]<5.0,>=4.27.7; extra == \"extra\"->lightning[extra]->-r requirements.txt (line 12)) (0.16)\n",
      "Requirement already satisfied: typeshed-client>=2.1.0 in ./.venv/lib/python3.10/site-packages (from jsonargparse[signatures]<5.0,>=4.27.7; extra == \"extra\"->lightning[extra]->-r requirements.txt (line 12)) (2.7.0)\n",
      "Requirement already satisfied: contourpy>=1.0.1 in ./.venv/lib/python3.10/site-packages (from matplotlib<4.0,>3.1->lightning[extra]->-r requirements.txt (line 12)) (1.2.1)\n",
      "Requirement already satisfied: cycler>=0.10 in ./.venv/lib/python3.10/site-packages (from matplotlib<4.0,>3.1->lightning[extra]->-r requirements.txt (line 12)) (0.12.1)\n",
      "Requirement already satisfied: fonttools>=4.22.0 in ./.venv/lib/python3.10/site-packages (from matplotlib<4.0,>3.1->lightning[extra]->-r requirements.txt (line 12)) (4.53.1)\n",
      "Requirement already satisfied: kiwisolver>=1.3.1 in ./.venv/lib/python3.10/site-packages (from matplotlib<4.0,>3.1->lightning[extra]->-r requirements.txt (line 12)) (1.4.5)\n",
      "Requirement already satisfied: pillow>=8 in ./.venv/lib/python3.10/site-packages (from matplotlib<4.0,>3.1->lightning[extra]->-r requirements.txt (line 12)) (10.4.0)\n",
      "Requirement already satisfied: charset-normalizer<4,>=2 in ./.venv/lib/python3.10/site-packages (from requests->torch_geometric==2.5.3->-r requirements.txt (line 10)) (3.3.2)\n",
      "Requirement already satisfied: idna<4,>=2.5 in ./.venv/lib/python3.10/site-packages (from requests->torch_geometric==2.5.3->-r requirements.txt (line 10)) (3.7)\n",
      "Requirement already satisfied: urllib3<3,>=1.21.1 in ./.venv/lib/python3.10/site-packages (from requests->torch_geometric==2.5.3->-r requirements.txt (line 10)) (2.2.1)\n",
      "Requirement already satisfied: certifi>=2017.4.17 in ./.venv/lib/python3.10/site-packages (from requests->torch_geometric==2.5.3->-r requirements.txt (line 10)) (2024.2.2)\n",
      "Requirement already satisfied: markdown-it-py>=2.2.0 in ./.venv/lib/python3.10/site-packages (from rich<14.0,>=12.3.0->lightning[extra]->-r requirements.txt (line 12)) (3.0.0)\n",
      "Requirement already satisfied: pygments<3.0.0,>=2.13.0 in ./.venv/lib/python3.10/site-packages (from rich<14.0,>=12.3.0->lightning[extra]->-r requirements.txt (line 12)) (2.18.0)\n",
      "Requirement already satisfied: greenlet!=0.4.17 in ./.venv/lib/python3.10/site-packages (from sqlalchemy>=1.3.0->optuna->-r requirements.txt (line 23)) (3.0.3)\n",
      "Requirement already satisfied: distlib<1,>=0.3.7 in ./.venv/lib/python3.10/site-packages (from virtualenv>=20.10.0->pre-commit->-r requirements.txt (line 2)) (0.3.8)\n",
      "Requirement already satisfied: soupsieve>1.2 in ./.venv/lib/python3.10/site-packages (from beautifulsoup4->gdown->-r requirements.txt (line 1)) (2.5)\n",
      "Requirement already satisfied: MarkupSafe>=2.0 in ./.venv/lib/python3.10/site-packages (from jinja2->torch_geometric==2.5.3->-r requirements.txt (line 10)) (2.1.5)\n",
      "Requirement already satisfied: PySocks!=1.5.7,>=1.5.6 in ./.venv/lib/python3.10/site-packages (from requests[socks]->gdown->-r requirements.txt (line 1)) (1.7.1)\n",
      "Requirement already satisfied: joblib>=1.2.0 in ./.venv/lib/python3.10/site-packages (from scikit-learn->torch_geometric==2.5.3->-r requirements.txt (line 10)) (1.4.2)\n",
      "Requirement already satisfied: threadpoolctl>=2.0.0 in ./.venv/lib/python3.10/site-packages (from scikit-learn->torch_geometric==2.5.3->-r requirements.txt (line 10)) (3.5.0)\n",
      "Requirement already satisfied: mpmath>=0.19 in ./.venv/lib/python3.10/site-packages (from sympy->torch->-r requirements.txt (line 9)) (1.3.0)\n",
      "Requirement already satisfied: smmap<6,>=3.0.1 in ./.venv/lib/python3.10/site-packages (from gitdb<5,>=4.0.1->gitpython!=3.1.29,>=1.0.0->wandb->-r requirements.txt (line 21)) (5.0.1)\n",
      "Requirement already satisfied: mdurl~=0.1 in ./.venv/lib/python3.10/site-packages (from markdown-it-py>=2.2.0->rich<14.0,>=12.3.0->lightning[extra]->-r requirements.txt (line 12)) (0.1.2)\n",
      "Requirement already satisfied: importlib-resources>=1.4.0 in ./.venv/lib/python3.10/site-packages (from typeshed-client>=2.1.0->jsonargparse[signatures]<5.0,>=4.27.7; extra == \"extra\"->lightning[extra]->-r requirements.txt (line 12)) (6.4.0)\n",
      "\n",
      "\u001b[1m[\u001b[0m\u001b[34;49mnotice\u001b[0m\u001b[1;39;49m]\u001b[0m\u001b[39;49m A new release of pip is available: \u001b[0m\u001b[31;49m24.0\u001b[0m\u001b[39;49m -> \u001b[0m\u001b[32;49m24.2\u001b[0m\n",
      "\u001b[1m[\u001b[0m\u001b[34;49mnotice\u001b[0m\u001b[1;39;49m]\u001b[0m\u001b[39;49m To update, run: \u001b[0m\u001b[32;49mpip install --upgrade pip\u001b[0m\n",
      "[https://github.com/psf/black] already up to date!\n",
      "[https://github.com/pycqa/isort] already up to date!\n",
      "[https://github.com/PyCQA/flake8] already up to date!\n",
      "[https://github.com/pre-commit/mirrors-mypy] updating v1.12.0 -> v1.12.1\n",
      "pre-commit installed at .git/hooks/pre-commit\n"
     ]
    }
   ],
   "source": [
    "import sys\n",
    "import warnings\n",
    "\n",
    "warnings.filterwarnings('ignore')\n",
    "\n",
    "COLAB_RUNTIME = 'google.colab' in sys.modules\n",
    "if COLAB_RUNTIME:\n",
    "    !git config --global init.defaultBranch main\n",
    "    !git init\n",
    "    !git remote add origin https://github.com/DaniAffCH/Vessel-Geometric-Transformers.git\n",
    "    !git pull origin main\n",
    "    !pip install -q -r requirements.txt\n",
    "else: # Development mode, setting precommit checks \n",
    "    !pip install -r requirements.txt\n",
    "    !pre-commit autoupdate\n",
    "    !pre-commit install\n"
   ]
  },
  {
   "cell_type": "markdown",
   "metadata": {},
   "source": [
    "Loading the configuration"
   ]
  },
  {
   "cell_type": "code",
   "execution_count": 1,
   "metadata": {},
   "outputs": [],
   "source": [
    "from src.utils import load_config\n",
    "import os\n",
    "\n",
    "config_path = os.path.join(\"config\",\"config.yaml\")\n",
    "config = load_config(config_path)"
   ]
  },
  {
   "cell_type": "markdown",
   "metadata": {},
   "source": [
    "---"
   ]
  },
  {
   "cell_type": "markdown",
   "metadata": {},
   "source": [
    "Loading the dataset"
   ]
  },
  {
   "cell_type": "code",
   "execution_count": 5,
   "metadata": {},
   "outputs": [
    {
     "name": "stdout",
     "output_type": "stream",
     "text": [
      "Train size: 2999\n",
      "Val size: 599\n",
      "Test size: 401\n"
     ]
    },
    {
     "ename": "AttributeError",
     "evalue": "'int' object has no attribute 'value'",
     "output_type": "error",
     "traceback": [
      "\u001b[0;31m---------------------------------------------------------------------------\u001b[0m",
      "\u001b[0;31mAttributeError\u001b[0m                            Traceback (most recent call last)",
      "Cell \u001b[0;32mIn[5], line 6\u001b[0m\n\u001b[1;32m      4\u001b[0m data \u001b[38;5;241m=\u001b[39m VesselDataModule(config\u001b[38;5;241m.\u001b[39mdataset)\n\u001b[1;32m      5\u001b[0m labels \u001b[38;5;241m=\u001b[39m data\u001b[38;5;241m.\u001b[39mdata\n\u001b[0;32m----> 6\u001b[0m \u001b[43mdata_info\u001b[49m\u001b[43m(\u001b[49m\u001b[43mdata\u001b[49m\u001b[43m)\u001b[49m\n",
      "File \u001b[0;32m~/Uni/Deep_Learning/Vessel-Geometric-Transformers/src/utils/data_analysis.py:20\u001b[0m, in \u001b[0;36mdata_info\u001b[0;34m(data)\u001b[0m\n\u001b[1;32m     18\u001b[0m \u001b[38;5;28mprint\u001b[39m(\u001b[38;5;124mf\u001b[39m\u001b[38;5;124m\"\u001b[39m\u001b[38;5;124mVal size: \u001b[39m\u001b[38;5;132;01m{\u001b[39;00m\u001b[38;5;28mlen\u001b[39m(data\u001b[38;5;241m.\u001b[39mval_set)\u001b[38;5;132;01m}\u001b[39;00m\u001b[38;5;124m\"\u001b[39m)\n\u001b[1;32m     19\u001b[0m \u001b[38;5;28mprint\u001b[39m(\u001b[38;5;124mf\u001b[39m\u001b[38;5;124m\"\u001b[39m\u001b[38;5;124mTest size: \u001b[39m\u001b[38;5;132;01m{\u001b[39;00m\u001b[38;5;28mlen\u001b[39m(data\u001b[38;5;241m.\u001b[39mtest_set)\u001b[38;5;132;01m}\u001b[39;00m\u001b[38;5;124m\"\u001b[39m)\n\u001b[0;32m---> 20\u001b[0m \u001b[38;5;28mprint\u001b[39m(\u001b[38;5;124mf\u001b[39m\u001b[38;5;124m\"\u001b[39m\u001b[38;5;124mOne Sample: \u001b[39m\u001b[38;5;132;01m{\u001b[39;00m\u001b[43mdata\u001b[49m\u001b[38;5;241;43m.\u001b[39;49m\u001b[43mtrain_set\u001b[49m\u001b[43m[\u001b[49m\u001b[38;5;241;43m2\u001b[39;49m\u001b[43m]\u001b[49m\u001b[38;5;132;01m}\u001b[39;00m\u001b[38;5;124m\"\u001b[39m)\n\u001b[1;32m     22\u001b[0m dataset \u001b[38;5;241m=\u001b[39m data\u001b[38;5;241m.\u001b[39mdata\n\u001b[1;32m     24\u001b[0m wss \u001b[38;5;241m=\u001b[39m []\n",
      "File \u001b[0;32m~/Uni/Deep_Learning/Vessel-Geometric-Transformers/src/data/datamodule.py:45\u001b[0m, in \u001b[0;36mInMemorySubset.__getitem__\u001b[0;34m(self, idx)\u001b[0m\n\u001b[1;32m     44\u001b[0m \u001b[38;5;28;01mdef\u001b[39;00m \u001b[38;5;21m__getitem__\u001b[39m(\u001b[38;5;28mself\u001b[39m, idx: \u001b[38;5;28mint\u001b[39m) \u001b[38;5;241m-\u001b[39m\u001b[38;5;241m>\u001b[39m Vessel:\n\u001b[0;32m---> 45\u001b[0m     elem: Vessel \u001b[38;5;241m=\u001b[39m \u001b[43mSubset\u001b[49m\u001b[38;5;241;43m.\u001b[39;49m\u001b[38;5;21;43m__getitem__\u001b[39;49m\u001b[43m(\u001b[49m\u001b[38;5;28;43mself\u001b[39;49m\u001b[43m,\u001b[49m\u001b[43m \u001b[49m\u001b[43midx\u001b[49m\u001b[43m)\u001b[49m\n\u001b[1;32m     46\u001b[0m     \u001b[38;5;28;01mreturn\u001b[39;00m elem\n",
      "File \u001b[0;32m~/Uni/Deep_Learning/Vessel-Geometric-Transformers/.venv/lib/python3.10/site-packages/torch/utils/data/dataset.py:412\u001b[0m, in \u001b[0;36mSubset.__getitem__\u001b[0;34m(self, idx)\u001b[0m\n\u001b[1;32m    410\u001b[0m \u001b[38;5;28;01mif\u001b[39;00m \u001b[38;5;28misinstance\u001b[39m(idx, \u001b[38;5;28mlist\u001b[39m):\n\u001b[1;32m    411\u001b[0m     \u001b[38;5;28;01mreturn\u001b[39;00m \u001b[38;5;28mself\u001b[39m\u001b[38;5;241m.\u001b[39mdataset[[\u001b[38;5;28mself\u001b[39m\u001b[38;5;241m.\u001b[39mindices[i] \u001b[38;5;28;01mfor\u001b[39;00m i \u001b[38;5;129;01min\u001b[39;00m idx]]\n\u001b[0;32m--> 412\u001b[0m \u001b[38;5;28;01mreturn\u001b[39;00m \u001b[38;5;28;43mself\u001b[39;49m\u001b[38;5;241;43m.\u001b[39;49m\u001b[43mdataset\u001b[49m\u001b[43m[\u001b[49m\u001b[38;5;28;43mself\u001b[39;49m\u001b[38;5;241;43m.\u001b[39;49m\u001b[43mindices\u001b[49m\u001b[43m[\u001b[49m\u001b[43midx\u001b[49m\u001b[43m]\u001b[49m\u001b[43m]\u001b[49m\n",
      "File \u001b[0;32m~/Uni/Deep_Learning/Vessel-Geometric-Transformers/src/data/dataset.py:74\u001b[0m, in \u001b[0;36mVesselDataset.__getitem__\u001b[0;34m(self, idx)\u001b[0m\n\u001b[1;32m     72\u001b[0m \u001b[38;5;66;03m# Load the item from the processed data saved in a .hdf5 file\u001b[39;00m\n\u001b[1;32m     73\u001b[0m item_name, category \u001b[38;5;241m=\u001b[39m \u001b[38;5;28mself\u001b[39m\u001b[38;5;241m.\u001b[39mmapping[idx]\n\u001b[0;32m---> 74\u001b[0m \u001b[38;5;28;01mwith\u001b[39;00m h5py\u001b[38;5;241m.\u001b[39mFile(\u001b[38;5;28mself\u001b[39m\u001b[38;5;241m.\u001b[39mraw_paths[\u001b[43mcategory\u001b[49m\u001b[38;5;241;43m.\u001b[39;49m\u001b[43mvalue\u001b[49m], \u001b[38;5;124m\"\u001b[39m\u001b[38;5;124mr\u001b[39m\u001b[38;5;124m\"\u001b[39m) \u001b[38;5;28;01mas\u001b[39;00m f:\n\u001b[1;32m     75\u001b[0m         item: Vessel \u001b[38;5;241m=\u001b[39m \u001b[38;5;28mself\u001b[39m\u001b[38;5;241m.\u001b[39mget_data_from_h5(f[item_name], category)\n\u001b[1;32m     76\u001b[0m \u001b[38;5;28;01mreturn\u001b[39;00m item\n",
      "\u001b[0;31mAttributeError\u001b[0m: 'int' object has no attribute 'value'"
     ]
    }
   ],
   "source": [
    "from src.data import VesselDataModule\n",
    "from src.utils.data_analysis import data_info\n",
    "\n",
    "data = VesselDataModule(config.dataset)\n",
    "labels = data.data\n",
    "#data_info(data)"
   ]
  },
  {
   "cell_type": "markdown",
   "metadata": {},
   "source": [
    "Data distribution"
   ]
  },
  {
   "cell_type": "code",
   "execution_count": 18,
   "metadata": {},
   "outputs": [
    {
     "name": "stdout",
     "output_type": "stream",
     "text": [
      "[0 0 0 ... 1 1 1]\n"
     ]
    },
    {
     "data": {
      "text/plain": [
       "<Axes: xlabel='label', ylabel='count'>"
      ]
     },
     "execution_count": 18,
     "metadata": {},
     "output_type": "execute_result"
    },
    {
     "data": {
      "image/png": "[encoded data removed]",
      "text/plain": [
       "<Figure size 640x480 with 1 Axes>"
      ]
     },
     "metadata": {},
     "output_type": "display_data"
    }
   ],
   "source": [
    "import seaborn as sns\n",
    "import numpy as np\n",
    "import pandas as pd\n",
    "\n",
    "# Assuming labels are numpy arrays for each subset\n",
    "train_labels = data.train_set.dataset.labels.numpy()\n",
    "val_labels = data.val_set.dataset.labels.numpy()\n",
    "test_labels = data.test_set.dataset.labels.numpy()\n",
    "\n",
    "print(test_labels)\n",
    "\n",
    "# Combine labels into a single array and create corresponding subset identifiers\n",
    "combined_labels = np.concatenate([train_labels, val_labels, test_labels])\n",
    "subsets = ['train'] * len(train_labels) + ['val'] * len(val_labels) + ['test'] * len(test_labels)\n",
    "\n",
    "# Create a DataFrame for seaborn plotting\n",
    "df = pd.DataFrame({'label': combined_labels, 'subset': subsets})\n",
    "\n",
    "# Plot with seaborn, differentiating subsets with hue\n",
    "sns.countplot(x='label', hue='subset', data=df)"
   ]
  },
  {
   "cell_type": "code",
   "execution_count": null,
   "metadata": {},
   "outputs": [],
   "source": [
    "from src.utils.definitions import Feature, Category\n",
    "from src.utils.data_analysis import plot_data\n",
    "\n",
    "wss, labels = data.extract_feature(Feature.WSS)\n",
    "pos, labels = data.extract_feature(Feature.POS)\n",
    "pressure, labels = data.extract_feature(Feature.PRESSURE)\n",
    "face, labels = data.extract_feature(Feature.FACE)\n",
    "plot_data(pos, labels, Category, \"Position\")\n",
    "plot_data(wss, labels, Category, \"Wall Shear Stress\")\n",
    "plot_data(pressure, labels, Category, \"Pressure\")\n",
    "plot_data(face, labels, Category, \"Face\")"
   ]
  },
  {
   "cell_type": "markdown",
   "metadata": {},
   "source": [
    "---"
   ]
  },
  {
   "cell_type": "markdown",
   "metadata": {},
   "source": [
    "Performing equivariance check"
   ]
  },
  {
   "cell_type": "code",
   "execution_count": null,
   "metadata": {},
   "outputs": [],
   "source": [
    "from src.lib.geometricAlgebraElements import GeometricAlgebraBase\n",
    "from src.test.test_equivariance import TestEquivariance\n",
    "import unittest\n",
    "\n",
    "dl = data.train_dataloader()\n",
    "\n",
    "batch = next(iter(dl)).data[0]\n",
    "batch = batch.view(-1, GeometricAlgebraBase.GA_size)[:10]\n",
    "TestEquivariance.INPUT_DATA = batch\n",
    "\n",
    "suite = unittest.TestSuite()\n",
    "suite.addTests(unittest.TestLoader().loadTestsFromTestCase(TestEquivariance))\n",
    "test_runner = unittest.TextTestRunner(verbosity=0)\n",
    "restResult = test_runner.run(suite)"
   ]
  },
  {
   "cell_type": "markdown",
   "metadata": {},
   "source": [
    "---"
   ]
  },
  {
   "cell_type": "markdown",
   "metadata": {},
   "source": [
    "Baseline"
   ]
  },
  {
   "cell_type": "code",
   "execution_count": null,
   "metadata": {},
   "outputs": [],
   "source": [
    "from src.models import BaselineTransformer\n",
    "from src.utils.hpo import baseline_hpo\n",
    "\n",
    "baseline_hpo(config, data) # Hyperparameter optimization: writes the config file with the best hyperparameters"
   ]
  },
  {
   "cell_type": "code",
   "execution_count": 3,
   "metadata": {},
   "outputs": [
    {
     "name": "stderr",
     "output_type": "stream",
     "text": [
      "Failed to detect the name of this notebook, you can set it manually with the WANDB_NOTEBOOK_NAME environment variable to enable code saving.\n",
      "\u001b[34m\u001b[1mwandb\u001b[0m: Currently logged in as: \u001b[33mneverorfrog\u001b[0m (\u001b[33mneverorfrog-sapienza\u001b[0m). Use \u001b[1m`wandb login --relogin`\u001b[0m to force relogin\n",
      "\u001b[34m\u001b[1mwandb\u001b[0m: \u001b[33mWARNING\u001b[0m If you're specifying your api key in code, ensure this code is not shared publicly.\n",
      "\u001b[34m\u001b[1mwandb\u001b[0m: \u001b[33mWARNING\u001b[0m Consider setting the WANDB_API_KEY environment variable, or running `wandb login` from the command line.\n",
      "\u001b[34m\u001b[1mwandb\u001b[0m: Appending key for api.wandb.ai to your netrc file: /home/daniaffch/.netrc\n"
     ]
    },
    {
     "data": {
      "text/html": [
       "wandb version 0.18.5 is available!  To upgrade, please run:\n",
       " $ pip install wandb --upgrade"
      ],
      "text/plain": [
       "<IPython.core.display.HTML object>"
      ]
     },
     "metadata": {},
     "output_type": "display_data"
    },
    {
     "data": {
      "text/html": [
       "Tracking run with wandb version 0.17.7"
      ],
      "text/plain": [
       "<IPython.core.display.HTML object>"
      ]
     },
     "metadata": {},
     "output_type": "display_data"
    },
    {
     "data": {
      "text/html": [
       "Run data is saved locally in <code>/home/daniaffch/Uni/Deep_Learning/Vessel-Geometric-Transformers/wandb/run-20241021_100811-bniwyxek</code>"
      ],
      "text/plain": [
       "<IPython.core.display.HTML object>"
      ]
     },
     "metadata": {},
     "output_type": "display_data"
    },
    {
     "data": {
      "text/html": [
       "Syncing run <strong><a href='https://wandb.ai/neverorfrog-sapienza/Vessel-Geometric-Transformers/runs/bniwyxek' target=\"_blank\">denim-wildflower-19</a></strong> to <a href='https://wandb.ai/neverorfrog-sapienza/Vessel-Geometric-Transformers' target=\"_blank\">Weights & Biases</a> (<a href='https://wandb.me/run' target=\"_blank\">docs</a>)<br/>"
      ],
      "text/plain": [
       "<IPython.core.display.HTML object>"
      ]
     },
     "metadata": {},
     "output_type": "display_data"
    },
    {
     "data": {
      "text/html": [
       " View project at <a href='https://wandb.ai/neverorfrog-sapienza/Vessel-Geometric-Transformers' target=\"_blank\">https://wandb.ai/neverorfrog-sapienza/Vessel-Geometric-Transformers</a>"
      ],
      "text/plain": [
       "<IPython.core.display.HTML object>"
      ]
     },
     "metadata": {},
     "output_type": "display_data"
    },
    {
     "data": {
      "text/html": [
       " View run at <a href='https://wandb.ai/neverorfrog-sapienza/Vessel-Geometric-Transformers/runs/bniwyxek' target=\"_blank\">https://wandb.ai/neverorfrog-sapienza/Vessel-Geometric-Transformers/runs/bniwyxek</a>"
      ],
      "text/plain": [
       "<IPython.core.display.HTML object>"
      ]
     },
     "metadata": {},
     "output_type": "display_data"
    },
    {
     "name": "stderr",
     "output_type": "stream",
     "text": [
      "GPU available: True (cuda), used: True\n",
      "TPU available: False, using: 0 TPU cores\n",
      "HPU available: False, using: 0 HPUs\n",
      "/home/daniaffch/Uni/Deep_Learning/Vessel-Geometric-Transformers/.venv/lib/python3.10/site-packages/lightning/pytorch/loggers/wandb.py:396: There is a wandb run already in progress and newly created instances of `WandbLogger` will reuse this run. If this is not desired, call `wandb.finish()` before instantiating `WandbLogger`.\n",
      "/home/daniaffch/Uni/Deep_Learning/Vessel-Geometric-Transformers/.venv/lib/python3.10/site-packages/lightning/pytorch/callbacks/model_checkpoint.py:652: Checkpoint directory /home/daniaffch/Uni/Deep_Learning/Vessel-Geometric-Transformers/ckpt exists and is not empty.\n",
      "LOCAL_RANK: 0 - CUDA_VISIBLE_DEVICES: [0]\n",
      "\n",
      "  | Name           | Type               | Params | Mode \n",
      "--------------------------------------------------------------\n",
      "0 | encoder        | TransformerEncoder | 2.2 K  | train\n",
      "1 | embedder       | Linear             | 272    | train\n",
      "2 | projection     | Linear             | 12.8 K | train\n",
      "3 | loss_fn        | BCEWithLogitsLoss  | 0      | train\n",
      "4 | train_accuracy | BinaryAccuracy     | 0      | train\n",
      "5 | val_accuracy   | BinaryAccuracy     | 0      | train\n",
      "6 | test_accuracy  | BinaryAccuracy     | 0      | train\n",
      "7 | train_f1       | BinaryF1Score      | 0      | train\n",
      "8 | val_f1         | BinaryF1Score      | 0      | train\n",
      "9 | test_f1        | BinaryF1Score      | 0      | train\n",
      "--------------------------------------------------------------\n",
      "15.3 K    Trainable params\n",
      "0         Non-trainable params\n",
      "15.3 K    Total params\n",
      "0.061     Total estimated model params size (MB)\n"
     ]
    },
    {
     "name": "stdout",
     "output_type": "stream",
     "text": [
      "Epoch 0: 100%|██████████| 750/750 [00:13<00:00, 57.14it/s, v_num=yxek, val/loss=0.267, val/acc=0.883, val/f1=0.938, train/loss=0.188, train/acc=0.925, train/f1=0.886]"
     ]
    },
    {
     "name": "stderr",
     "output_type": "stream",
     "text": [
      "Metric val/loss improved. New best score: 0.267\n",
      "Epoch 0, global step 750: 'val/loss' reached 0.26699 (best 0.26699), saving model to '/home/daniaffch/Uni/Deep_Learning/Vessel-Geometric-Transformers/ckpt/epoch=0-step=750-v1.ckpt' as top 1\n"
     ]
    },
    {
     "name": "stdout",
     "output_type": "stream",
     "text": [
      "Epoch 1: 100%|██████████| 750/750 [00:13<00:00, 56.39it/s, v_num=yxek, val/loss=0.0505, val/acc=0.985, val/f1=0.992, train/loss=0.0771, train/acc=0.974, train/f1=0.961]"
     ]
    },
    {
     "name": "stderr",
     "output_type": "stream",
     "text": [
      "Metric val/loss improved by 0.217 >= min_delta = 1e-05. New best score: 0.050\n",
      "Epoch 1, global step 1500: 'val/loss' reached 0.05046 (best 0.05046), saving model to '/home/daniaffch/Uni/Deep_Learning/Vessel-Geometric-Transformers/ckpt/epoch=1-step=1500.ckpt' as top 1\n"
     ]
    },
    {
     "name": "stdout",
     "output_type": "stream",
     "text": [
      "Epoch 2: 100%|██████████| 750/750 [00:13<00:00, 57.28it/s, v_num=yxek, val/loss=0.0562, val/acc=0.985, val/f1=0.992, train/loss=0.0644, train/acc=0.976, train/f1=0.964]"
     ]
    },
    {
     "name": "stderr",
     "output_type": "stream",
     "text": [
      "Epoch 2, global step 2250: 'val/loss' was not in top 1\n"
     ]
    },
    {
     "name": "stdout",
     "output_type": "stream",
     "text": [
      "Epoch 3: 100%|██████████| 750/750 [00:13<00:00, 56.71it/s, v_num=yxek, val/loss=0.00739, val/acc=1.000, val/f1=1.000, train/loss=0.0434, train/acc=0.981, train/f1=0.972]"
     ]
    },
    {
     "name": "stderr",
     "output_type": "stream",
     "text": [
      "Metric val/loss improved by 0.043 >= min_delta = 1e-05. New best score: 0.007\n",
      "Epoch 3, global step 3000: 'val/loss' reached 0.00739 (best 0.00739), saving model to '/home/daniaffch/Uni/Deep_Learning/Vessel-Geometric-Transformers/ckpt/epoch=3-step=3000.ckpt' as top 1\n"
     ]
    },
    {
     "name": "stdout",
     "output_type": "stream",
     "text": [
      "Epoch 4: 100%|██████████| 750/750 [00:13<00:00, 56.00it/s, v_num=yxek, val/loss=0.00081, val/acc=1.000, val/f1=1.000, train/loss=0.028, train/acc=0.991, train/f1=0.987] "
     ]
    },
    {
     "name": "stderr",
     "output_type": "stream",
     "text": [
      "Metric val/loss improved by 0.007 >= min_delta = 1e-05. New best score: 0.001\n",
      "Epoch 4, global step 3750: 'val/loss' reached 0.00081 (best 0.00081), saving model to '/home/daniaffch/Uni/Deep_Learning/Vessel-Geometric-Transformers/ckpt/epoch=4-step=3750.ckpt' as top 1\n"
     ]
    },
    {
     "name": "stdout",
     "output_type": "stream",
     "text": [
      "Epoch 5: 100%|██████████| 750/750 [00:14<00:00, 51.59it/s, v_num=yxek, val/loss=0.00859, val/acc=0.998, val/f1=0.999, train/loss=0.0147, train/acc=0.994, train/f1=0.992]"
     ]
    },
    {
     "name": "stderr",
     "output_type": "stream",
     "text": [
      "Epoch 5, global step 4500: 'val/loss' was not in top 1\n"
     ]
    },
    {
     "name": "stdout",
     "output_type": "stream",
     "text": [
      "Epoch 6: 100%|██████████| 750/750 [00:13<00:00, 54.50it/s, v_num=yxek, val/loss=0.00756, val/acc=0.997, val/f1=0.998, train/loss=0.0246, train/acc=0.993, train/f1=0.989]"
     ]
    },
    {
     "name": "stderr",
     "output_type": "stream",
     "text": [
      "Epoch 6, global step 5250: 'val/loss' was not in top 1\n"
     ]
    },
    {
     "name": "stdout",
     "output_type": "stream",
     "text": [
      "Epoch 7: 100%|██████████| 750/750 [00:13<00:00, 53.66it/s, v_num=yxek, val/loss=0.000591, val/acc=1.000, val/f1=1.000, train/loss=0.00452, train/acc=0.999, train/f1=0.998]"
     ]
    },
    {
     "name": "stderr",
     "output_type": "stream",
     "text": [
      "Metric val/loss improved by 0.000 >= min_delta = 1e-05. New best score: 0.001\n",
      "Epoch 7, global step 6000: 'val/loss' reached 0.00059 (best 0.00059), saving model to '/home/daniaffch/Uni/Deep_Learning/Vessel-Geometric-Transformers/ckpt/epoch=7-step=6000.ckpt' as top 1\n"
     ]
    },
    {
     "name": "stdout",
     "output_type": "stream",
     "text": [
      "Epoch 8: 100%|██████████| 750/750 [00:13<00:00, 55.33it/s, v_num=yxek, val/loss=0.00167, val/acc=1.000, val/f1=1.000, train/loss=0.00126, train/acc=1.000, train/f1=1.000] "
     ]
    },
    {
     "name": "stderr",
     "output_type": "stream",
     "text": [
      "Epoch 8, global step 6750: 'val/loss' was not in top 1\n"
     ]
    },
    {
     "name": "stdout",
     "output_type": "stream",
     "text": [
      "Epoch 9: 100%|██████████| 750/750 [00:17<00:00, 43.67it/s, v_num=yxek, val/loss=0.000814, val/acc=1.000, val/f1=1.000, train/loss=0.00303, train/acc=0.999, train/f1=0.999]"
     ]
    },
    {
     "name": "stderr",
     "output_type": "stream",
     "text": [
      "Epoch 9, global step 7500: 'val/loss' was not in top 1\n"
     ]
    },
    {
     "name": "stdout",
     "output_type": "stream",
     "text": [
      "Epoch 10: 100%|██████████| 750/750 [00:14<00:00, 50.09it/s, v_num=yxek, val/loss=0.212, val/acc=0.913, val/f1=0.955, train/loss=0.00349, train/acc=0.999, train/f1=0.999]   "
     ]
    },
    {
     "name": "stderr",
     "output_type": "stream",
     "text": [
      "Monitored metric val/loss did not improve in the last 3 records. Best score: 0.001. Signaling Trainer to stop.\n",
      "Epoch 10, global step 8250: 'val/loss' was not in top 1\n"
     ]
    },
    {
     "name": "stdout",
     "output_type": "stream",
     "text": [
      "Epoch 10: 100%|██████████| 750/750 [00:14<00:00, 50.07it/s, v_num=yxek, val/loss=0.212, val/acc=0.913, val/f1=0.955, train/loss=0.00349, train/acc=0.999, train/f1=0.999]\n"
     ]
    }
   ],
   "source": [
    "from src.trainer import VesselTrainer\n",
    "from src.models import BaselineTransformer\n",
    "\n",
    "model = BaselineTransformer(config.baseline)\n",
    "trainer = VesselTrainer(config.trainer)\n",
    "trainer.fit(model, data)"
   ]
  },
  {
   "cell_type": "code",
   "execution_count": 4,
   "metadata": {},
   "outputs": [
    {
     "name": "stderr",
     "output_type": "stream",
     "text": [
      "Restoring states from the checkpoint path at /home/daniaffch/Uni/Deep_Learning/Vessel-Geometric-Transformers/ckpt/epoch=7-step=6000.ckpt\n",
      "/home/daniaffch/Uni/Deep_Learning/Vessel-Geometric-Transformers/.venv/lib/python3.10/site-packages/lightning/fabric/utilities/cloud_io.py:57: You are using `torch.load` with `weights_only=False` (the current default value), which uses the default pickle module implicitly. It is possible to construct malicious pickle data which will execute arbitrary code during unpickling (See https://github.com/pytorch/pytorch/blob/main/SECURITY.md#untrusted-models for more details). In a future release, the default value for `weights_only` will be flipped to `True`. This limits the functions that could be executed during unpickling. Arbitrary objects will no longer be allowed to be loaded via this mode unless they are explicitly allowlisted by the user via `torch.serialization.add_safe_globals`. We recommend you start setting `weights_only=True` for any use case where you don't have full control of the loaded file. Please open an issue on GitHub for any issues related to this experimental feature.\n",
      "LOCAL_RANK: 0 - CUDA_VISIBLE_DEVICES: [0]\n",
      "Loaded model weights from the checkpoint at /home/daniaffch/Uni/Deep_Learning/Vessel-Geometric-Transformers/ckpt/epoch=7-step=6000.ckpt\n"
     ]
    },
    {
     "name": "stdout",
     "output_type": "stream",
     "text": [
      "Testing DataLoader 0: 100%|██████████| 101/101 [00:01<00:00, 84.68it/s]tensor([True, True, True, True, True, True, True, True, True, True, True, True,\n",
      "        True, True, True, True, True, True, True, True, True, True, True, True,\n",
      "        True, True, True, True, True, True, True, True, True, True, True, True,\n",
      "        True, True, True, True, True, True, True, True, True, True, True, True,\n",
      "        True, True, True, True, True, True, True, True, True, True, True, True,\n",
      "        True, True, True, True, True, True, True, True, True, True, True, True,\n",
      "        True, True, True, True, True, True, True, True, True, True, True, True,\n",
      "        True, True, True, True, True, True, True, True, True, True, True, True,\n",
      "        True, True, True, True, True, True, True, True, True, True, True, True,\n",
      "        True, True, True, True, True, True, True, True, True, True, True, True,\n",
      "        True, True, True, True, True, True, True, True, True, True, True, True,\n",
      "        True, True, True, True, True, True, True, True, True, True, True, True,\n",
      "        True, True, True, True, True, True, True, True, True, True, True, True,\n",
      "        True, True, True, True, True, True, True, True, True, True, True, True,\n",
      "        True, True, True, True, True, True, True, True, True, True, True, True,\n",
      "        True, True, True, True, True, True, True, True, True, True, True, True,\n",
      "        True, True, True, True, True, True, True, True, True, True, True, True,\n",
      "        True, True, True, True, True, True, True, True, True, True, True, True,\n",
      "        True, True, True, True, True, True, True, True, True, True, True, True,\n",
      "        True, True, True, True, True, True, True, True, True, True, True, True,\n",
      "        True, True, True, True, True, True, True, True, True, True, True, True,\n",
      "        True, True, True, True, True, True, True, True, True, True, True, True,\n",
      "        True, True, True, True, True, True, True, True, True, True, True, True,\n",
      "        True, True, True, True, True, True, True, True, True, True, True, True,\n",
      "        True, True, True, True, True, True, True, True, True, True, True, True,\n",
      "        True, True, True, True, True, True, True, True, True, True, True, True,\n",
      "        True, True, True, True, True, True, True, True, True, True, True, True,\n",
      "        True, True, True, True, True, True, True, True, True, True, True, True,\n",
      "        True, True, True, True, True, True, True, True, True, True, True, True,\n",
      "        True, True, True, True, True, True, True, True, True, True, True, True,\n",
      "        True, True, True, True, True, True, True, True, True, True, True, True,\n",
      "        True, True, True, True, True, True, True, True, True, True, True, True,\n",
      "        True, True, True, True, True, True, True, True, True, True, True, True,\n",
      "        True, True, True, True, True], device='cuda:0')\n",
      "tensor([1., 1., 1., 1., 1., 1., 1., 1., 1., 1., 1., 1., 1., 1., 1., 1., 1., 1.,\n",
      "        1., 1., 1., 1., 1., 1., 1., 1., 1., 1., 1., 1., 1., 1., 1., 1., 1., 1.,\n",
      "        1., 1., 1., 1., 1., 1., 1., 1., 1., 1., 1., 1., 1., 1., 1., 1., 1., 1.,\n",
      "        1., 1., 1., 1., 1., 1., 1., 1., 1., 1., 1., 1., 1., 1., 1., 1., 1., 1.,\n",
      "        1., 1., 1., 1., 1., 1., 1., 1., 1., 1., 1., 1., 1., 1., 1., 1., 1., 1.,\n",
      "        1., 1., 1., 1., 1., 1., 1., 1., 1., 1., 1., 1., 1., 1., 1., 1., 1., 1.,\n",
      "        1., 1., 1., 1., 1., 1., 1., 1., 1., 1., 1., 1., 1., 1., 1., 1., 1., 1.,\n",
      "        1., 1., 1., 1., 1., 1., 1., 1., 1., 1., 1., 1., 1., 1., 1., 1., 1., 1.,\n",
      "        1., 1., 1., 1., 1., 1., 1., 1., 1., 1., 1., 1., 1., 1., 1., 1., 1., 1.,\n",
      "        1., 1., 1., 1., 1., 1., 1., 1., 1., 1., 1., 1., 1., 1., 1., 1., 1., 1.,\n",
      "        1., 1., 1., 1., 1., 1., 1., 1., 1., 1., 1., 1., 1., 1., 1., 1., 1., 1.,\n",
      "        1., 1., 1., 1., 1., 1., 1., 1., 1., 1., 1., 1., 1., 1., 1., 1., 1., 1.,\n",
      "        1., 1., 1., 1., 1., 1., 1., 1., 1., 1., 1., 1., 1., 1., 1., 1., 1., 1.,\n",
      "        1., 1., 1., 1., 1., 1., 1., 1., 1., 1., 1., 1., 1., 1., 1., 1., 1., 1.,\n",
      "        1., 1., 1., 1., 1., 1., 1., 1., 1., 1., 1., 1., 1., 1., 1., 1., 1., 1.,\n",
      "        1., 1., 1., 1., 1., 1., 1., 1., 1., 1., 1., 1., 1., 1., 1., 1., 1., 1.,\n",
      "        1., 1., 1., 1., 1., 1., 1., 1., 1., 1., 1., 1., 1., 1., 1., 1., 1., 1.,\n",
      "        1., 1., 1., 1., 1., 1., 1., 1., 1., 1., 1., 1., 1., 1., 1., 1., 1., 1.,\n",
      "        1., 1., 1., 1., 1., 1., 1., 1., 1., 1., 1., 1., 1., 1., 1., 1., 1., 1.,\n",
      "        1., 1., 1., 1., 1., 1., 1., 1., 1., 1., 1., 1., 1., 1., 1., 1., 1., 1.,\n",
      "        1., 1., 1., 1., 1., 1., 1., 1., 1., 1., 1., 1., 1., 1., 1., 1., 1., 1.,\n",
      "        1., 1., 1., 1., 1., 1., 1., 1., 1., 1., 1., 1., 1., 1., 1., 1., 1., 1.,\n",
      "        1., 1., 1., 1., 1.], device='cuda:0')\n",
      "[[401]]\n"
     ]
    },
    {
     "name": "stderr",
     "output_type": "stream",
     "text": [
      "/home/daniaffch/Uni/Deep_Learning/Vessel-Geometric-Transformers/.venv/lib/python3.10/site-packages/sklearn/metrics/_classification.py:386: UserWarning: A single label was found in 'y_true' and 'y_pred'. For the confusion matrix to have the correct shape, use the 'labels' parameter to pass all known labels.\n",
      "  warnings.warn(\n"
     ]
    },
    {
     "data": {
      "image/png": "[encoded data removed]",
      "text/plain": [
       "<Figure size 1000x700 with 2 Axes>"
      ]
     },
     "metadata": {},
     "output_type": "display_data"
    },
    {
     "name": "stdout",
     "output_type": "stream",
     "text": [
      "Testing DataLoader 0: 100%|██████████| 101/101 [00:01<00:00, 66.55it/s]\n"
     ]
    },
    {
     "data": {
      "text/html": [
       "<pre style=\"white-space:pre;overflow-x:auto;line-height:normal;font-family:Menlo,'DejaVu Sans Mono',consolas,'Courier New',monospace\">┏━━━━━━━━━━━━━━━━━━━━━━━━━━━┳━━━━━━━━━━━━━━━━━━━━━━━━━━━┓\n",
       "┃<span style=\"font-weight: bold\">        Test metric        </span>┃<span style=\"font-weight: bold\">       DataLoader 0        </span>┃\n",
       "┡━━━━━━━━━━━━━━━━━━━━━━━━━━━╇━━━━━━━━━━━━━━━━━━━━━━━━━━━┩\n",
       "│<span style=\"color: #008080; text-decoration-color: #008080\">         test/acc          </span>│<span style=\"color: #800080; text-decoration-color: #800080\">            1.0            </span>│\n",
       "│<span style=\"color: #008080; text-decoration-color: #008080\">          test/f1          </span>│<span style=\"color: #800080; text-decoration-color: #800080\">            1.0            </span>│\n",
       "│<span style=\"color: #008080; text-decoration-color: #008080\">         test/loss         </span>│<span style=\"color: #800080; text-decoration-color: #800080\">  0.00014891338651068509   </span>│\n",
       "└───────────────────────────┴───────────────────────────┘\n",
       "</pre>\n"
      ],
      "text/plain": [
       "┏━━━━━━━━━━━━━━━━━━━━━━━━━━━┳━━━━━━━━━━━━━━━━━━━━━━━━━━━┓\n",
       "┃\u001b[1m \u001b[0m\u001b[1m       Test metric       \u001b[0m\u001b[1m \u001b[0m┃\u001b[1m \u001b[0m\u001b[1m      DataLoader 0       \u001b[0m\u001b[1m \u001b[0m┃\n",
       "┡━━━━━━━━━━━━━━━━━━━━━━━━━━━╇━━━━━━━━━━━━━━━━━━━━━━━━━━━┩\n",
       "│\u001b[36m \u001b[0m\u001b[36m        test/acc         \u001b[0m\u001b[36m \u001b[0m│\u001b[35m \u001b[0m\u001b[35m           1.0           \u001b[0m\u001b[35m \u001b[0m│\n",
       "│\u001b[36m \u001b[0m\u001b[36m         test/f1         \u001b[0m\u001b[36m \u001b[0m│\u001b[35m \u001b[0m\u001b[35m           1.0           \u001b[0m\u001b[35m \u001b[0m│\n",
       "│\u001b[36m \u001b[0m\u001b[36m        test/loss        \u001b[0m\u001b[36m \u001b[0m│\u001b[35m \u001b[0m\u001b[35m 0.00014891338651068509  \u001b[0m\u001b[35m \u001b[0m│\n",
       "└───────────────────────────┴───────────────────────────┘\n"
      ]
     },
     "metadata": {},
     "output_type": "display_data"
    }
   ],
   "source": [
    "trainer.test(model, data)"
   ]
  },
  {
   "cell_type": "markdown",
   "metadata": {},
   "source": [
    "---"
   ]
  },
  {
   "cell_type": "markdown",
   "metadata": {},
   "source": [
    "Gatr"
   ]
  },
  {
   "cell_type": "code",
   "execution_count": null,
   "metadata": {},
   "outputs": [],
   "source": [
    "from src.models import Gatr\n",
    "from src.utils.hpo import gatr_hpo\n",
    "\n",
    "gatr_hpo(config, data) # Hyperparameter optimization: writes the config file with the best hyperparameters"
   ]
  },
  {
   "cell_type": "code",
   "execution_count": null,
   "metadata": {},
   "outputs": [],
   "source": [
    "from src.trainer import VesselTrainer\n",
    "\n",
    "model = Gatr(config.gatr)\n",
    "trainer = VesselTrainer(config.trainer)\n",
    "trainer.fit(model, data)"
   ]
  },
  {
   "cell_type": "code",
   "execution_count": 9,
   "metadata": {},
   "outputs": [],
   "source": [
    "trainer.test(model, data)"
   ]
  },
  {
   "cell_type": "markdown",
   "metadata": {},
   "source": [
    "----"
   ]
  }
 ],
 "metadata": {
  "kernelspec": {
   "display_name": ".venv",
   "language": "python",
   "name": "python3"
  },
  "language_info": {
   "codemirror_mode": {
    "name": "ipython",
    "version": 3
   },
   "file_extension": ".py",
   "mimetype": "text/x-python",
   "name": "python",
   "nbconvert_exporter": "python",
   "pygments_lexer": "ipython3",
   "version": "3.10.12"
  }
 },
 "nbformat": 4,
 "nbformat_minor": 2
}
