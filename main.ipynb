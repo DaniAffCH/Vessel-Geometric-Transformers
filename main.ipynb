{
 "cells": [
  {
   "cell_type": "markdown",
   "metadata": {},
   "source": [
    "You can run this notebook directly on Google Colab\n",
    "\n",
    "[![Open In Colab](https://colab.research.google.com/assets/colab-badge.svg)](https://colab.research.google.com/github/DaniAffCH/Vessel-Geometric-Transformers/blob/main/main.ipynb)"
   ]
  },
  {
   "cell_type": "code",
   "execution_count": null,
   "metadata": {},
   "outputs": [],
   "source": [
    "import sys\n",
    "\n",
    "COLAB_RUNTIME = 'google.colab' in sys.modules\n",
    "if COLAB_RUNTIME:\n",
    "    !git init\n",
    "    !git remote add origin https://github.com/DaniAffCH/Vessel-Geometric-Transformers.git\n",
    "    !git pull origin main\n",
    "    !pip install -q -r requirements.txt\n",
    "else: # Development mode, setting precommit checks \n",
    "    !pip install -r requirements.txt\n",
    "    !pre-commit autoupdate\n",
    "    !pre-commit install\n"
   ]
  },
  {
   "cell_type": "markdown",
   "metadata": {},
   "source": [
    "Loading the configuration"
   ]
  },
  {
   "cell_type": "code",
   "execution_count": 2,
   "metadata": {},
   "outputs": [],
   "source": [
    "from src.utils import load_config\n",
    "import os\n",
    "from config import DatasetConfig, TrainerConfig, BaselineConfig, GatrConfig\n",
    "\n",
    "config_path = os.path.join(\"config\",\"config.yaml\")\n",
    "\n",
    "config = load_config(config_path)\n",
    "dataset_config: DatasetConfig = config.dataset\n",
    "trainer_config: TrainerConfig = config.trainer\n",
    "baseline_config: BaselineConfig = config.baseline\n",
    "gatr_config: GatrConfig = config.gatr"
   ]
  },
  {
   "cell_type": "markdown",
   "metadata": {},
   "source": [
    "---"
   ]
  },
  {
   "cell_type": "markdown",
   "metadata": {},
   "source": [
    "Loading the dataset"
   ]
  },
  {
   "cell_type": "code",
   "execution_count": null,
   "metadata": {},
   "outputs": [],
   "source": [
    "from src.data import VesselDataModule\n",
    "from src.utils.data_analysis import data_info\n",
    "\n",
    "data = VesselDataModule(dataset_config)\n",
    "data_info(data)"
   ]
  },
  {
   "cell_type": "markdown",
   "metadata": {},
   "source": [
    "Data distribution"
   ]
  },
  {
   "cell_type": "code",
   "execution_count": null,
   "metadata": {},
   "outputs": [],
   "source": [
    "import seaborn as sns\n",
    "sns.countplot(data.data.label)"
   ]
  },
  {
   "cell_type": "code",
   "execution_count": null,
   "metadata": {},
   "outputs": [],
   "source": [
    "from src.utils.definitions import Feature, Category\n",
    "from src.utils.data_analysis import plot_data\n",
    "\n",
    "wss, labels = data.extract_feature(Feature.WSS)\n",
    "pos, labels = data.extract_feature(Feature.POS)\n",
    "pressure, labels = data.extract_feature(Feature.PRESSURE)\n",
    "face, labels = data.extract_feature(Feature.FACE)\n",
    "plot_data(pos, labels, Category, \"Position\")\n",
    "plot_data(wss, labels, Category, \"Wall Shear Stress\")\n",
    "plot_data(pressure, labels, Category, \"Pressure\")\n",
    "plot_data(face, labels, Category, \"Face\")"
   ]
  },
  {
   "cell_type": "markdown",
   "metadata": {},
   "source": [
    "---"
   ]
  },
  {
   "cell_type": "markdown",
   "metadata": {},
   "source": [
    "Performing equivariance check"
   ]
  },
  {
   "cell_type": "code",
   "execution_count": null,
   "metadata": {},
   "outputs": [],
   "source": [
    "from src.lib.geometricAlgebraElements import GeometricAlgebraBase\n",
    "from src.test.test_equivariance import TestEquivariance\n",
    "import unittest\n",
    "\n",
    "dl = data.train_dataloader()\n",
    "\n",
    "batch = next(iter(dl)).data[0]\n",
    "batch = batch.view(-1, GeometricAlgebraBase.GA_size)[:10]\n",
    "TestEquivariance.INPUT_DATA = batch\n",
    "\n",
    "suite = unittest.TestSuite()\n",
    "suite.addTests(unittest.TestLoader().loadTestsFromTestCase(TestEquivariance))\n",
    "test_runner = unittest.TextTestRunner(verbosity=0)\n",
    "restResult = test_runner.run(suite)"
   ]
  },
  {
   "cell_type": "markdown",
   "metadata": {},
   "source": [
    "---"
   ]
  },
  {
   "cell_type": "markdown",
   "metadata": {},
   "source": [
    "Baseline (trainin and testin)"
   ]
  },
  {
   "cell_type": "code",
   "execution_count": null,
   "metadata": {},
   "outputs": [],
   "source": [
    "from src.trainer import VesselTrainer\n",
    "from src.models import BaselineTransformer\n",
    "from src.utils.hpo import baseline_hpo\n",
    "\n",
    "trainer = VesselTrainer(trainer_config)\n",
    "model = BaselineTransformer(baseline_config)\n",
    "baseline_hpo(config, model, data)\n",
    "trainer.fit(model, data)"
   ]
  },
  {
   "cell_type": "code",
   "execution_count": null,
   "metadata": {},
   "outputs": [],
   "source": [
    "trainer.test(model, data)"
   ]
  },
  {
   "cell_type": "markdown",
   "metadata": {},
   "source": [
    "---"
   ]
  },
  {
   "cell_type": "markdown",
   "metadata": {},
   "source": [
    "Gatr"
   ]
  },
  {
   "cell_type": "code",
   "execution_count": null,
   "metadata": {},
   "outputs": [],
   "source": [
    "from src.trainer import VesselTrainer\n",
    "from src.models import Gatr\n",
    "from src.utils.hpo import gatr_hpo\n",
    "\n",
    "model = Gatr(gatr_config)\n",
    "gatr_hpo(config, model, data)\n",
    "trainer = VesselTrainer(trainer_config)\n",
    "trainer.fit(model, data)"
   ]
  },
  {
   "cell_type": "code",
   "execution_count": 9,
   "metadata": {},
   "outputs": [],
   "source": [
    "trainer.test(model, data)"
   ]
  },
  {
   "cell_type": "markdown",
   "metadata": {},
   "source": [
    "----"
   ]
  }
 ],
 "metadata": {
  "kernelspec": {
   "display_name": "gatr",
   "language": "python",
   "name": "python3"
  },
  "language_info": {
   "codemirror_mode": {
    "name": "ipython",
    "version": 3
   },
   "file_extension": ".py",
   "mimetype": "text/x-python",
   "name": "python",
   "nbconvert_exporter": "python",
   "pygments_lexer": "ipython3",
   "version": "3.10.15"
  }
 },
 "nbformat": 4,
 "nbformat_minor": 2
}
