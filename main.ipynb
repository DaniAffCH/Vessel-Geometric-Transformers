{
 "cells": [
  {
   "cell_type": "markdown",
   "metadata": {},
   "source": [
    "You can run this notebook directly on Google Colab\n",
    "\n",
    "[![Open In Colab](https://colab.research.google.com/assets/colab-badge.svg)](https://colab.research.google.com/github/DaniAffCH/Vessel-Geometric-Transformers/blob/main/main.ipynb)"
   ]
  },
  {
   "cell_type": "code",
   "execution_count": 1,
   "metadata": {},
   "outputs": [
    {
     "name": "stdout",
     "output_type": "stream",
     "text": [
      "Requirement already satisfied: gdown in /home/neverorfrog/.local/lib/python3.10/site-packages (from -r requirements.txt (line 1)) (5.2.0)\n",
      "Requirement already satisfied: pre-commit in /home/neverorfrog/miniconda3/envs/gatr/lib/python3.10/site-packages (from -r requirements.txt (line 2)) (4.0.1)\n",
      "Requirement already satisfied: flake8 in /home/neverorfrog/.local/lib/python3.10/site-packages (from -r requirements.txt (line 3)) (7.1.1)\n",
      "Requirement already satisfied: black in /home/neverorfrog/.local/lib/python3.10/site-packages (from -r requirements.txt (line 4)) (24.10.0)\n",
      "Requirement already satisfied: mypy in /home/neverorfrog/.local/lib/python3.10/site-packages (from -r requirements.txt (line 5)) (1.11.2)\n",
      "Requirement already satisfied: h5py in /home/neverorfrog/.local/lib/python3.10/site-packages (from -r requirements.txt (line 6)) (3.12.1)\n",
      "Requirement already satisfied: numba==0.58.1 in /home/neverorfrog/miniconda3/envs/gatr/lib/python3.10/site-packages (from -r requirements.txt (line 7)) (0.58.1)\n",
      "Requirement already satisfied: einops in /home/neverorfrog/.local/lib/python3.10/site-packages (from -r requirements.txt (line 8)) (0.8.0)\n",
      "Requirement already satisfied: torch in /home/neverorfrog/miniconda3/envs/gatr/lib/python3.10/site-packages (from -r requirements.txt (line 9)) (2.4.1)\n",
      "Requirement already satisfied: torch_geometric==2.5.3 in /home/neverorfrog/.local/lib/python3.10/site-packages (from -r requirements.txt (line 10)) (2.5.3)\n",
      "Requirement already satisfied: lightning in /home/neverorfrog/.local/lib/python3.10/site-packages (from -r requirements.txt (line 11)) (2.4.0)\n",
      "Requirement already satisfied: tqdm in /home/neverorfrog/.local/lib/python3.10/site-packages (from -r requirements.txt (line 13)) (4.66.2)\n",
      "Requirement already satisfied: omegaconf in /home/neverorfrog/.local/lib/python3.10/site-packages (from -r requirements.txt (line 14)) (2.3.0)\n",
      "Requirement already satisfied: pandas in /home/neverorfrog/.local/lib/python3.10/site-packages (from -r requirements.txt (line 15)) (2.2.3)\n",
      "Requirement already satisfied: pathlib in /home/neverorfrog/.local/lib/python3.10/site-packages (from -r requirements.txt (line 16)) (1.0.1)\n",
      "Requirement already satisfied: pytest in /home/neverorfrog/.local/lib/python3.10/site-packages (from -r requirements.txt (line 17)) (8.3.3)\n",
      "Requirement already satisfied: pyyaml in /home/neverorfrog/.local/lib/python3.10/site-packages (from -r requirements.txt (line 18)) (6.0.2)\n",
      "Requirement already satisfied: types-PyYAML in /home/neverorfrog/.local/lib/python3.10/site-packages (from -r requirements.txt (line 19)) (6.0.12.20240917)\n",
      "Requirement already satisfied: types-tqdm in /home/neverorfrog/.local/lib/python3.10/site-packages (from -r requirements.txt (line 20)) (4.66.0.20240417)\n",
      "Requirement already satisfied: wandb in /home/neverorfrog/.local/lib/python3.10/site-packages (from -r requirements.txt (line 21)) (0.18.3)\n",
      "Requirement already satisfied: clifford in /home/neverorfrog/.local/lib/python3.10/site-packages (from -r requirements.txt (line 22)) (1.4.0)\n",
      "Requirement already satisfied: optuna in /home/neverorfrog/.local/lib/python3.10/site-packages (from -r requirements.txt (line 23)) (4.0.0)\n",
      "Requirement already satisfied: llvmlite<0.42,>=0.41.0dev0 in /home/neverorfrog/miniconda3/envs/gatr/lib/python3.10/site-packages (from numba==0.58.1->-r requirements.txt (line 7)) (0.41.1)\n",
      "Requirement already satisfied: numpy<1.27,>=1.22 in /home/neverorfrog/.local/lib/python3.10/site-packages (from numba==0.58.1->-r requirements.txt (line 7)) (1.26.4)\n",
      "Requirement already satisfied: scipy in /home/neverorfrog/.local/lib/python3.10/site-packages (from torch_geometric==2.5.3->-r requirements.txt (line 10)) (1.12.0)\n",
      "Requirement already satisfied: fsspec in /home/neverorfrog/.local/lib/python3.10/site-packages (from torch_geometric==2.5.3->-r requirements.txt (line 10)) (2024.9.0)\n",
      "Requirement already satisfied: jinja2 in /home/neverorfrog/miniconda3/envs/gatr/lib/python3.10/site-packages (from torch_geometric==2.5.3->-r requirements.txt (line 10)) (3.1.4)\n",
      "Requirement already satisfied: aiohttp in /home/neverorfrog/.local/lib/python3.10/site-packages (from torch_geometric==2.5.3->-r requirements.txt (line 10)) (3.10.9)\n",
      "Requirement already satisfied: requests in /home/neverorfrog/miniconda3/envs/gatr/lib/python3.10/site-packages (from torch_geometric==2.5.3->-r requirements.txt (line 10)) (2.32.3)\n",
      "Requirement already satisfied: pyparsing in /home/neverorfrog/miniconda3/envs/gatr/lib/python3.10/site-packages (from torch_geometric==2.5.3->-r requirements.txt (line 10)) (3.1.4)\n",
      "Requirement already satisfied: scikit-learn in /home/neverorfrog/miniconda3/envs/gatr/lib/python3.10/site-packages (from torch_geometric==2.5.3->-r requirements.txt (line 10)) (1.5.2)\n",
      "Requirement already satisfied: psutil>=5.8.0 in /home/neverorfrog/.local/lib/python3.10/site-packages (from torch_geometric==2.5.3->-r requirements.txt (line 10)) (6.0.0)\n",
      "Requirement already satisfied: beautifulsoup4 in /home/neverorfrog/.local/lib/python3.10/site-packages (from gdown->-r requirements.txt (line 1)) (4.12.3)\n",
      "Requirement already satisfied: filelock in /home/neverorfrog/.local/lib/python3.10/site-packages (from gdown->-r requirements.txt (line 1)) (3.16.1)\n",
      "Requirement already satisfied: cfgv>=2.0.0 in /home/neverorfrog/.local/lib/python3.10/site-packages (from pre-commit->-r requirements.txt (line 2)) (3.4.0)\n",
      "Requirement already satisfied: identify>=1.0.0 in /home/neverorfrog/.local/lib/python3.10/site-packages (from pre-commit->-r requirements.txt (line 2)) (2.6.1)\n",
      "Requirement already satisfied: nodeenv>=0.11.1 in /home/neverorfrog/.local/lib/python3.10/site-packages (from pre-commit->-r requirements.txt (line 2)) (1.9.1)\n",
      "Requirement already satisfied: virtualenv>=20.10.0 in /home/neverorfrog/.local/lib/python3.10/site-packages (from pre-commit->-r requirements.txt (line 2)) (20.26.6)\n",
      "Requirement already satisfied: mccabe<0.8.0,>=0.7.0 in /home/neverorfrog/.local/lib/python3.10/site-packages (from flake8->-r requirements.txt (line 3)) (0.7.0)\n",
      "Requirement already satisfied: pycodestyle<2.13.0,>=2.12.0 in /home/neverorfrog/.local/lib/python3.10/site-packages (from flake8->-r requirements.txt (line 3)) (2.12.1)\n",
      "Requirement already satisfied: pyflakes<3.3.0,>=3.2.0 in /home/neverorfrog/.local/lib/python3.10/site-packages (from flake8->-r requirements.txt (line 3)) (3.2.0)\n",
      "Requirement already satisfied: click>=8.0.0 in /home/neverorfrog/miniconda3/envs/gatr/lib/python3.10/site-packages (from black->-r requirements.txt (line 4)) (8.1.7)\n",
      "Requirement already satisfied: mypy-extensions>=0.4.3 in /home/neverorfrog/.local/lib/python3.10/site-packages (from black->-r requirements.txt (line 4)) (1.0.0)\n",
      "Requirement already satisfied: packaging>=22.0 in /home/neverorfrog/.local/lib/python3.10/site-packages (from black->-r requirements.txt (line 4)) (24.1)\n",
      "Requirement already satisfied: pathspec>=0.9.0 in /home/neverorfrog/.local/lib/python3.10/site-packages (from black->-r requirements.txt (line 4)) (0.12.1)\n",
      "Requirement already satisfied: platformdirs>=2 in /home/neverorfrog/.local/lib/python3.10/site-packages (from black->-r requirements.txt (line 4)) (4.3.6)\n",
      "Requirement already satisfied: tomli>=1.1.0 in /home/neverorfrog/.local/lib/python3.10/site-packages (from black->-r requirements.txt (line 4)) (2.0.2)\n",
      "Requirement already satisfied: typing-extensions>=4.0.1 in /home/neverorfrog/.local/lib/python3.10/site-packages (from black->-r requirements.txt (line 4)) (4.12.2)\n",
      "Requirement already satisfied: sympy in /home/neverorfrog/.local/lib/python3.10/site-packages (from torch->-r requirements.txt (line 9)) (1.13.3)\n",
      "Requirement already satisfied: networkx in /home/neverorfrog/.local/lib/python3.10/site-packages (from torch->-r requirements.txt (line 9)) (3.3)\n",
      "Requirement already satisfied: nvidia-cuda-nvrtc-cu12==12.1.105 in /home/neverorfrog/.local/lib/python3.10/site-packages (from torch->-r requirements.txt (line 9)) (12.1.105)\n",
      "Requirement already satisfied: nvidia-cuda-runtime-cu12==12.1.105 in /home/neverorfrog/.local/lib/python3.10/site-packages (from torch->-r requirements.txt (line 9)) (12.1.105)\n",
      "Requirement already satisfied: nvidia-cuda-cupti-cu12==12.1.105 in /home/neverorfrog/.local/lib/python3.10/site-packages (from torch->-r requirements.txt (line 9)) (12.1.105)\n",
      "Requirement already satisfied: nvidia-cudnn-cu12==9.1.0.70 in /home/neverorfrog/miniconda3/envs/gatr/lib/python3.10/site-packages (from torch->-r requirements.txt (line 9)) (9.1.0.70)\n",
      "Requirement already satisfied: nvidia-cublas-cu12==12.1.3.1 in /home/neverorfrog/.local/lib/python3.10/site-packages (from torch->-r requirements.txt (line 9)) (12.1.3.1)\n",
      "Requirement already satisfied: nvidia-cufft-cu12==11.0.2.54 in /home/neverorfrog/.local/lib/python3.10/site-packages (from torch->-r requirements.txt (line 9)) (11.0.2.54)\n",
      "Requirement already satisfied: nvidia-curand-cu12==10.3.2.106 in /home/neverorfrog/.local/lib/python3.10/site-packages (from torch->-r requirements.txt (line 9)) (10.3.2.106)\n",
      "Requirement already satisfied: nvidia-cusolver-cu12==11.4.5.107 in /home/neverorfrog/.local/lib/python3.10/site-packages (from torch->-r requirements.txt (line 9)) (11.4.5.107)\n",
      "Requirement already satisfied: nvidia-cusparse-cu12==12.1.0.106 in /home/neverorfrog/.local/lib/python3.10/site-packages (from torch->-r requirements.txt (line 9)) (12.1.0.106)\n",
      "Requirement already satisfied: nvidia-nccl-cu12==2.20.5 in /home/neverorfrog/.local/lib/python3.10/site-packages (from torch->-r requirements.txt (line 9)) (2.20.5)\n",
      "Requirement already satisfied: nvidia-nvtx-cu12==12.1.105 in /home/neverorfrog/.local/lib/python3.10/site-packages (from torch->-r requirements.txt (line 9)) (12.1.105)\n",
      "Requirement already satisfied: triton==3.0.0 in /home/neverorfrog/miniconda3/envs/gatr/lib/python3.10/site-packages (from torch->-r requirements.txt (line 9)) (3.0.0)\n",
      "Requirement already satisfied: nvidia-nvjitlink-cu12 in /home/neverorfrog/.local/lib/python3.10/site-packages (from nvidia-cusolver-cu12==11.4.5.107->torch->-r requirements.txt (line 9)) (12.6.77)\n",
      "Requirement already satisfied: lightning-utilities<2.0,>=0.10.0 in /home/neverorfrog/.local/lib/python3.10/site-packages (from lightning->-r requirements.txt (line 11)) (0.11.7)\n",
      "Requirement already satisfied: torchmetrics<3.0,>=0.7.0 in /home/neverorfrog/miniconda3/envs/gatr/lib/python3.10/site-packages (from lightning->-r requirements.txt (line 11)) (1.4.3)\n",
      "Requirement already satisfied: pytorch-lightning in /home/neverorfrog/.local/lib/python3.10/site-packages (from lightning->-r requirements.txt (line 11)) (2.4.0)\n",
      "Requirement already satisfied: bitsandbytes<1.0,>=0.42.0 in /home/neverorfrog/.local/lib/python3.10/site-packages (from lightning[extra]->-r requirements.txt (line 12)) (0.44.1)\n",
      "Requirement already satisfied: hydra-core<2.0,>=1.2.0 in /home/neverorfrog/.local/lib/python3.10/site-packages (from lightning[extra]->-r requirements.txt (line 12)) (1.3.2)\n",
      "Requirement already satisfied: jsonargparse<5.0,>=4.27.7 in /home/neverorfrog/.local/lib/python3.10/site-packages (from jsonargparse[signatures]<5.0,>=4.27.7; extra == \"extra\"->lightning[extra]->-r requirements.txt (line 12)) (4.33.2)\n",
      "Requirement already satisfied: matplotlib<4.0,>3.1 in /home/neverorfrog/.local/lib/python3.10/site-packages (from lightning[extra]->-r requirements.txt (line 12)) (3.8.3)\n",
      "Requirement already satisfied: rich<14.0,>=12.3.0 in /home/neverorfrog/.local/lib/python3.10/site-packages (from lightning[extra]->-r requirements.txt (line 12)) (13.9.2)\n",
      "Requirement already satisfied: tensorboardX<3.0,>=2.2 in /home/neverorfrog/.local/lib/python3.10/site-packages (from lightning[extra]->-r requirements.txt (line 12)) (2.6.2.2)\n",
      "Requirement already satisfied: antlr4-python3-runtime==4.9.* in /home/neverorfrog/.local/lib/python3.10/site-packages (from omegaconf->-r requirements.txt (line 14)) (4.9.3)\n",
      "Requirement already satisfied: python-dateutil>=2.8.2 in /home/neverorfrog/.local/lib/python3.10/site-packages (from pandas->-r requirements.txt (line 15)) (2.9.0.post0)\n",
      "Requirement already satisfied: pytz>=2020.1 in /home/neverorfrog/miniconda3/envs/gatr/lib/python3.10/site-packages (from pandas->-r requirements.txt (line 15)) (2024.2)\n",
      "Requirement already satisfied: tzdata>=2022.7 in /home/neverorfrog/.local/lib/python3.10/site-packages (from pandas->-r requirements.txt (line 15)) (2024.2)\n",
      "Requirement already satisfied: iniconfig in /home/neverorfrog/.local/lib/python3.10/site-packages (from pytest->-r requirements.txt (line 17)) (2.0.0)\n",
      "Requirement already satisfied: pluggy<2,>=1.5 in /home/neverorfrog/.local/lib/python3.10/site-packages (from pytest->-r requirements.txt (line 17)) (1.5.0)\n",
      "Requirement already satisfied: exceptiongroup>=1.0.0rc8 in /home/neverorfrog/.local/lib/python3.10/site-packages (from pytest->-r requirements.txt (line 17)) (1.2.2)\n",
      "Requirement already satisfied: docker-pycreds>=0.4.0 in /home/neverorfrog/.local/lib/python3.10/site-packages (from wandb->-r requirements.txt (line 21)) (0.4.0)\n",
      "Requirement already satisfied: gitpython!=3.1.29,>=1.0.0 in /home/neverorfrog/.local/lib/python3.10/site-packages (from wandb->-r requirements.txt (line 21)) (3.1.43)\n",
      "Requirement already satisfied: protobuf!=4.21.0,!=5.28.0,<6,>=3.19.0 in /home/neverorfrog/.local/lib/python3.10/site-packages (from wandb->-r requirements.txt (line 21)) (5.28.2)\n",
      "Requirement already satisfied: sentry-sdk>=1.0.0 in /home/neverorfrog/.local/lib/python3.10/site-packages (from wandb->-r requirements.txt (line 21)) (2.16.0)\n",
      "Requirement already satisfied: setproctitle in /home/neverorfrog/.local/lib/python3.10/site-packages (from wandb->-r requirements.txt (line 21)) (1.3.3)\n",
      "Requirement already satisfied: setuptools in /home/neverorfrog/miniconda3/envs/gatr/lib/python3.10/site-packages (from wandb->-r requirements.txt (line 21)) (75.1.0)\n",
      "Requirement already satisfied: sparse in /home/neverorfrog/.local/lib/python3.10/site-packages (from clifford->-r requirements.txt (line 22)) (0.15.4)\n",
      "Requirement already satisfied: alembic>=1.5.0 in /home/neverorfrog/.local/lib/python3.10/site-packages (from optuna->-r requirements.txt (line 23)) (1.13.3)\n",
      "Requirement already satisfied: colorlog in /home/neverorfrog/.local/lib/python3.10/site-packages (from optuna->-r requirements.txt (line 23)) (6.8.2)\n",
      "Requirement already satisfied: sqlalchemy>=1.3.0 in /home/neverorfrog/.local/lib/python3.10/site-packages (from optuna->-r requirements.txt (line 23)) (2.0.35)\n",
      "Requirement already satisfied: Mako in /home/neverorfrog/.local/lib/python3.10/site-packages (from alembic>=1.5.0->optuna->-r requirements.txt (line 23)) (1.3.5)\n",
      "Requirement already satisfied: six>=1.4.0 in /home/neverorfrog/miniconda3/envs/gatr/lib/python3.10/site-packages (from docker-pycreds>=0.4.0->wandb->-r requirements.txt (line 21)) (1.16.0)\n",
      "Requirement already satisfied: aiohappyeyeballs>=2.3.0 in /home/neverorfrog/.local/lib/python3.10/site-packages (from aiohttp->torch_geometric==2.5.3->-r requirements.txt (line 10)) (2.4.3)\n",
      "Requirement already satisfied: aiosignal>=1.1.2 in /home/neverorfrog/.local/lib/python3.10/site-packages (from aiohttp->torch_geometric==2.5.3->-r requirements.txt (line 10)) (1.3.1)\n",
      "Requirement already satisfied: attrs>=17.3.0 in /home/neverorfrog/miniconda3/envs/gatr/lib/python3.10/site-packages (from aiohttp->torch_geometric==2.5.3->-r requirements.txt (line 10)) (24.2.0)\n",
      "Requirement already satisfied: frozenlist>=1.1.1 in /home/neverorfrog/.local/lib/python3.10/site-packages (from aiohttp->torch_geometric==2.5.3->-r requirements.txt (line 10)) (1.4.1)\n",
      "Requirement already satisfied: multidict<7.0,>=4.5 in /home/neverorfrog/.local/lib/python3.10/site-packages (from aiohttp->torch_geometric==2.5.3->-r requirements.txt (line 10)) (6.1.0)\n",
      "Requirement already satisfied: yarl<2.0,>=1.12.0 in /home/neverorfrog/.local/lib/python3.10/site-packages (from aiohttp->torch_geometric==2.5.3->-r requirements.txt (line 10)) (1.14.0)\n",
      "Requirement already satisfied: async-timeout<5.0,>=4.0 in /home/neverorfrog/.local/lib/python3.10/site-packages (from aiohttp->torch_geometric==2.5.3->-r requirements.txt (line 10)) (4.0.3)\n",
      "Requirement already satisfied: gitdb<5,>=4.0.1 in /home/neverorfrog/.local/lib/python3.10/site-packages (from gitpython!=3.1.29,>=1.0.0->wandb->-r requirements.txt (line 21)) (4.0.11)\n",
      "Requirement already satisfied: docstring-parser>=0.15 in /home/neverorfrog/.local/lib/python3.10/site-packages (from jsonargparse[signatures]<5.0,>=4.27.7; extra == \"extra\"->lightning[extra]->-r requirements.txt (line 12)) (0.16)\n",
      "Requirement already satisfied: typeshed-client>=2.1.0 in /home/neverorfrog/.local/lib/python3.10/site-packages (from jsonargparse[signatures]<5.0,>=4.27.7; extra == \"extra\"->lightning[extra]->-r requirements.txt (line 12)) (2.7.0)\n",
      "Requirement already satisfied: contourpy>=1.0.1 in /home/neverorfrog/.local/lib/python3.10/site-packages (from matplotlib<4.0,>3.1->lightning[extra]->-r requirements.txt (line 12)) (1.3.0)\n",
      "Requirement already satisfied: cycler>=0.10 in /home/neverorfrog/.local/lib/python3.10/site-packages (from matplotlib<4.0,>3.1->lightning[extra]->-r requirements.txt (line 12)) (0.12.1)\n",
      "Requirement already satisfied: fonttools>=4.22.0 in /home/neverorfrog/.local/lib/python3.10/site-packages (from matplotlib<4.0,>3.1->lightning[extra]->-r requirements.txt (line 12)) (4.54.1)\n",
      "Requirement already satisfied: kiwisolver>=1.3.1 in /home/neverorfrog/.local/lib/python3.10/site-packages (from matplotlib<4.0,>3.1->lightning[extra]->-r requirements.txt (line 12)) (1.4.7)\n",
      "Requirement already satisfied: pillow>=8 in /home/neverorfrog/.local/lib/python3.10/site-packages (from matplotlib<4.0,>3.1->lightning[extra]->-r requirements.txt (line 12)) (10.2.0)\n",
      "Requirement already satisfied: charset-normalizer<4,>=2 in /home/neverorfrog/miniconda3/envs/gatr/lib/python3.10/site-packages (from requests->torch_geometric==2.5.3->-r requirements.txt (line 10)) (3.4.0)\n",
      "Requirement already satisfied: idna<4,>=2.5 in /home/neverorfrog/miniconda3/envs/gatr/lib/python3.10/site-packages (from requests->torch_geometric==2.5.3->-r requirements.txt (line 10)) (3.10)\n",
      "Requirement already satisfied: urllib3<3,>=1.21.1 in /home/neverorfrog/.local/lib/python3.10/site-packages (from requests->torch_geometric==2.5.3->-r requirements.txt (line 10)) (2.2.3)\n",
      "Requirement already satisfied: certifi>=2017.4.17 in /home/neverorfrog/miniconda3/envs/gatr/lib/python3.10/site-packages (from requests->torch_geometric==2.5.3->-r requirements.txt (line 10)) (2024.8.30)\n",
      "Requirement already satisfied: markdown-it-py>=2.2.0 in /home/neverorfrog/.local/lib/python3.10/site-packages (from rich<14.0,>=12.3.0->lightning[extra]->-r requirements.txt (line 12)) (3.0.0)\n",
      "Requirement already satisfied: pygments<3.0.0,>=2.13.0 in /home/neverorfrog/.local/lib/python3.10/site-packages (from rich<14.0,>=12.3.0->lightning[extra]->-r requirements.txt (line 12)) (2.18.0)\n",
      "Requirement already satisfied: greenlet!=0.4.17 in /home/neverorfrog/.local/lib/python3.10/site-packages (from sqlalchemy>=1.3.0->optuna->-r requirements.txt (line 23)) (3.1.1)\n",
      "Requirement already satisfied: distlib<1,>=0.3.7 in /home/neverorfrog/.local/lib/python3.10/site-packages (from virtualenv>=20.10.0->pre-commit->-r requirements.txt (line 2)) (0.3.9)\n",
      "Requirement already satisfied: soupsieve>1.2 in /home/neverorfrog/.local/lib/python3.10/site-packages (from beautifulsoup4->gdown->-r requirements.txt (line 1)) (2.6)\n",
      "Requirement already satisfied: MarkupSafe>=2.0 in /home/neverorfrog/miniconda3/envs/gatr/lib/python3.10/site-packages (from jinja2->torch_geometric==2.5.3->-r requirements.txt (line 10)) (3.0.1)\n",
      "Requirement already satisfied: PySocks!=1.5.7,>=1.5.6 in /home/neverorfrog/.local/lib/python3.10/site-packages (from requests[socks]->gdown->-r requirements.txt (line 1)) (1.7.1)\n",
      "Requirement already satisfied: joblib>=1.2.0 in /home/neverorfrog/.local/lib/python3.10/site-packages (from scikit-learn->torch_geometric==2.5.3->-r requirements.txt (line 10)) (1.4.2)\n",
      "Requirement already satisfied: threadpoolctl>=3.1.0 in /home/neverorfrog/.local/lib/python3.10/site-packages (from scikit-learn->torch_geometric==2.5.3->-r requirements.txt (line 10)) (3.5.0)\n",
      "Requirement already satisfied: mpmath<1.4,>=1.1.0 in /home/neverorfrog/.local/lib/python3.10/site-packages (from sympy->torch->-r requirements.txt (line 9)) (1.3.0)\n",
      "Requirement already satisfied: smmap<6,>=3.0.1 in /home/neverorfrog/.local/lib/python3.10/site-packages (from gitdb<5,>=4.0.1->gitpython!=3.1.29,>=1.0.0->wandb->-r requirements.txt (line 21)) (5.0.1)\n",
      "Requirement already satisfied: mdurl~=0.1 in /home/neverorfrog/.local/lib/python3.10/site-packages (from markdown-it-py>=2.2.0->rich<14.0,>=12.3.0->lightning[extra]->-r requirements.txt (line 12)) (0.1.2)\n",
      "Requirement already satisfied: importlib-resources>=1.4.0 in /home/neverorfrog/.local/lib/python3.10/site-packages (from typeshed-client>=2.1.0->jsonargparse[signatures]<5.0,>=4.27.7; extra == \"extra\"->lightning[extra]->-r requirements.txt (line 12)) (6.4.5)\n",
      "Requirement already satisfied: propcache>=0.2.0 in /home/neverorfrog/.local/lib/python3.10/site-packages (from yarl<2.0,>=1.12.0->aiohttp->torch_geometric==2.5.3->-r requirements.txt (line 10)) (0.2.0)\n",
      "[https://github.com/psf/black] already up to date!\n",
      "[https://github.com/pycqa/isort] already up to date!\n",
      "[https://github.com/PyCQA/flake8] already up to date!\n",
      "[https://github.com/pre-commit/mirrors-mypy] updating v1.11.2 -> v1.12.0\n",
      "pre-commit installed at .git/hooks/pre-commit\n"
     ]
    }
   ],
   "source": [
    "import sys\n",
    "\n",
    "COLAB_RUNTIME = 'google.colab' in sys.modules\n",
    "if COLAB_RUNTIME:\n",
    "    !git init\n",
    "    !git remote add origin https://github.com/DaniAffCH/Vessel-Geometric-Transformers.git\n",
    "    !git pull origin main\n",
    "    !pip install -q -r requirements.txt\n",
    "else: # Development mode, setting precommit checks \n",
    "    !pip install -r requirements.txt\n",
    "    !pre-commit autoupdate\n",
    "    !pre-commit install\n"
   ]
  },
  {
   "cell_type": "markdown",
   "metadata": {},
   "source": [
    "Loading the configuration"
   ]
  },
  {
   "cell_type": "code",
   "execution_count": 2,
   "metadata": {},
   "outputs": [],
   "source": [
    "from src.utils import load_config\n",
    "import os\n",
    "\n",
    "config_path = os.path.join(\"config\",\"config.yaml\")\n",
    "config = load_config(config_path)"
   ]
  },
  {
   "cell_type": "markdown",
   "metadata": {},
   "source": [
    "---"
   ]
  },
  {
   "cell_type": "markdown",
   "metadata": {},
   "source": [
    "Loading the dataset"
   ]
  },
  {
   "cell_type": "code",
   "execution_count": 3,
   "metadata": {},
   "outputs": [
    {
     "name": "stderr",
     "output_type": "stream",
     "text": [
      "Processing...\n",
      "Loading /home/neverorfrog/code/Vessel-Geometric-Transformers/dataset/stead/bifurcating/raw/database.hdf5: 100%|██████████| 1999/1999 [00:06<00:00, 288.50it/s]\n",
      "Loading /home/neverorfrog/code/Vessel-Geometric-Transformers/dataset/stead/single/raw/database.hdf5: 100%|██████████| 2000/2000 [00:04<00:00, 463.57it/s]\n"
     ]
    },
    {
     "ename": "",
     "evalue": "",
     "output_type": "error",
     "traceback": [
      "\u001b[1;31mThe Kernel crashed while executing code in the current cell or a previous cell. \n",
      "\u001b[1;31mPlease review the code in the cell(s) to identify a possible cause of the failure. \n",
      "\u001b[1;31mClick <a href='https://aka.ms/vscodeJupyterKernelCrash'>here</a> for more info. \n",
      "\u001b[1;31mView Jupyter <a href='command:jupyter.viewOutput'>log</a> for further details."
     ]
    }
   ],
   "source": [
    "from src.data import VesselDataModule\n",
    "from src.utils.data_analysis import data_info\n",
    "\n",
    "data = VesselDataModule(config.dataset)\n",
    "data_info(data)"
   ]
  },
  {
   "cell_type": "markdown",
   "metadata": {},
   "source": [
    "Data distribution"
   ]
  },
  {
   "cell_type": "code",
   "execution_count": null,
   "metadata": {},
   "outputs": [],
   "source": [
    "import seaborn as sns\n",
    "sns.countplot(data.data.label)"
   ]
  },
  {
   "cell_type": "code",
   "execution_count": null,
   "metadata": {},
   "outputs": [],
   "source": [
    "from src.utils.definitions import Feature, Category\n",
    "from src.utils.data_analysis import plot_data\n",
    "\n",
    "wss, labels = data.extract_feature(Feature.WSS)\n",
    "pos, labels = data.extract_feature(Feature.POS)\n",
    "pressure, labels = data.extract_feature(Feature.PRESSURE)\n",
    "face, labels = data.extract_feature(Feature.FACE)\n",
    "plot_data(pos, labels, Category, \"Position\")\n",
    "plot_data(wss, labels, Category, \"Wall Shear Stress\")\n",
    "plot_data(pressure, labels, Category, \"Pressure\")\n",
    "plot_data(face, labels, Category, \"Face\")"
   ]
  },
  {
   "cell_type": "markdown",
   "metadata": {},
   "source": [
    "---"
   ]
  },
  {
   "cell_type": "markdown",
   "metadata": {},
   "source": [
    "Performing equivariance check"
   ]
  },
  {
   "cell_type": "code",
   "execution_count": null,
   "metadata": {},
   "outputs": [],
   "source": [
    "from src.lib.geometricAlgebraElements import GeometricAlgebraBase\n",
    "from src.test.test_equivariance import TestEquivariance\n",
    "import unittest\n",
    "\n",
    "dl = data.train_dataloader()\n",
    "\n",
    "batch = next(iter(dl)).data[0]\n",
    "batch = batch.view(-1, GeometricAlgebraBase.GA_size)[:10]\n",
    "TestEquivariance.INPUT_DATA = batch\n",
    "\n",
    "suite = unittest.TestSuite()\n",
    "suite.addTests(unittest.TestLoader().loadTestsFromTestCase(TestEquivariance))\n",
    "test_runner = unittest.TextTestRunner(verbosity=0)\n",
    "restResult = test_runner.run(suite)"
   ]
  },
  {
   "cell_type": "markdown",
   "metadata": {},
   "source": [
    "---"
   ]
  },
  {
   "cell_type": "markdown",
   "metadata": {},
   "source": [
    "Baseline"
   ]
  },
  {
   "cell_type": "code",
   "execution_count": null,
   "metadata": {},
   "outputs": [],
   "source": [
    "from src.models import BaselineTransformer\n",
    "from src.utils.hpo import baseline_hpo\n",
    "\n",
    "baseline_hpo(config, data) # Hyperparameter optimization: writes the config file with the best hyperparameters"
   ]
  },
  {
   "cell_type": "code",
   "execution_count": null,
   "metadata": {},
   "outputs": [],
   "source": [
    "from src.trainer import VesselTrainer\n",
    "\n",
    "model = BaselineTransformer(config.baseline)\n",
    "trainer = VesselTrainer(config.trainer)\n",
    "trainer.fit(model, data)"
   ]
  },
  {
   "cell_type": "code",
   "execution_count": null,
   "metadata": {},
   "outputs": [],
   "source": [
    "trainer.test(model, data)"
   ]
  },
  {
   "cell_type": "markdown",
   "metadata": {},
   "source": [
    "---"
   ]
  },
  {
   "cell_type": "markdown",
   "metadata": {},
   "source": [
    "Gatr"
   ]
  },
  {
   "cell_type": "code",
   "execution_count": null,
   "metadata": {},
   "outputs": [],
   "source": [
    "from src.models import Gatr\n",
    "from src.utils.hpo import gatr_hpo\n",
    "\n",
    "gatr_hpo(config, data) # Hyperparameter optimization: writes the config file with the best hyperparameters"
   ]
  },
  {
   "cell_type": "code",
   "execution_count": null,
   "metadata": {},
   "outputs": [],
   "source": [
    "from src.trainer import VesselTrainer\n",
    "\n",
    "model = Gatr(config.gatr)\n",
    "trainer = VesselTrainer(config.trainer)\n",
    "trainer.fit(model, data)"
   ]
  },
  {
   "cell_type": "code",
   "execution_count": 9,
   "metadata": {},
   "outputs": [],
   "source": [
    "trainer.test(model, data)"
   ]
  },
  {
   "cell_type": "markdown",
   "metadata": {},
   "source": [
    "----"
   ]
  }
 ],
 "metadata": {
  "kernelspec": {
   "display_name": "gatr",
   "language": "python",
   "name": "python3"
  },
  "language_info": {
   "codemirror_mode": {
    "name": "ipython",
    "version": 3
   },
   "file_extension": ".py",
   "mimetype": "text/x-python",
   "name": "python",
   "nbconvert_exporter": "python",
   "pygments_lexer": "ipython3",
   "version": "3.10.15"
  }
 },
 "nbformat": 4,
 "nbformat_minor": 2
}
