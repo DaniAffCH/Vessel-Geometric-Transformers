{
 "cells": [
  {
   "cell_type": "markdown",
   "metadata": {},
   "source": [
    "You can run this notebook directly on Google Colab\n",
    "\n",
    "[![Open In Colab](https://colab.research.google.com/assets/colab-badge.svg)](https://colab.research.google.com/github/DaniAffCH/Vessel-Geometric-Transformers/blob/main/main.ipynb)"
   ]
  },
  {
   "cell_type": "code",
   "execution_count": null,
   "metadata": {},
   "outputs": [],
   "source": [
    "import sys\n",
    "import warnings\n",
    "\n",
    "warnings.filterwarnings('ignore')\n",
    "\n",
    "COLAB_RUNTIME = 'google.colab' in sys.modules\n",
    "!nvidia-smi &> /dev/null || echo -e \"\\e[31mWarning: No GPU found. Please check your runtime settings.\\e[0m\"\n",
    "if COLAB_RUNTIME:\n",
    "    !git config --global init.defaultBranch main\n",
    "    !git init\n",
    "    !git remote add origin https://github.com/DaniAffCH/Vessel-Geometric-Transformers.git\n",
    "    !git pull origin main\n",
    "    !pip install -q -r requirements.txt\n",
    "else: # Development mode, setting precommit checks \n",
    "    !pip install -r requirements.txt\n",
    "    !pre-commit autoupdate\n",
    "    !pre-commit install\n"
   ]
  },
  {
   "cell_type": "markdown",
   "metadata": {},
   "source": [
    "Loading the configuration (customizable changing config.yaml)"
   ]
  },
  {
   "cell_type": "code",
   "execution_count": 2,
   "metadata": {},
   "outputs": [],
   "source": [
    "from src.utils import load_config\n",
    "import os\n",
    "\n",
    "config_path = os.path.join(\"config\",\"config.yaml\")\n",
    "config = load_config(config_path)"
   ]
  },
  {
   "cell_type": "markdown",
   "metadata": {},
   "source": [
    "---"
   ]
  },
  {
   "cell_type": "markdown",
   "metadata": {},
   "source": [
    "Loading the dataset and showing statistics"
   ]
  },
  {
   "cell_type": "code",
   "execution_count": null,
   "metadata": {},
   "outputs": [],
   "source": [
    "from src.data import VesselDataModule\n",
    "from src.utils.data_analysis import data_info\n",
    "\n",
    "data = VesselDataModule(config.dataset)\n",
    "\n",
    "data_info(data)"
   ]
  },
  {
   "cell_type": "markdown",
   "metadata": {},
   "source": [
    "Showing label distribution to check whether train, validation and test set are balanced"
   ]
  },
  {
   "cell_type": "code",
   "execution_count": null,
   "metadata": {},
   "outputs": [],
   "source": [
    "import seaborn as sns\n",
    "import numpy as np\n",
    "import pandas as pd\n",
    "import matplotlib.pyplot as plt\n",
    "\n",
    "train_labels = data.train_set.getLabels()\n",
    "val_labels = data.val_set.getLabels()\n",
    "test_labels = data.test_set.getLabels()\n",
    "\n",
    "combined_labels = np.concatenate([train_labels, val_labels, test_labels])\n",
    "subsets = ['train'] * len(train_labels) + ['val'] * len(val_labels) + ['test'] * len(test_labels)\n",
    "\n",
    "df = pd.DataFrame({'label': combined_labels, 'subset': subsets})\n",
    "\n",
    "df['count'] = df.groupby(['subset', 'label'])['label'].transform('count')\n",
    "df['total'] = df.groupby('subset')['label'].transform('count')\n",
    "df['frequency'] = df['count'] / df['total']\n",
    "\n",
    "df_normalized = df.drop_duplicates(subset=['label', 'subset'])\n",
    "\n",
    "sns.set_theme(style='whitegrid')\n",
    "\n",
    "plt.figure(figsize=(12, 6))\n",
    "\n",
    "sns.barplot(x='subset', y='frequency', hue='label', data=df_normalized)\n",
    "\n",
    "plt.title('Normalized Label Distribution Across Train, Validation, and Test Sets')\n",
    "plt.xlabel('Dataset Subset')\n",
    "plt.ylabel('Normalized Frequency')\n",
    "plt.legend(title='Label', loc='upper right')\n",
    "plt.xticks(rotation=0)\n",
    "plt.tight_layout()\n",
    "plt.show()\n"
   ]
  },
  {
   "cell_type": "markdown",
   "metadata": {},
   "source": [
    "Plotting the data distribution projected in 2D using Principal Component Analysis."
   ]
  },
  {
   "cell_type": "code",
   "execution_count": null,
   "metadata": {},
   "outputs": [],
   "source": [
    "from src.utils.definitions import Feature, Category\n",
    "from src.utils.data_analysis import plot_data\n",
    "\n",
    "wss, labels = data.extract_feature(Feature.WSS)\n",
    "pos, labels = data.extract_feature(Feature.POS)\n",
    "pressure, labels = data.extract_feature(Feature.PRESSURE)\n",
    "face, labels = data.extract_feature(Feature.FACE)\n",
    "plot_data(pos, labels, Category, \"Position\")\n",
    "plot_data(wss, labels, Category, \"Wall Shear Stress\")\n",
    "plot_data(pressure, labels, Category, \"Pressure\")\n",
    "plot_data(face, labels, Category, \"Face\")"
   ]
  },
  {
   "cell_type": "markdown",
   "metadata": {},
   "source": [
    "---"
   ]
  },
  {
   "cell_type": "markdown",
   "metadata": {},
   "source": [
    "Performing equivariance check using random samples from the dataset.  \n",
    "Geometric Layer is expected to fail due to lack of distance-aware dot product"
   ]
  },
  {
   "cell_type": "code",
   "execution_count": null,
   "metadata": {},
   "outputs": [],
   "source": [
    "from src.lib.geometricAlgebraElements import GeometricAlgebraBase\n",
    "from src.test.test_equivariance import TestEquivariance\n",
    "import unittest\n",
    "\n",
    "dl = data.train_dataloader()\n",
    "\n",
    "batch = next(iter(dl)).data[0]\n",
    "batch = batch.view(-1, GeometricAlgebraBase.GA_size)[:10]\n",
    "TestEquivariance.INPUT_DATA = batch\n",
    "\n",
    "suite = unittest.TestSuite()\n",
    "suite.addTests(unittest.TestLoader().loadTestsFromTestCase(TestEquivariance))\n",
    "test_runner = unittest.TextTestRunner(verbosity=0)\n",
    "restResult = test_runner.run(suite)"
   ]
  },
  {
   "cell_type": "markdown",
   "metadata": {},
   "source": [
    "---"
   ]
  },
  {
   "cell_type": "markdown",
   "metadata": {},
   "source": [
    "# Attention based Baseline"
   ]
  },
  {
   "cell_type": "markdown",
   "metadata": {},
   "source": [
    "Running hyperparameter optimization to find the best hyperparameters maximizing the validation accuracy"
   ]
  },
  {
   "cell_type": "code",
   "execution_count": null,
   "metadata": {},
   "outputs": [],
   "source": [
    "from src.utils.hpo import baseline_hpo\n",
    "\n",
    "baseline_hpo(config, data) # Hyperparameter optimization: writes the config file with the best hyperparameters"
   ]
  },
  {
   "cell_type": "markdown",
   "metadata": {},
   "source": [
    "Training the model using the best hyperparameters"
   ]
  },
  {
   "cell_type": "code",
   "execution_count": null,
   "metadata": {},
   "outputs": [],
   "source": [
    "from src.trainer import VesselTrainer\n",
    "from src.models import BaselineTransformer\n",
    "\n",
    "model = BaselineTransformer(config.baseline)\n",
    "trainer = VesselTrainer(config.trainer)\n",
    "trainer.fit(model, data)"
   ]
  },
  {
   "cell_type": "markdown",
   "metadata": {},
   "source": [
    "Test the model performance on unseen test data."
   ]
  },
  {
   "cell_type": "code",
   "execution_count": null,
   "metadata": {},
   "outputs": [],
   "source": [
    "trainer.test(model, data)"
   ]
  },
  {
   "cell_type": "markdown",
   "metadata": {},
   "source": [
    "---"
   ]
  },
  {
   "cell_type": "markdown",
   "metadata": {},
   "source": [
    "# GATr"
   ]
  },
  {
   "cell_type": "markdown",
   "metadata": {},
   "source": [
    "Running hyperparameter optimization to find the best hyperparameters maximizing the validation accuracy"
   ]
  },
  {
   "cell_type": "code",
   "execution_count": null,
   "metadata": {},
   "outputs": [],
   "source": [
    "from src.models import Gatr\n",
    "from src.utils.hpo import gatr_hpo\n",
    "\n",
    "gatr_hpo(config, data) # Hyperparameter optimization: writes the config file with the best hyperparameters"
   ]
  },
  {
   "cell_type": "markdown",
   "metadata": {},
   "source": [
    "Training the model using the best hyperparameters"
   ]
  },
  {
   "cell_type": "code",
   "execution_count": null,
   "metadata": {},
   "outputs": [],
   "source": [
    "from src.trainer import VesselTrainer\n",
    "\n",
    "model = Gatr(config.gatr)\n",
    "trainer = VesselTrainer(config.trainer)\n",
    "trainer.fit(model, data)"
   ]
  },
  {
   "cell_type": "markdown",
   "metadata": {},
   "source": [
    "Test the model performance on unseen test data."
   ]
  },
  {
   "cell_type": "code",
   "execution_count": null,
   "metadata": {},
   "outputs": [],
   "source": [
    "trainer.test(model, data)"
   ]
  },
  {
   "cell_type": "markdown",
   "metadata": {},
   "source": [
    "----"
   ]
  }
 ],
 "metadata": {
  "kernelspec": {
   "display_name": ".venv",
   "language": "python",
   "name": "python3"
  },
  "language_info": {
   "codemirror_mode": {
    "name": "ipython",
    "version": 3
   },
   "file_extension": ".py",
   "mimetype": "text/x-python",
   "name": "python",
   "nbconvert_exporter": "python",
   "pygments_lexer": "ipython3",
   "version": "3.10.12"
  }
 },
 "nbformat": 4,
 "nbformat_minor": 2
}
