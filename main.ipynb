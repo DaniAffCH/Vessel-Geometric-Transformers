{
 "cells": [
  {
   "cell_type": "markdown",
   "metadata": {},
   "source": [
    "# Geometric Transformers\n",
    "\n",
    "You can run this notebook directly on Google Colab\n",
    "\n",
    "[![Open In Colab](https://colab.research.google.com/assets/colab-badge.svg)](https://colab.research.google.com/github/DaniAffCH/Vessel-Geometric-Transformers/blob/main/main.ipynb)"
   ]
  },
  {
   "cell_type": "markdown",
   "metadata": {},
   "source": [
    "## Index\n",
    "\n",
    "The complete repository containing all the code can be found [here](https://github.com/DaniAffCH/Vessel-Geometric-Transformers).\n",
    "\n",
    "### Geometric Algebra \n",
    "- [geometricAlgebraElements](https://github.com/DaniAffCH/Vessel-Geometric-Transformers/blob/main/src/lib/geometricAlgebraElements.py) defines how geometric objects and transformations can be embedded into projective geometric algebra\n",
    "- [geometricAlgebraOperations](https://github.com/DaniAffCH/Vessel-Geometric-Transformers/blob/main/src/lib/geometricAlgebraOperations.py) defines operations between multivectors\n",
    "\n",
    "### [Dataset](#dataset) \n",
    "- [dataset](https://github.com/DaniAffCH/Vessel-Geometric-Transformers/blob/main/src/data/dataset.py) downloads the dataset into .hdf5 files and shuffles the labels \n",
    "- [datamodule](https://github.com/DaniAffCH/Vessel-Geometric-Transformers/blob/main/src/data/datamodule.py) is the class where raw data is embedded into geometric algebra and then collected into batches by the dataloaders\n",
    "\n",
    "### Layers\n",
    "- [default](https://github.com/DaniAffCH/Vessel-Geometric-Transformers/blob/main/src/models/layers/default) where layers for the baseline transformer are implemented\n",
    "- [geometric](https://github.com/DaniAffCH/Vessel-Geometric-Transformers/blob/main/src/models/layers/geometric) where all the layers equivariant to the E(3) symmetry group are implemented\n",
    "\n",
    "### [Equivariance](#equivariance-check)\n",
    "- [equivariance](https://github.com/DaniAffCH/Vessel-Geometric-Transformers/blob/main/src/lib/equivariance.py) check utility functions, where transformations against which equivariance must hold are implemented\n",
    "- [tests](https://github.com/DaniAffCH/Vessel-Geometric-Transformers/blob/main/src/test/test_equivariance.py) to check equivariance\n",
    "\n",
    "### [Models](https://github.com/DaniAffCH/Vessel-Geometric-Transformers/blob/main/src/models)"
   ]
  },
  {
   "cell_type": "code",
   "execution_count": 1,
   "metadata": {},
   "outputs": [
    {
     "name": "stdout",
     "output_type": "stream",
     "text": [
      "\n",
      "\u001b[1m[\u001b[0m\u001b[34;49mnotice\u001b[0m\u001b[1;39;49m]\u001b[0m\u001b[39;49m A new release of pip is available: \u001b[0m\u001b[31;49m24.0\u001b[0m\u001b[39;49m -> \u001b[0m\u001b[32;49m24.3.1\u001b[0m\n",
      "\u001b[1m[\u001b[0m\u001b[34;49mnotice\u001b[0m\u001b[1;39;49m]\u001b[0m\u001b[39;49m To update, run: \u001b[0m\u001b[32;49mpip install --upgrade pip\u001b[0m\n",
      "[https://github.com/psf/black] already up to date!\n",
      "[https://github.com/pycqa/isort] already up to date!\n",
      "[https://github.com/PyCQA/flake8] already up to date!\n",
      "[https://github.com/pre-commit/mirrors-mypy] already up to date!\n",
      "pre-commit installed at .git/hooks/pre-commit\n"
     ]
    }
   ],
   "source": [
    "import sys\n",
    "import warnings\n",
    "\n",
    "warnings.filterwarnings('ignore')\n",
    "\n",
    "COLAB_RUNTIME = 'google.colab' in sys.modules\n",
    "!nvidia-smi &> /dev/null || echo -e \"\\e[31mWarning: No GPU found. Please check your runtime settings.\\e[0m\"\n",
    "if COLAB_RUNTIME:\n",
    "    !git config --global init.defaultBranch main\n",
    "    !git init\n",
    "    !git remote add origin https://github.com/DaniAffCH/Vessel-Geometric-Transformers.git\n",
    "    !git pull origin main\n",
    "    !pip install -q -r requirements.txt\n",
    "else: # Development mode, setting precommit checks \n",
    "    !pip install -q -r requirements.txt\n",
    "    !pre-commit autoupdate\n",
    "    !pre-commit install\n"
   ]
  },
  {
   "cell_type": "markdown",
   "metadata": {},
   "source": [
    "---"
   ]
  },
  {
   "cell_type": "markdown",
   "metadata": {},
   "source": [
    "### Loading the configuration\n",
    "- You can change by modifying this [yaml](https://github.com/DaniAffCH/Vessel-Geometric-Transformers/blob/main/config/config.yaml) file\n",
    "- New entries should be added also [here](https://github.com/DaniAffCH/Vessel-Geometric-Transformers/blob/main/config/dataclasses.py)"
   ]
  },
  {
   "cell_type": "code",
   "execution_count": 2,
   "metadata": {},
   "outputs": [
    {
     "name": "stderr",
     "output_type": "stream",
     "text": [
      "Seed set to 3735928559\n"
     ]
    },
    {
     "data": {
      "text/plain": [
       "3735928559"
      ]
     },
     "execution_count": 2,
     "metadata": {},
     "output_type": "execute_result"
    }
   ],
   "source": [
    "from src.utils import load_config\n",
    "import os\n",
    "from lightning import seed_everything\n",
    "\n",
    "config_path = os.path.join(\"config\",\"config.yaml\")\n",
    "config = load_config(config_path)\n",
    "seed_everything(config.seed)"
   ]
  },
  {
   "cell_type": "markdown",
   "metadata": {},
   "source": [
    "---"
   ]
  },
  {
   "cell_type": "markdown",
   "metadata": {},
   "source": [
    "### Loading the dataset\n",
    "Showing data shapes and label distribution to check whether train, validation and test set are balanced"
   ]
  },
  {
   "cell_type": "code",
   "execution_count": 3,
   "metadata": {},
   "outputs": [
    {
     "name": "stdout",
     "output_type": "stream",
     "text": [
      "Train size: 2999\n",
      "Val size: 599\n",
      "Test size: 401\n",
      "One Sample: Data(pos=[9382, 3], wss=[9382, 3], pressure=[9382], face=[3, 18760], inlet_index=[252], label=Category.Single)\n"
     ]
    },
    {
     "name": "stderr",
     "output_type": "stream",
     "text": [
      "100%|██████████| 3999/3999 [00:03<00:00, 1016.16it/s]\n"
     ]
    },
    {
     "data": {
      "text/html": [
       "<div>\n",
       "<style scoped>\n",
       "    .dataframe tbody tr th:only-of-type {\n",
       "        vertical-align: middle;\n",
       "    }\n",
       "\n",
       "    .dataframe tbody tr th {\n",
       "        vertical-align: top;\n",
       "    }\n",
       "\n",
       "    .dataframe thead th {\n",
       "        text-align: right;\n",
       "    }\n",
       "</style>\n",
       "<table border=\"1\" class=\"dataframe\">\n",
       "  <thead>\n",
       "    <tr style=\"text-align: right;\">\n",
       "      <th></th>\n",
       "      <th>Mean</th>\n",
       "      <th>Median</th>\n",
       "      <th>Std</th>\n",
       "      <th>Min</th>\n",
       "      <th>Max</th>\n",
       "    </tr>\n",
       "  </thead>\n",
       "  <tbody>\n",
       "    <tr>\n",
       "      <th>WSS</th>\n",
       "      <td>13011.76019</td>\n",
       "      <td>11387.0</td>\n",
       "      <td>4271.667184</td>\n",
       "      <td>5466</td>\n",
       "      <td>24800</td>\n",
       "    </tr>\n",
       "    <tr>\n",
       "      <th>POS</th>\n",
       "      <td>13011.76019</td>\n",
       "      <td>11387.0</td>\n",
       "      <td>4271.667184</td>\n",
       "      <td>5466</td>\n",
       "      <td>24800</td>\n",
       "    </tr>\n",
       "    <tr>\n",
       "      <th>FACE</th>\n",
       "      <td>26019.52038</td>\n",
       "      <td>22770.0</td>\n",
       "      <td>8543.334368</td>\n",
       "      <td>10928</td>\n",
       "      <td>49596</td>\n",
       "    </tr>\n",
       "    <tr>\n",
       "      <th>PRESSURE</th>\n",
       "      <td>13011.76019</td>\n",
       "      <td>11387.0</td>\n",
       "      <td>4271.667184</td>\n",
       "      <td>5466</td>\n",
       "      <td>24800</td>\n",
       "    </tr>\n",
       "  </tbody>\n",
       "</table>\n",
       "</div>"
      ],
      "text/plain": [
       "                 Mean   Median          Std    Min    Max\n",
       "WSS       13011.76019  11387.0  4271.667184   5466  24800\n",
       "POS       13011.76019  11387.0  4271.667184   5466  24800\n",
       "FACE      26019.52038  22770.0  8543.334368  10928  49596\n",
       "PRESSURE  13011.76019  11387.0  4271.667184   5466  24800"
      ]
     },
     "metadata": {},
     "output_type": "display_data"
    },
    {
     "data": {
      "image/png": "[encoded data removed]",
      "text/plain": [
       "<Figure size 1200x600 with 1 Axes>"
      ]
     },
     "metadata": {},
     "output_type": "display_data"
    }
   ],
   "source": [
    "from src.data import VesselDataModule\n",
    "from src.utils.data_analysis import data_info, check_class_distribution\n",
    "\n",
    "data = VesselDataModule(config.dataset)\n",
    "data_info(data)\n",
    "check_class_distribution(data)"
   ]
  },
  {
   "cell_type": "markdown",
   "metadata": {},
   "source": [
    "Plotting the data distribution projected in 2D using Principal Component Analysis."
   ]
  },
  {
   "cell_type": "code",
   "execution_count": 4,
   "metadata": {},
   "outputs": [
    {
     "name": "stderr",
     "output_type": "stream",
     "text": [
      "Extracting Feature.WSS: 100%|██████████| 3999/3999 [00:03<00:00, 1026.45it/s]\n",
      "Extracting Feature.POS: 100%|██████████| 3999/3999 [00:04<00:00, 987.85it/s] \n",
      "Extracting Feature.PRESSURE: 100%|██████████| 3999/3999 [00:03<00:00, 1062.92it/s]\n",
      "Extracting Feature.FACE: 100%|██████████| 3999/3999 [00:03<00:00, 1093.16it/s]\n"
     ]
    },
    {
     "data": {
      "image/png": "[encoded data removed]",
      "text/plain": [
       "<Figure size 640x480 with 1 Axes>"
      ]
     },
     "metadata": {},
     "output_type": "display_data"
    },
    {
     "data": {
      "image/png": "[encoded data removed]",
      "text/plain": [
       "<Figure size 640x480 with 1 Axes>"
      ]
     },
     "metadata": {},
     "output_type": "display_data"
    },
    {
     "data": {
      "image/png": "[encoded data removed]",
      "text/plain": [
       "<Figure size 640x480 with 1 Axes>"
      ]
     },
     "metadata": {},
     "output_type": "display_data"
    },
    {
     "data": {
      "image/png": "[encoded data removed]",
      "text/plain": [
       "<Figure size 640x480 with 1 Axes>"
      ]
     },
     "metadata": {},
     "output_type": "display_data"
    }
   ],
   "source": [
    "from src.utils.definitions import Feature, Category\n",
    "from src.utils.data_analysis import plot_data\n",
    "\n",
    "wss, labels = data.extract_feature(Feature.WSS)\n",
    "pos, labels = data.extract_feature(Feature.POS)\n",
    "pressure, labels = data.extract_feature(Feature.PRESSURE)\n",
    "face, labels = data.extract_feature(Feature.FACE)\n",
    "plot_data(pos, labels, Category, \"Position\")\n",
    "plot_data(wss, labels, Category, \"Wall Shear Stress\")\n",
    "plot_data(pressure, labels, Category, \"Pressure\")\n",
    "plot_data(face, labels, Category, \"Face\")"
   ]
  },
  {
   "cell_type": "markdown",
   "metadata": {},
   "source": [
    "---"
   ]
  },
  {
   "cell_type": "markdown",
   "metadata": {},
   "source": [
    "### Equivariance Check\n",
    "Performing equivariance check using random samples from the dataset.  \n",
    "Geometric Layer is expected to fail due to lack of distance-aware dot product"
   ]
  },
  {
   "cell_type": "code",
   "execution_count": 5,
   "metadata": {},
   "outputs": [
    {
     "name": "stdout",
     "output_type": "stream",
     "text": [
      "\n",
      "✅ GeometricBilinearLayer passed all equivariance tests               with a tolerance of 1e-05.              [10 inputs, 100 checks each]\n",
      "\n",
      "✅ EquiLinearLayer passed all equivariance tests               with a tolerance of 1e-05.              [10 inputs, 100 checks each]\n",
      "\n",
      "✅ EquiNormLayer passed all equivariance tests               with a tolerance of 1e-05.              [10 inputs, 100 checks each]\n"
     ]
    },
    {
     "name": "stderr",
     "output_type": "stream",
     "text": [
      "======================================================================\n",
      "FAIL: test_geomattention_layer (src.test.test_equivariance.TestEquivariance)\n",
      "Tests the equivariance of the GeometricAttentionLayer.\n",
      "----------------------------------------------------------------------\n",
      "Traceback (most recent call last):\n",
      "  File \"/home/daniaffch/Uni/Deep_Learning/Vessel-Geometric-Transformers/src/test/test_equivariance.py\", line 125, in test_geomattention_layer\n",
      "    self.assertTrue(\n",
      "AssertionError: False is not true : GeometricAttentionLayer failed the equivariance                     test for input 1\n",
      "\n",
      "----------------------------------------------------------------------\n",
      "Ran 5 tests in 5.996s\n",
      "\n",
      "FAILED (failures=1)\n"
     ]
    },
    {
     "name": "stdout",
     "output_type": "stream",
     "text": [
      "\n",
      "✅ GatedGELU passed all equivariance tests               with a tolerance of 1e-05.              [10 inputs, 100 checks each]\n"
     ]
    }
   ],
   "source": [
    "from src.lib.geometricAlgebraElements import GeometricAlgebraBase\n",
    "from src.test.test_equivariance import TestEquivariance\n",
    "import unittest\n",
    "\n",
    "dl = data.train_dataloader()\n",
    "batch = next(iter(dl)).data[0]\n",
    "batch = batch.view(-1, GeometricAlgebraBase.GA_size)[:10] # Flattening and taking only the first 10 elements\n",
    "TestEquivariance.INPUT_DATA = batch # Setting the input data for the test\n",
    "\n",
    "suite = unittest.TestSuite()\n",
    "suite.addTests(unittest.TestLoader().loadTestsFromTestCase(TestEquivariance))\n",
    "test_runner = unittest.TextTestRunner(verbosity=0)\n",
    "restResult = test_runner.run(suite)"
   ]
  },
  {
   "cell_type": "markdown",
   "metadata": {},
   "source": [
    "---"
   ]
  },
  {
   "cell_type": "markdown",
   "metadata": {},
   "source": [
    "### MLP Baseline\n",
    "\n",
    "Running hyperparameter optimization to find the best hyperparameters maximizing the validation accuracy"
   ]
  },
  {
   "cell_type": "code",
   "execution_count": 6,
   "metadata": {},
   "outputs": [
    {
     "name": "stderr",
     "output_type": "stream",
     "text": [
      "[I 2024-10-31 11:48:01,897] A new study created in memory with name: baseline_hpo\n"
     ]
    },
    {
     "name": "stdout",
     "output_type": "stream",
     "text": [
      "Starting a new hyperparameter optimization study...\n",
      "Starting a new trial...\n",
      "Trial number: 0\n",
      "Learning rate: 0.001\n",
      "Batch Size: 8\n"
     ]
    },
    {
     "name": "stderr",
     "output_type": "stream",
     "text": [
      "GPU available: True (cuda), used: True\n",
      "TPU available: False, using: 0 TPU cores\n",
      "HPU available: False, using: 0 HPUs\n",
      "LOCAL_RANK: 0 - CUDA_VISIBLE_DEVICES: [0]\n",
      "\n",
      "  | Name           | Type               | Params | Mode \n",
      "--------------------------------------------------------------\n",
      "0 | loss_fn        | BCEWithLogitsLoss  | 0      | train\n",
      "1 | train_accuracy | BinaryAccuracy     | 0      | train\n",
      "2 | val_accuracy   | BinaryAccuracy     | 0      | train\n",
      "3 | test_accuracy  | BinaryAccuracy     | 0      | train\n",
      "4 | train_f1       | BinaryF1Score      | 0      | train\n",
      "5 | val_f1         | BinaryF1Score      | 0      | train\n",
      "6 | test_f1        | BinaryF1Score      | 0      | train\n",
      "7 | encoder        | TransformerEncoder | 2.2 K  | train\n",
      "8 | embedder       | Linear             | 272    | train\n",
      "9 | projection     | Linear             | 19.2 K | train\n",
      "--------------------------------------------------------------\n",
      "21.7 K    Trainable params\n",
      "0         Non-trainable params\n",
      "21.7 K    Total params\n",
      "0.087     Total estimated model params size (MB)\n"
     ]
    },
    {
     "name": "stdout",
     "output_type": "stream",
     "text": [
      "Epoch 3: 100%|██████████| 375/375 [00:16<00:00, 22.22it/s, v_num=116, val/loss=0.047, val/acc=0.987, val/f1=0.987, train/loss=0.0274, train/acc=0.992, train/f1=0.992] "
     ]
    },
    {
     "name": "stderr",
     "output_type": "stream",
     "text": [
      "`Trainer.fit` stopped: `max_epochs=4` reached.\n"
     ]
    },
    {
     "name": "stdout",
     "output_type": "stream",
     "text": [
      "Epoch 3: 100%|██████████| 375/375 [00:16<00:00, 22.21it/s, v_num=116, val/loss=0.047, val/acc=0.987, val/f1=0.987, train/loss=0.0274, train/acc=0.992, train/f1=0.992]\n"
     ]
    },
    {
     "name": "stderr",
     "output_type": "stream",
     "text": [
      "[I 2024-10-31 11:49:09,983] Trial 0 finished with value: 0.04697806388139725 and parameters: {'lr': 0.0001669972529293522, 'hidden_size': 16, 'batch_size': 8}. Best is trial 0 with value: 0.04697806388139725.\n"
     ]
    },
    {
     "name": "stdout",
     "output_type": "stream",
     "text": [
      "Trial 0 finished with value 0.04697806388139725\n",
      "Starting a new trial...\n",
      "Trial number: 1\n",
      "Learning rate: 0.001\n",
      "Batch Size: 4\n"
     ]
    },
    {
     "name": "stderr",
     "output_type": "stream",
     "text": [
      "GPU available: True (cuda), used: True\n",
      "TPU available: False, using: 0 TPU cores\n",
      "HPU available: False, using: 0 HPUs\n",
      "LOCAL_RANK: 0 - CUDA_VISIBLE_DEVICES: [0]\n",
      "\n",
      "  | Name           | Type               | Params | Mode \n",
      "--------------------------------------------------------------\n",
      "0 | loss_fn        | BCEWithLogitsLoss  | 0      | train\n",
      "1 | train_accuracy | BinaryAccuracy     | 0      | train\n",
      "2 | val_accuracy   | BinaryAccuracy     | 0      | train\n",
      "3 | test_accuracy  | BinaryAccuracy     | 0      | train\n",
      "4 | train_f1       | BinaryF1Score      | 0      | train\n",
      "5 | val_f1         | BinaryF1Score      | 0      | train\n",
      "6 | test_f1        | BinaryF1Score      | 0      | train\n",
      "7 | encoder        | TransformerEncoder | 2.2 K  | train\n",
      "8 | embedder       | Linear             | 272    | train\n",
      "9 | projection     | Linear             | 19.2 K | train\n",
      "--------------------------------------------------------------\n",
      "21.7 K    Trainable params\n",
      "0         Non-trainable params\n",
      "21.7 K    Total params\n",
      "0.087     Total estimated model params size (MB)\n"
     ]
    },
    {
     "name": "stdout",
     "output_type": "stream",
     "text": [
      "Epoch 3: 100%|██████████| 750/750 [00:18<00:00, 40.54it/s, v_num=117, val/loss=0.000913, val/acc=1.000, val/f1=1.000, train/loss=0.00197, train/acc=0.999, train/f1=0.999]"
     ]
    },
    {
     "name": "stderr",
     "output_type": "stream",
     "text": [
      "`Trainer.fit` stopped: `max_epochs=4` reached.\n"
     ]
    },
    {
     "name": "stdout",
     "output_type": "stream",
     "text": [
      "Epoch 3: 100%|██████████| 750/750 [00:18<00:00, 40.52it/s, v_num=117, val/loss=0.000913, val/acc=1.000, val/f1=1.000, train/loss=0.00197, train/acc=0.999, train/f1=0.999]\n"
     ]
    },
    {
     "name": "stderr",
     "output_type": "stream",
     "text": [
      "[I 2024-10-31 11:50:24,575] Trial 1 finished with value: 0.000912624120246619 and parameters: {'lr': 0.0001508952020053126, 'hidden_size': 16, 'batch_size': 4}. Best is trial 1 with value: 0.000912624120246619.\n"
     ]
    },
    {
     "name": "stdout",
     "output_type": "stream",
     "text": [
      "Trial 1 finished with value 0.000912624120246619\n",
      "Starting a new trial...\n",
      "Trial number: 2\n",
      "Learning rate: 0.001\n",
      "Batch Size: 16\n"
     ]
    },
    {
     "name": "stderr",
     "output_type": "stream",
     "text": [
      "GPU available: True (cuda), used: True\n",
      "TPU available: False, using: 0 TPU cores\n",
      "HPU available: False, using: 0 HPUs\n",
      "LOCAL_RANK: 0 - CUDA_VISIBLE_DEVICES: [0]\n",
      "\n",
      "  | Name           | Type               | Params | Mode \n",
      "--------------------------------------------------------------\n",
      "0 | loss_fn        | BCEWithLogitsLoss  | 0      | train\n",
      "1 | train_accuracy | BinaryAccuracy     | 0      | train\n",
      "2 | val_accuracy   | BinaryAccuracy     | 0      | train\n",
      "3 | test_accuracy  | BinaryAccuracy     | 0      | train\n",
      "4 | train_f1       | BinaryF1Score      | 0      | train\n",
      "5 | val_f1         | BinaryF1Score      | 0      | train\n",
      "6 | test_f1        | BinaryF1Score      | 0      | train\n",
      "7 | encoder        | TransformerEncoder | 2.2 K  | train\n",
      "8 | embedder       | Linear             | 272    | train\n",
      "9 | projection     | Linear             | 19.2 K | train\n",
      "--------------------------------------------------------------\n",
      "21.7 K    Trainable params\n",
      "0         Non-trainable params\n",
      "21.7 K    Total params\n",
      "0.087     Total estimated model params size (MB)\n"
     ]
    },
    {
     "name": "stdout",
     "output_type": "stream",
     "text": [
      "Epoch 3: 100%|██████████| 188/188 [00:17<00:00, 11.01it/s, v_num=118, val/loss=9.76e-5, val/acc=1.000, val/f1=1.000, train/loss=3.09e-5, train/acc=1.000, train/f1=1.000]  "
     ]
    },
    {
     "name": "stderr",
     "output_type": "stream",
     "text": [
      "`Trainer.fit` stopped: `max_epochs=4` reached.\n"
     ]
    },
    {
     "name": "stdout",
     "output_type": "stream",
     "text": [
      "Epoch 3: 100%|██████████| 188/188 [00:17<00:00, 11.00it/s, v_num=118, val/loss=9.76e-5, val/acc=1.000, val/f1=1.000, train/loss=3.09e-5, train/acc=1.000, train/f1=1.000]\n"
     ]
    },
    {
     "name": "stderr",
     "output_type": "stream",
     "text": [
      "[I 2024-10-31 11:51:33,685] Trial 2 finished with value: 9.756696090335026e-05 and parameters: {'lr': 0.0009110583404755149, 'hidden_size': 16, 'batch_size': 16}. Best is trial 2 with value: 9.756696090335026e-05.\n"
     ]
    },
    {
     "name": "stdout",
     "output_type": "stream",
     "text": [
      "Trial 2 finished with value 9.756696090335026e-05\n",
      "Starting a new trial...\n",
      "Trial number: 3\n",
      "Learning rate: 0.001\n",
      "Batch Size: 4\n"
     ]
    },
    {
     "name": "stderr",
     "output_type": "stream",
     "text": [
      "GPU available: True (cuda), used: True\n",
      "TPU available: False, using: 0 TPU cores\n",
      "HPU available: False, using: 0 HPUs\n",
      "LOCAL_RANK: 0 - CUDA_VISIBLE_DEVICES: [0]\n",
      "\n",
      "  | Name           | Type               | Params | Mode \n",
      "--------------------------------------------------------------\n",
      "0 | loss_fn        | BCEWithLogitsLoss  | 0      | train\n",
      "1 | train_accuracy | BinaryAccuracy     | 0      | train\n",
      "2 | val_accuracy   | BinaryAccuracy     | 0      | train\n",
      "3 | test_accuracy  | BinaryAccuracy     | 0      | train\n",
      "4 | train_f1       | BinaryF1Score      | 0      | train\n",
      "5 | val_f1         | BinaryF1Score      | 0      | train\n",
      "6 | test_f1        | BinaryF1Score      | 0      | train\n",
      "7 | encoder        | TransformerEncoder | 2.2 K  | train\n",
      "8 | embedder       | Linear             | 272    | train\n",
      "9 | projection     | Linear             | 19.2 K | train\n",
      "--------------------------------------------------------------\n",
      "21.7 K    Trainable params\n",
      "0         Non-trainable params\n",
      "21.7 K    Total params\n",
      "0.087     Total estimated model params size (MB)\n"
     ]
    },
    {
     "name": "stdout",
     "output_type": "stream",
     "text": [
      "Epoch 3: 100%|██████████| 750/750 [00:19<00:00, 38.21it/s, v_num=119, val/loss=0.00016, val/acc=1.000, val/f1=1.000, train/loss=6.3e-5, train/acc=1.000, train/f1=1.000]   "
     ]
    },
    {
     "name": "stderr",
     "output_type": "stream",
     "text": [
      "`Trainer.fit` stopped: `max_epochs=4` reached.\n"
     ]
    },
    {
     "name": "stdout",
     "output_type": "stream",
     "text": [
      "Epoch 3: 100%|██████████| 750/750 [00:19<00:00, 38.18it/s, v_num=119, val/loss=0.00016, val/acc=1.000, val/f1=1.000, train/loss=6.3e-5, train/acc=1.000, train/f1=1.000]\n"
     ]
    },
    {
     "name": "stderr",
     "output_type": "stream",
     "text": [
      "[I 2024-10-31 11:52:51,729] Trial 3 finished with value: 0.00015973228437360376 and parameters: {'lr': 0.0003898205785419069, 'hidden_size': 32, 'batch_size': 4}. Best is trial 2 with value: 9.756696090335026e-05.\n"
     ]
    },
    {
     "name": "stdout",
     "output_type": "stream",
     "text": [
      "Trial 3 finished with value 0.00015973228437360376\n",
      "Hyperparameter optimization completed.\n",
      "Best hyperparameters found:\n",
      "          Learning rate: 0.0009110583404755149\n",
      "          Batch Size: 16\n",
      "\n"
     ]
    }
   ],
   "source": [
    "from src.utils.hpo import mlp_hpo\n",
    "\n",
    "mlp_hpo(config, data) # Hyperparameter optimization: writes the config file with the best hyperparameters"
   ]
  },
  {
   "cell_type": "markdown",
   "metadata": {},
   "source": [
    "Training the model using the best hyperparameters"
   ]
  },
  {
   "cell_type": "code",
   "execution_count": 7,
   "metadata": {},
   "outputs": [
    {
     "name": "stderr",
     "output_type": "stream",
     "text": [
      "Failed to detect the name of this notebook, you can set it manually with the WANDB_NOTEBOOK_NAME environment variable to enable code saving.\n",
      "\u001b[34m\u001b[1mwandb\u001b[0m: Currently logged in as: \u001b[33mneverorfrog\u001b[0m (\u001b[33mneverorfrog-sapienza\u001b[0m). Use \u001b[1m`wandb login --relogin`\u001b[0m to force relogin\n",
      "\u001b[34m\u001b[1mwandb\u001b[0m: \u001b[33mWARNING\u001b[0m If you're specifying your api key in code, ensure this code is not shared publicly.\n",
      "\u001b[34m\u001b[1mwandb\u001b[0m: \u001b[33mWARNING\u001b[0m Consider setting the WANDB_API_KEY environment variable, or running `wandb login` from the command line.\n",
      "\u001b[34m\u001b[1mwandb\u001b[0m: Appending key for api.wandb.ai to your netrc file: /home/daniaffch/.netrc\n"
     ]
    },
    {
     "data": {
      "text/html": [
       "wandb version 0.18.5 is available!  To upgrade, please run:\n",
       " $ pip install wandb --upgrade"
      ],
      "text/plain": [
       "<IPython.core.display.HTML object>"
      ]
     },
     "metadata": {},
     "output_type": "display_data"
    },
    {
     "data": {
      "text/html": [
       "Tracking run with wandb version 0.17.7"
      ],
      "text/plain": [
       "<IPython.core.display.HTML object>"
      ]
     },
     "metadata": {},
     "output_type": "display_data"
    },
    {
     "data": {
      "text/html": [
       "Run data is saved locally in <code>/home/daniaffch/Uni/Deep_Learning/Vessel-Geometric-Transformers/wandb/run-20241031_115253-q05zgqkh</code>"
      ],
      "text/plain": [
       "<IPython.core.display.HTML object>"
      ]
     },
     "metadata": {},
     "output_type": "display_data"
    },
    {
     "data": {
      "text/html": [
       "Syncing run <strong><a href='https://wandb.ai/neverorfrog-sapienza/Vessel-Geometric-Transformers/runs/q05zgqkh' target=\"_blank\">ghoulish-goosebump-73</a></strong> to <a href='https://wandb.ai/neverorfrog-sapienza/Vessel-Geometric-Transformers' target=\"_blank\">Weights & Biases</a> (<a href='https://wandb.me/run' target=\"_blank\">docs</a>)<br/>"
      ],
      "text/plain": [
       "<IPython.core.display.HTML object>"
      ]
     },
     "metadata": {},
     "output_type": "display_data"
    },
    {
     "data": {
      "text/html": [
       " View project at <a href='https://wandb.ai/neverorfrog-sapienza/Vessel-Geometric-Transformers' target=\"_blank\">https://wandb.ai/neverorfrog-sapienza/Vessel-Geometric-Transformers</a>"
      ],
      "text/plain": [
       "<IPython.core.display.HTML object>"
      ]
     },
     "metadata": {},
     "output_type": "display_data"
    },
    {
     "data": {
      "text/html": [
       " View run at <a href='https://wandb.ai/neverorfrog-sapienza/Vessel-Geometric-Transformers/runs/q05zgqkh' target=\"_blank\">https://wandb.ai/neverorfrog-sapienza/Vessel-Geometric-Transformers/runs/q05zgqkh</a>"
      ],
      "text/plain": [
       "<IPython.core.display.HTML object>"
      ]
     },
     "metadata": {},
     "output_type": "display_data"
    },
    {
     "name": "stderr",
     "output_type": "stream",
     "text": [
      "GPU available: True (cuda), used: True\n",
      "TPU available: False, using: 0 TPU cores\n",
      "HPU available: False, using: 0 HPUs\n",
      "LOCAL_RANK: 0 - CUDA_VISIBLE_DEVICES: [0]\n",
      "\n",
      "  | Name           | Type              | Params | Mode \n",
      "-------------------------------------------------------------\n",
      "0 | loss_fn        | BCEWithLogitsLoss | 0      | train\n",
      "1 | train_accuracy | BinaryAccuracy    | 0      | train\n",
      "2 | val_accuracy   | BinaryAccuracy    | 0      | train\n",
      "3 | test_accuracy  | BinaryAccuracy    | 0      | train\n",
      "4 | train_f1       | BinaryF1Score     | 0      | train\n",
      "5 | val_f1         | BinaryF1Score     | 0      | train\n",
      "6 | test_f1        | BinaryF1Score     | 0      | train\n",
      "7 | fc             | Sequential        | 614 K  | train\n",
      "-------------------------------------------------------------\n",
      "614 K     Trainable params\n",
      "0         Non-trainable params\n",
      "614 K     Total params\n",
      "2.460     Total estimated model params size (MB)\n"
     ]
    },
    {
     "name": "stdout",
     "output_type": "stream",
     "text": [
      "Epoch 0: 100%|██████████| 188/188 [00:07<00:00, 25.96it/s, v_num=gqkh, val/loss=0.057, val/acc=0.983, val/f1=0.984, train/loss=0.135, train/acc=0.963, train/f1=0.962]"
     ]
    },
    {
     "name": "stderr",
     "output_type": "stream",
     "text": [
      "Metric val/loss improved. New best score: 0.057\n",
      "Epoch 0, global step 188: 'val/loss' reached 0.05696 (best 0.05696), saving model to '/home/daniaffch/Uni/Deep_Learning/Vessel-Geometric-Transformers/ckpt/epoch=0-step=188.ckpt' as top 1\n"
     ]
    },
    {
     "name": "stdout",
     "output_type": "stream",
     "text": [
      "Epoch 1: 100%|██████████| 188/188 [00:08<00:00, 22.47it/s, v_num=gqkh, val/loss=0.0226, val/acc=0.988, val/f1=0.989, train/loss=0.029, train/acc=0.992, train/f1=0.992]"
     ]
    },
    {
     "name": "stderr",
     "output_type": "stream",
     "text": [
      "Metric val/loss improved by 0.034 >= min_delta = 1e-05. New best score: 0.023\n",
      "Epoch 1, global step 376: 'val/loss' reached 0.02259 (best 0.02259), saving model to '/home/daniaffch/Uni/Deep_Learning/Vessel-Geometric-Transformers/ckpt/epoch=1-step=376.ckpt' as top 1\n"
     ]
    },
    {
     "name": "stdout",
     "output_type": "stream",
     "text": [
      "Epoch 2: 100%|██████████| 188/188 [00:08<00:00, 22.63it/s, v_num=gqkh, val/loss=0.0154, val/acc=0.995, val/f1=0.995, train/loss=0.0161, train/acc=0.995, train/f1=0.995]"
     ]
    },
    {
     "name": "stderr",
     "output_type": "stream",
     "text": [
      "Metric val/loss improved by 0.007 >= min_delta = 1e-05. New best score: 0.015\n",
      "Epoch 2, global step 564: 'val/loss' reached 0.01540 (best 0.01540), saving model to '/home/daniaffch/Uni/Deep_Learning/Vessel-Geometric-Transformers/ckpt/epoch=2-step=564.ckpt' as top 1\n"
     ]
    },
    {
     "name": "stdout",
     "output_type": "stream",
     "text": [
      "Epoch 3: 100%|██████████| 188/188 [00:08<00:00, 21.78it/s, v_num=gqkh, val/loss=0.00825, val/acc=0.997, val/f1=0.997, train/loss=0.0128, train/acc=0.995, train/f1=0.995]"
     ]
    },
    {
     "name": "stderr",
     "output_type": "stream",
     "text": [
      "Metric val/loss improved by 0.007 >= min_delta = 1e-05. New best score: 0.008\n",
      "Epoch 3, global step 752: 'val/loss' reached 0.00825 (best 0.00825), saving model to '/home/daniaffch/Uni/Deep_Learning/Vessel-Geometric-Transformers/ckpt/epoch=3-step=752-v1.ckpt' as top 1\n"
     ]
    },
    {
     "name": "stdout",
     "output_type": "stream",
     "text": [
      "Epoch 4: 100%|██████████| 188/188 [00:08<00:00, 22.12it/s, v_num=gqkh, val/loss=0.0145, val/acc=0.990, val/f1=0.990, train/loss=0.0116, train/acc=0.997, train/f1=0.997] "
     ]
    },
    {
     "name": "stderr",
     "output_type": "stream",
     "text": [
      "Epoch 4, global step 940: 'val/loss' was not in top 1\n"
     ]
    },
    {
     "name": "stdout",
     "output_type": "stream",
     "text": [
      "Epoch 5: 100%|██████████| 188/188 [00:08<00:00, 22.07it/s, v_num=gqkh, val/loss=0.00497, val/acc=0.997, val/f1=0.997, train/loss=0.00949, train/acc=0.997, train/f1=0.997]"
     ]
    },
    {
     "name": "stderr",
     "output_type": "stream",
     "text": [
      "Metric val/loss improved by 0.003 >= min_delta = 1e-05. New best score: 0.005\n",
      "Epoch 5, global step 1128: 'val/loss' reached 0.00497 (best 0.00497), saving model to '/home/daniaffch/Uni/Deep_Learning/Vessel-Geometric-Transformers/ckpt/epoch=5-step=1128.ckpt' as top 1\n"
     ]
    },
    {
     "name": "stdout",
     "output_type": "stream",
     "text": [
      "Epoch 6: 100%|██████████| 188/188 [00:08<00:00, 22.84it/s, v_num=gqkh, val/loss=0.025, val/acc=0.990, val/f1=0.990, train/loss=0.00542, train/acc=0.998, train/f1=0.998]  "
     ]
    },
    {
     "name": "stderr",
     "output_type": "stream",
     "text": [
      "Epoch 6, global step 1316: 'val/loss' was not in top 1\n"
     ]
    },
    {
     "name": "stdout",
     "output_type": "stream",
     "text": [
      "Epoch 7: 100%|██████████| 188/188 [00:08<00:00, 22.44it/s, v_num=gqkh, val/loss=0.00268, val/acc=0.998, val/f1=0.998, train/loss=0.00352, train/acc=0.999, train/f1=0.999]"
     ]
    },
    {
     "name": "stderr",
     "output_type": "stream",
     "text": [
      "Metric val/loss improved by 0.002 >= min_delta = 1e-05. New best score: 0.003\n",
      "Epoch 7, global step 1504: 'val/loss' reached 0.00268 (best 0.00268), saving model to '/home/daniaffch/Uni/Deep_Learning/Vessel-Geometric-Transformers/ckpt/epoch=7-step=1504-v1.ckpt' as top 1\n"
     ]
    },
    {
     "name": "stdout",
     "output_type": "stream",
     "text": [
      "Epoch 8: 100%|██████████| 188/188 [00:08<00:00, 22.75it/s, v_num=gqkh, val/loss=0.00656, val/acc=0.997, val/f1=0.997, train/loss=0.00198, train/acc=0.999, train/f1=0.999]"
     ]
    },
    {
     "name": "stderr",
     "output_type": "stream",
     "text": [
      "Epoch 8, global step 1692: 'val/loss' was not in top 1\n"
     ]
    },
    {
     "name": "stdout",
     "output_type": "stream",
     "text": [
      "Epoch 9: 100%|██████████| 188/188 [00:08<00:00, 23.41it/s, v_num=gqkh, val/loss=0.00402, val/acc=0.998, val/f1=0.998, train/loss=0.00182, train/acc=0.999, train/f1=0.999]"
     ]
    },
    {
     "name": "stderr",
     "output_type": "stream",
     "text": [
      "Epoch 9, global step 1880: 'val/loss' was not in top 1\n"
     ]
    },
    {
     "name": "stdout",
     "output_type": "stream",
     "text": [
      "Epoch 10: 100%|██████████| 188/188 [00:08<00:00, 23.26it/s, v_num=gqkh, val/loss=0.00505, val/acc=0.997, val/f1=0.997, train/loss=0.00111, train/acc=1.000, train/f1=1.000]"
     ]
    },
    {
     "name": "stderr",
     "output_type": "stream",
     "text": [
      "Monitored metric val/loss did not improve in the last 3 records. Best score: 0.003. Signaling Trainer to stop.\n",
      "Epoch 10, global step 2068: 'val/loss' was not in top 1\n"
     ]
    },
    {
     "name": "stdout",
     "output_type": "stream",
     "text": [
      "Epoch 10: 100%|██████████| 188/188 [00:08<00:00, 23.25it/s, v_num=gqkh, val/loss=0.00505, val/acc=0.997, val/f1=0.997, train/loss=0.00111, train/acc=1.000, train/f1=1.000]\n"
     ]
    }
   ],
   "source": [
    "from src.trainer import VesselTrainer\n",
    "from src.models import BaselineMLP\n",
    "\n",
    "model = BaselineMLP(config.mlp)\n",
    "trainer = VesselTrainer(config.trainer, \"mlp\")\n",
    "trainer.fit(model, data)"
   ]
  },
  {
   "cell_type": "markdown",
   "metadata": {},
   "source": [
    "Test the model performance on unseen test data."
   ]
  },
  {
   "cell_type": "code",
   "execution_count": 8,
   "metadata": {},
   "outputs": [
    {
     "name": "stderr",
     "output_type": "stream",
     "text": [
      "Restoring states from the checkpoint path at /home/daniaffch/Uni/Deep_Learning/Vessel-Geometric-Transformers/ckpt/epoch=7-step=1504-v1.ckpt\n",
      "LOCAL_RANK: 0 - CUDA_VISIBLE_DEVICES: [0]\n",
      "Loaded model weights from the checkpoint at /home/daniaffch/Uni/Deep_Learning/Vessel-Geometric-Transformers/ckpt/epoch=7-step=1504-v1.ckpt\n"
     ]
    },
    {
     "name": "stdout",
     "output_type": "stream",
     "text": [
      "Testing DataLoader 0: 100%|██████████| 26/26 [00:00<00:00, 114.66it/s]"
     ]
    },
    {
     "data": {
      "image/png": "[encoded data removed]",
      "text/plain": [
       "<Figure size 1000x700 with 2 Axes>"
      ]
     },
     "metadata": {},
     "output_type": "display_data"
    },
    {
     "name": "stdout",
     "output_type": "stream",
     "text": [
      "Testing DataLoader 0: 100%|██████████| 26/26 [00:00<00:00, 59.38it/s] \n"
     ]
    },
    {
     "data": {
      "text/html": [
       "<pre style=\"white-space:pre;overflow-x:auto;line-height:normal;font-family:Menlo,'DejaVu Sans Mono',consolas,'Courier New',monospace\">┏━━━━━━━━━━━━━━━━━━━━━━━━━━━┳━━━━━━━━━━━━━━━━━━━━━━━━━━━┓\n",
       "┃<span style=\"font-weight: bold\">        Test metric        </span>┃<span style=\"font-weight: bold\">       DataLoader 0        </span>┃\n",
       "┡━━━━━━━━━━━━━━━━━━━━━━━━━━━╇━━━━━━━━━━━━━━━━━━━━━━━━━━━┩\n",
       "│<span style=\"color: #008080; text-decoration-color: #008080\">         test/acc          </span>│<span style=\"color: #800080; text-decoration-color: #800080\">            1.0            </span>│\n",
       "│<span style=\"color: #008080; text-decoration-color: #008080\">          test/f1          </span>│<span style=\"color: #800080; text-decoration-color: #800080\">            1.0            </span>│\n",
       "│<span style=\"color: #008080; text-decoration-color: #008080\">         test/loss         </span>│<span style=\"color: #800080; text-decoration-color: #800080\">   0.0024689773563295603   </span>│\n",
       "└───────────────────────────┴───────────────────────────┘\n",
       "</pre>\n"
      ],
      "text/plain": [
       "┏━━━━━━━━━━━━━━━━━━━━━━━━━━━┳━━━━━━━━━━━━━━━━━━━━━━━━━━━┓\n",
       "┃\u001b[1m \u001b[0m\u001b[1m       Test metric       \u001b[0m\u001b[1m \u001b[0m┃\u001b[1m \u001b[0m\u001b[1m      DataLoader 0       \u001b[0m\u001b[1m \u001b[0m┃\n",
       "┡━━━━━━━━━━━━━━━━━━━━━━━━━━━╇━━━━━━━━━━━━━━━━━━━━━━━━━━━┩\n",
       "│\u001b[36m \u001b[0m\u001b[36m        test/acc         \u001b[0m\u001b[36m \u001b[0m│\u001b[35m \u001b[0m\u001b[35m           1.0           \u001b[0m\u001b[35m \u001b[0m│\n",
       "│\u001b[36m \u001b[0m\u001b[36m         test/f1         \u001b[0m\u001b[36m \u001b[0m│\u001b[35m \u001b[0m\u001b[35m           1.0           \u001b[0m\u001b[35m \u001b[0m│\n",
       "│\u001b[36m \u001b[0m\u001b[36m        test/loss        \u001b[0m\u001b[36m \u001b[0m│\u001b[35m \u001b[0m\u001b[35m  0.0024689773563295603  \u001b[0m\u001b[35m \u001b[0m│\n",
       "└───────────────────────────┴───────────────────────────┘\n"
      ]
     },
     "metadata": {},
     "output_type": "display_data"
    }
   ],
   "source": [
    "trainer.test(model, data)"
   ]
  },
  {
   "cell_type": "markdown",
   "metadata": {},
   "source": [
    "### Attention based Baseline"
   ]
  },
  {
   "cell_type": "markdown",
   "metadata": {},
   "source": [
    "Running hyperparameter optimization to find the best hyperparameters maximizing the validation accuracy"
   ]
  },
  {
   "cell_type": "code",
   "execution_count": 9,
   "metadata": {},
   "outputs": [
    {
     "name": "stderr",
     "output_type": "stream",
     "text": [
      "[I 2024-10-31 11:54:29,875] A new study created in memory with name: baseline_hpo\n",
      "GPU available: True (cuda), used: True\n",
      "TPU available: False, using: 0 TPU cores\n",
      "HPU available: False, using: 0 HPUs\n",
      "LOCAL_RANK: 0 - CUDA_VISIBLE_DEVICES: [0]\n",
      "\n",
      "  | Name           | Type               | Params | Mode \n",
      "--------------------------------------------------------------\n",
      "0 | loss_fn        | BCEWithLogitsLoss  | 0      | train\n",
      "1 | train_accuracy | BinaryAccuracy     | 0      | train\n",
      "2 | val_accuracy   | BinaryAccuracy     | 0      | train\n",
      "3 | test_accuracy  | BinaryAccuracy     | 0      | train\n",
      "4 | train_f1       | BinaryF1Score      | 0      | train\n",
      "5 | val_f1         | BinaryF1Score      | 0      | train\n",
      "6 | test_f1        | BinaryF1Score      | 0      | train\n",
      "7 | encoder        | TransformerEncoder | 2.2 K  | train\n",
      "8 | embedder       | Linear             | 272    | train\n",
      "9 | projection     | Linear             | 19.2 K | train\n",
      "--------------------------------------------------------------\n",
      "21.7 K    Trainable params\n",
      "0         Non-trainable params\n",
      "21.7 K    Total params\n",
      "0.087     Total estimated model params size (MB)\n"
     ]
    },
    {
     "name": "stdout",
     "output_type": "stream",
     "text": [
      "Starting a new hyperparameter optimization study...\n",
      "Starting a new trial...\n",
      "Trial number: 0\n",
      "Learning rate: 0.0001669972529293522\n",
      "Attention Heads: 2\n",
      "Attention Layers: 1\n",
      "Batch Size: 4\n",
      "Epoch 3: 100%|██████████| 750/750 [00:18<00:00, 39.49it/s, v_num=120, val/loss=0.0495, val/acc=0.988, val/f1=0.989, train/loss=0.0681, train/acc=0.976, train/f1=0.976]"
     ]
    },
    {
     "name": "stderr",
     "output_type": "stream",
     "text": [
      "`Trainer.fit` stopped: `max_epochs=4` reached.\n"
     ]
    },
    {
     "name": "stdout",
     "output_type": "stream",
     "text": [
      "Epoch 3: 100%|██████████| 750/750 [00:19<00:00, 39.47it/s, v_num=120, val/loss=0.0495, val/acc=0.988, val/f1=0.989, train/loss=0.0681, train/acc=0.976, train/f1=0.976]\n"
     ]
    },
    {
     "name": "stderr",
     "output_type": "stream",
     "text": [
      "[I 2024-10-31 11:55:46,761] Trial 0 finished with value: 0.04949214309453964 and parameters: {'lr': 0.0001669972529293522, 'num_heads': 2, 'num_layers': 1, 'batch_size': 4}. Best is trial 0 with value: 0.04949214309453964.\n"
     ]
    },
    {
     "name": "stdout",
     "output_type": "stream",
     "text": [
      "Trial 0 finished with value 0.04949214309453964\n",
      "Starting a new trial...\n",
      "Trial number: 1\n",
      "Learning rate: 0.00029059244064864577\n"
     ]
    },
    {
     "name": "stderr",
     "output_type": "stream",
     "text": [
      "GPU available: True (cuda), used: True\n",
      "TPU available: False, using: 0 TPU cores\n",
      "HPU available: False, using: 0 HPUs\n"
     ]
    },
    {
     "name": "stdout",
     "output_type": "stream",
     "text": [
      "Attention Heads: 4\n",
      "Attention Layers: 3\n",
      "Batch Size: 4\n"
     ]
    },
    {
     "name": "stderr",
     "output_type": "stream",
     "text": [
      "LOCAL_RANK: 0 - CUDA_VISIBLE_DEVICES: [0]\n",
      "\n",
      "  | Name           | Type               | Params | Mode \n",
      "--------------------------------------------------------------\n",
      "0 | loss_fn        | BCEWithLogitsLoss  | 0      | train\n",
      "1 | train_accuracy | BinaryAccuracy     | 0      | train\n",
      "2 | val_accuracy   | BinaryAccuracy     | 0      | train\n",
      "3 | test_accuracy  | BinaryAccuracy     | 0      | train\n",
      "4 | train_f1       | BinaryF1Score      | 0      | train\n",
      "5 | val_f1         | BinaryF1Score      | 0      | train\n",
      "6 | test_f1        | BinaryF1Score      | 0      | train\n",
      "7 | encoder        | TransformerEncoder | 2.2 K  | train\n",
      "8 | embedder       | Linear             | 272    | train\n",
      "9 | projection     | Linear             | 19.2 K | train\n",
      "--------------------------------------------------------------\n",
      "21.7 K    Trainable params\n",
      "0         Non-trainable params\n",
      "21.7 K    Total params\n",
      "0.087     Total estimated model params size (MB)\n"
     ]
    },
    {
     "name": "stdout",
     "output_type": "stream",
     "text": [
      "Epoch 3: 100%|██████████| 750/750 [00:19<00:00, 37.75it/s, v_num=121, val/loss=0.012, val/acc=0.995, val/f1=0.995, train/loss=0.0206, train/acc=0.994, train/f1=0.994] "
     ]
    },
    {
     "name": "stderr",
     "output_type": "stream",
     "text": [
      "`Trainer.fit` stopped: `max_epochs=4` reached.\n"
     ]
    },
    {
     "name": "stdout",
     "output_type": "stream",
     "text": [
      "Epoch 3: 100%|██████████| 750/750 [00:19<00:00, 37.73it/s, v_num=121, val/loss=0.012, val/acc=0.995, val/f1=0.995, train/loss=0.0206, train/acc=0.994, train/f1=0.994]\n"
     ]
    },
    {
     "name": "stderr",
     "output_type": "stream",
     "text": [
      "[I 2024-10-31 11:57:06,095] Trial 1 finished with value: 0.011972451582551003 and parameters: {'lr': 0.00029059244064864577, 'num_heads': 4, 'num_layers': 3, 'batch_size': 4}. Best is trial 1 with value: 0.011972451582551003.\n"
     ]
    },
    {
     "name": "stdout",
     "output_type": "stream",
     "text": [
      "Trial 1 finished with value 0.011972451582551003\n",
      "Starting a new trial...\n",
      "Trial number: 2\n",
      "Learning rate: 0.000850280548262009\n",
      "Attention Heads: 2\n",
      "Attention Layers: 2\n",
      "Batch Size: 4\n"
     ]
    },
    {
     "name": "stderr",
     "output_type": "stream",
     "text": [
      "GPU available: True (cuda), used: True\n",
      "TPU available: False, using: 0 TPU cores\n",
      "HPU available: False, using: 0 HPUs\n",
      "LOCAL_RANK: 0 - CUDA_VISIBLE_DEVICES: [0]\n",
      "\n",
      "  | Name           | Type               | Params | Mode \n",
      "--------------------------------------------------------------\n",
      "0 | loss_fn        | BCEWithLogitsLoss  | 0      | train\n",
      "1 | train_accuracy | BinaryAccuracy     | 0      | train\n",
      "2 | val_accuracy   | BinaryAccuracy     | 0      | train\n",
      "3 | test_accuracy  | BinaryAccuracy     | 0      | train\n",
      "4 | train_f1       | BinaryF1Score      | 0      | train\n",
      "5 | val_f1         | BinaryF1Score      | 0      | train\n",
      "6 | test_f1        | BinaryF1Score      | 0      | train\n",
      "7 | encoder        | TransformerEncoder | 2.2 K  | train\n",
      "8 | embedder       | Linear             | 272    | train\n",
      "9 | projection     | Linear             | 19.2 K | train\n",
      "--------------------------------------------------------------\n",
      "21.7 K    Trainable params\n",
      "0         Non-trainable params\n",
      "21.7 K    Total params\n",
      "0.087     Total estimated model params size (MB)\n"
     ]
    },
    {
     "name": "stdout",
     "output_type": "stream",
     "text": [
      "Epoch 3: 100%|██████████| 750/750 [00:19<00:00, 38.09it/s, v_num=122, val/loss=0.000933, val/acc=1.000, val/f1=1.000, train/loss=0.00337, train/acc=0.999, train/f1=0.999]"
     ]
    },
    {
     "name": "stderr",
     "output_type": "stream",
     "text": [
      "`Trainer.fit` stopped: `max_epochs=4` reached.\n"
     ]
    },
    {
     "name": "stdout",
     "output_type": "stream",
     "text": [
      "Epoch 3: 100%|██████████| 750/750 [00:19<00:00, 38.06it/s, v_num=122, val/loss=0.000933, val/acc=1.000, val/f1=1.000, train/loss=0.00337, train/acc=0.999, train/f1=0.999]\n"
     ]
    },
    {
     "name": "stderr",
     "output_type": "stream",
     "text": [
      "[I 2024-10-31 11:58:25,983] Trial 2 finished with value: 0.0009332553017884493 and parameters: {'lr': 0.000850280548262009, 'num_heads': 2, 'num_layers': 2, 'batch_size': 4}. Best is trial 2 with value: 0.0009332553017884493.\n",
      "GPU available: True (cuda), used: True\n",
      "TPU available: False, using: 0 TPU cores\n",
      "HPU available: False, using: 0 HPUs\n",
      "LOCAL_RANK: 0 - CUDA_VISIBLE_DEVICES: [0]\n",
      "\n",
      "  | Name           | Type               | Params | Mode \n",
      "--------------------------------------------------------------\n",
      "0 | loss_fn        | BCEWithLogitsLoss  | 0      | train\n",
      "1 | train_accuracy | BinaryAccuracy     | 0      | train\n",
      "2 | val_accuracy   | BinaryAccuracy     | 0      | train\n",
      "3 | test_accuracy  | BinaryAccuracy     | 0      | train\n",
      "4 | train_f1       | BinaryF1Score      | 0      | train\n",
      "5 | val_f1         | BinaryF1Score      | 0      | train\n",
      "6 | test_f1        | BinaryF1Score      | 0      | train\n",
      "7 | encoder        | TransformerEncoder | 2.2 K  | train\n",
      "8 | embedder       | Linear             | 272    | train\n",
      "9 | projection     | Linear             | 19.2 K | train\n",
      "--------------------------------------------------------------\n",
      "21.7 K    Trainable params\n",
      "0         Non-trainable params\n",
      "21.7 K    Total params\n",
      "0.087     Total estimated model params size (MB)\n"
     ]
    },
    {
     "name": "stdout",
     "output_type": "stream",
     "text": [
      "Trial 2 finished with value 0.0009332553017884493\n",
      "Starting a new trial...\n",
      "Trial number: 3\n",
      "Learning rate: 0.00026796271555330157\n",
      "Attention Heads: 4\n",
      "Attention Layers: 2\n",
      "Batch Size: 4\n",
      "Epoch 3: 100%|██████████| 750/750 [00:19<00:00, 38.34it/s, v_num=123, val/loss=0.000568, val/acc=1.000, val/f1=1.000, train/loss=0.00019, train/acc=1.000, train/f1=1.000] "
     ]
    },
    {
     "name": "stderr",
     "output_type": "stream",
     "text": [
      "`Trainer.fit` stopped: `max_epochs=4` reached.\n"
     ]
    },
    {
     "name": "stdout",
     "output_type": "stream",
     "text": [
      "Epoch 3: 100%|██████████| 750/750 [00:19<00:00, 38.32it/s, v_num=123, val/loss=0.000568, val/acc=1.000, val/f1=1.000, train/loss=0.00019, train/acc=1.000, train/f1=1.000]\n"
     ]
    },
    {
     "name": "stderr",
     "output_type": "stream",
     "text": [
      "[I 2024-10-31 11:59:44,937] Trial 3 finished with value: 0.0005683890194632113 and parameters: {'lr': 0.00026796271555330157, 'num_heads': 4, 'num_layers': 2, 'batch_size': 4}. Best is trial 3 with value: 0.0005683890194632113.\n"
     ]
    },
    {
     "name": "stdout",
     "output_type": "stream",
     "text": [
      "Trial 3 finished with value 0.0005683890194632113\n",
      "Hyperparameter optimization completed.\n",
      "Best hyperparameters found:\n",
      "          Learning rate: 0.00026796271555330157\n",
      "          Number of Attention Heads: 4\n",
      "          Number of Attention Layers: 2\n",
      "          Batch Size: 4\n",
      "\n"
     ]
    }
   ],
   "source": [
    "from src.utils.hpo import baseline_hpo\n",
    "\n",
    "baseline_hpo(config, data) # Hyperparameter optimization: writes the config file with the best hyperparameters"
   ]
  },
  {
   "cell_type": "markdown",
   "metadata": {},
   "source": [
    "Training the model using the best hyperparameters"
   ]
  },
  {
   "cell_type": "code",
   "execution_count": 10,
   "metadata": {},
   "outputs": [
    {
     "name": "stderr",
     "output_type": "stream",
     "text": [
      "\u001b[34m\u001b[1mwandb\u001b[0m: \u001b[33mWARNING\u001b[0m Calling wandb.login() after wandb.init() has no effect.\n"
     ]
    },
    {
     "data": {
      "text/html": [
       "Finishing last run (ID:q05zgqkh) before initializing another..."
      ],
      "text/plain": [
       "<IPython.core.display.HTML object>"
      ]
     },
     "metadata": {},
     "output_type": "display_data"
    },
    {
     "data": {
      "text/html": [
       "<style>\n",
       "    table.wandb td:nth-child(1) { padding: 0 10px; text-align: left ; width: auto;} td:nth-child(2) {text-align: left ; width: 100%}\n",
       "    .wandb-row { display: flex; flex-direction: row; flex-wrap: wrap; justify-content: flex-start; width: 100% }\n",
       "    .wandb-col { display: flex; flex-direction: column; flex-basis: 100%; flex: 1; padding: 10px; }\n",
       "    </style>\n",
       "<div class=\"wandb-row\"><div class=\"wandb-col\"><h3>Run history:</h3><br/><table class=\"wandb\"><tr><td>epoch</td><td>▁▁▂▂▂▂▃▃▄▄▄▄▅▅▅▅▆▆▇▇▇▇█</td></tr><tr><td>test/acc</td><td>▁</td></tr><tr><td>test/f1</td><td>▁</td></tr><tr><td>test/loss</td><td>▁</td></tr><tr><td>train/acc</td><td>▁▆▇▇▇▇█████</td></tr><tr><td>train/f1</td><td>▁▆▇▇▇▇█████</td></tr><tr><td>train/loss</td><td>█▂▂▂▂▁▁▁▁▁▁</td></tr><tr><td>trainer/global_step</td><td>▁▁▂▂▂▂▃▃▄▄▄▄▅▅▆▆▇▇▇▇███</td></tr><tr><td>val/acc</td><td>▁▃▆▇▄▇▄█▇█▇</td></tr><tr><td>val/f1</td><td>▁▃▆▇▄▇▄█▇█▇</td></tr><tr><td>val/loss</td><td>█▄▃▂▃▁▄▁▂▁▁</td></tr></table><br/></div><div class=\"wandb-col\"><h3>Run summary:</h3><br/><table class=\"wandb\"><tr><td>epoch</td><td>11</td></tr><tr><td>test/acc</td><td>1.0</td></tr><tr><td>test/f1</td><td>1.0</td></tr><tr><td>test/loss</td><td>0.00247</td></tr><tr><td>train/acc</td><td>1.0</td></tr><tr><td>train/f1</td><td>1.0</td></tr><tr><td>train/loss</td><td>0.00111</td></tr><tr><td>trainer/global_step</td><td>2068</td></tr><tr><td>val/acc</td><td>0.99666</td></tr><tr><td>val/f1</td><td>0.99671</td></tr><tr><td>val/loss</td><td>0.00505</td></tr></table><br/></div></div>"
      ],
      "text/plain": [
       "<IPython.core.display.HTML object>"
      ]
     },
     "metadata": {},
     "output_type": "display_data"
    },
    {
     "data": {
      "text/html": [
       " View run <strong style=\"color:#cdcd00\">ghoulish-goosebump-73</strong> at: <a href='https://wandb.ai/neverorfrog-sapienza/Vessel-Geometric-Transformers/runs/q05zgqkh' target=\"_blank\">https://wandb.ai/neverorfrog-sapienza/Vessel-Geometric-Transformers/runs/q05zgqkh</a><br/> View project at: <a href='https://wandb.ai/neverorfrog-sapienza/Vessel-Geometric-Transformers' target=\"_blank\">https://wandb.ai/neverorfrog-sapienza/Vessel-Geometric-Transformers</a><br/>Synced 5 W&B file(s), 0 media file(s), 0 artifact file(s) and 0 other file(s)"
      ],
      "text/plain": [
       "<IPython.core.display.HTML object>"
      ]
     },
     "metadata": {},
     "output_type": "display_data"
    },
    {
     "data": {
      "text/html": [
       "Find logs at: <code>./wandb/run-20241031_115253-q05zgqkh/logs</code>"
      ],
      "text/plain": [
       "<IPython.core.display.HTML object>"
      ]
     },
     "metadata": {},
     "output_type": "display_data"
    },
    {
     "data": {
      "text/html": [
       "The new W&B backend becomes opt-out in version 0.18.0; try it out with `wandb.require(\"core\")`! See https://wandb.me/wandb-core for more information."
      ],
      "text/plain": [
       "<IPython.core.display.HTML object>"
      ]
     },
     "metadata": {},
     "output_type": "display_data"
    },
    {
     "data": {
      "text/html": [
       "Successfully finished last run (ID:q05zgqkh). Initializing new run:<br/>"
      ],
      "text/plain": [
       "<IPython.core.display.HTML object>"
      ]
     },
     "metadata": {},
     "output_type": "display_data"
    },
    {
     "data": {
      "text/html": [
       "wandb version 0.18.5 is available!  To upgrade, please run:\n",
       " $ pip install wandb --upgrade"
      ],
      "text/plain": [
       "<IPython.core.display.HTML object>"
      ]
     },
     "metadata": {},
     "output_type": "display_data"
    },
    {
     "data": {
      "text/html": [
       "Tracking run with wandb version 0.17.7"
      ],
      "text/plain": [
       "<IPython.core.display.HTML object>"
      ]
     },
     "metadata": {},
     "output_type": "display_data"
    },
    {
     "data": {
      "text/html": [
       "Run data is saved locally in <code>/home/daniaffch/Uni/Deep_Learning/Vessel-Geometric-Transformers/wandb/run-20241031_115944-9lq1e8df</code>"
      ],
      "text/plain": [
       "<IPython.core.display.HTML object>"
      ]
     },
     "metadata": {},
     "output_type": "display_data"
    },
    {
     "data": {
      "text/html": [
       "Syncing run <strong><a href='https://wandb.ai/neverorfrog-sapienza/Vessel-Geometric-Transformers/runs/9lq1e8df' target=\"_blank\">ominous-fang-74</a></strong> to <a href='https://wandb.ai/neverorfrog-sapienza/Vessel-Geometric-Transformers' target=\"_blank\">Weights & Biases</a> (<a href='https://wandb.me/run' target=\"_blank\">docs</a>)<br/>"
      ],
      "text/plain": [
       "<IPython.core.display.HTML object>"
      ]
     },
     "metadata": {},
     "output_type": "display_data"
    },
    {
     "data": {
      "text/html": [
       " View project at <a href='https://wandb.ai/neverorfrog-sapienza/Vessel-Geometric-Transformers' target=\"_blank\">https://wandb.ai/neverorfrog-sapienza/Vessel-Geometric-Transformers</a>"
      ],
      "text/plain": [
       "<IPython.core.display.HTML object>"
      ]
     },
     "metadata": {},
     "output_type": "display_data"
    },
    {
     "data": {
      "text/html": [
       " View run at <a href='https://wandb.ai/neverorfrog-sapienza/Vessel-Geometric-Transformers/runs/9lq1e8df' target=\"_blank\">https://wandb.ai/neverorfrog-sapienza/Vessel-Geometric-Transformers/runs/9lq1e8df</a>"
      ],
      "text/plain": [
       "<IPython.core.display.HTML object>"
      ]
     },
     "metadata": {},
     "output_type": "display_data"
    },
    {
     "name": "stderr",
     "output_type": "stream",
     "text": [
      "GPU available: True (cuda), used: True\n",
      "TPU available: False, using: 0 TPU cores\n",
      "HPU available: False, using: 0 HPUs\n",
      "LOCAL_RANK: 0 - CUDA_VISIBLE_DEVICES: [0]\n",
      "\n",
      "  | Name           | Type               | Params | Mode \n",
      "--------------------------------------------------------------\n",
      "0 | loss_fn        | BCEWithLogitsLoss  | 0      | train\n",
      "1 | train_accuracy | BinaryAccuracy     | 0      | train\n",
      "2 | val_accuracy   | BinaryAccuracy     | 0      | train\n",
      "3 | test_accuracy  | BinaryAccuracy     | 0      | train\n",
      "4 | train_f1       | BinaryF1Score      | 0      | train\n",
      "5 | val_f1         | BinaryF1Score      | 0      | train\n",
      "6 | test_f1        | BinaryF1Score      | 0      | train\n",
      "7 | encoder        | TransformerEncoder | 4.5 K  | train\n",
      "8 | embedder       | Linear             | 272    | train\n",
      "9 | projection     | Linear             | 19.2 K | train\n",
      "--------------------------------------------------------------\n",
      "24.0 K    Trainable params\n",
      "0         Non-trainable params\n",
      "24.0 K    Total params\n",
      "0.096     Total estimated model params size (MB)\n"
     ]
    },
    {
     "name": "stdout",
     "output_type": "stream",
     "text": [
      "Epoch 0: 100%|██████████| 750/750 [00:32<00:00, 23.27it/s, v_num=e8df, val/loss=0.065, val/acc=0.983, val/f1=0.984, train/loss=0.298, train/acc=0.849, train/f1=0.851]"
     ]
    },
    {
     "name": "stderr",
     "output_type": "stream",
     "text": [
      "Metric val/loss improved. New best score: 0.065\n",
      "Epoch 0, global step 750: 'val/loss' reached 0.06499 (best 0.06499), saving model to '/home/daniaffch/Uni/Deep_Learning/Vessel-Geometric-Transformers/ckpt/epoch=0-step=750-v1.ckpt' as top 1\n"
     ]
    },
    {
     "name": "stdout",
     "output_type": "stream",
     "text": [
      "Epoch 1: 100%|██████████| 750/750 [00:32<00:00, 22.80it/s, v_num=e8df, val/loss=0.0558, val/acc=0.987, val/f1=0.987, train/loss=0.0859, train/acc=0.967, train/f1=0.967]"
     ]
    },
    {
     "name": "stderr",
     "output_type": "stream",
     "text": [
      "Metric val/loss improved by 0.009 >= min_delta = 1e-05. New best score: 0.056\n",
      "Epoch 1, global step 1500: 'val/loss' reached 0.05579 (best 0.05579), saving model to '/home/daniaffch/Uni/Deep_Learning/Vessel-Geometric-Transformers/ckpt/epoch=1-step=1500.ckpt' as top 1\n"
     ]
    },
    {
     "name": "stdout",
     "output_type": "stream",
     "text": [
      "Epoch 2: 100%|██████████| 750/750 [00:33<00:00, 22.36it/s, v_num=e8df, val/loss=0.0508, val/acc=0.987, val/f1=0.987, train/loss=0.075, train/acc=0.974, train/f1=0.974] "
     ]
    },
    {
     "name": "stderr",
     "output_type": "stream",
     "text": [
      "Metric val/loss improved by 0.005 >= min_delta = 1e-05. New best score: 0.051\n",
      "Epoch 2, global step 2250: 'val/loss' reached 0.05082 (best 0.05082), saving model to '/home/daniaffch/Uni/Deep_Learning/Vessel-Geometric-Transformers/ckpt/epoch=2-step=2250.ckpt' as top 1\n"
     ]
    },
    {
     "name": "stdout",
     "output_type": "stream",
     "text": [
      "Epoch 3: 100%|██████████| 750/750 [00:33<00:00, 22.22it/s, v_num=e8df, val/loss=0.102, val/acc=0.973, val/f1=0.974, train/loss=0.056, train/acc=0.981, train/f1=0.981] "
     ]
    },
    {
     "name": "stderr",
     "output_type": "stream",
     "text": [
      "Epoch 3, global step 3000: 'val/loss' was not in top 1\n"
     ]
    },
    {
     "name": "stdout",
     "output_type": "stream",
     "text": [
      "Epoch 4: 100%|██████████| 750/750 [00:33<00:00, 22.23it/s, v_num=e8df, val/loss=0.0585, val/acc=0.988, val/f1=0.989, train/loss=0.0526, train/acc=0.983, train/f1=0.983]"
     ]
    },
    {
     "name": "stderr",
     "output_type": "stream",
     "text": [
      "Epoch 4, global step 3750: 'val/loss' was not in top 1\n"
     ]
    },
    {
     "name": "stdout",
     "output_type": "stream",
     "text": [
      "Epoch 5: 100%|██████████| 750/750 [00:33<00:00, 22.48it/s, v_num=e8df, val/loss=0.103, val/acc=0.967, val/f1=0.968, train/loss=0.0413, train/acc=0.987, train/f1=0.987] "
     ]
    },
    {
     "name": "stderr",
     "output_type": "stream",
     "text": [
      "Monitored metric val/loss did not improve in the last 3 records. Best score: 0.051. Signaling Trainer to stop.\n",
      "Epoch 5, global step 4500: 'val/loss' was not in top 1\n"
     ]
    },
    {
     "name": "stdout",
     "output_type": "stream",
     "text": [
      "Epoch 5: 100%|██████████| 750/750 [00:33<00:00, 22.47it/s, v_num=e8df, val/loss=0.103, val/acc=0.967, val/f1=0.968, train/loss=0.0413, train/acc=0.987, train/f1=0.987]\n"
     ]
    }
   ],
   "source": [
    "from src.trainer import VesselTrainer\n",
    "from src.models import BaselineTransformer\n",
    "\n",
    "model = BaselineTransformer(config.baseline)\n",
    "trainer = VesselTrainer(config.trainer, \"transformer\")\n",
    "trainer.fit(model, data)"
   ]
  },
  {
   "cell_type": "markdown",
   "metadata": {},
   "source": [
    "Test the model performance on unseen test data."
   ]
  },
  {
   "cell_type": "code",
   "execution_count": 11,
   "metadata": {},
   "outputs": [
    {
     "name": "stderr",
     "output_type": "stream",
     "text": [
      "Restoring states from the checkpoint path at /home/daniaffch/Uni/Deep_Learning/Vessel-Geometric-Transformers/ckpt/epoch=2-step=2250.ckpt\n",
      "LOCAL_RANK: 0 - CUDA_VISIBLE_DEVICES: [0]\n",
      "Loaded model weights from the checkpoint at /home/daniaffch/Uni/Deep_Learning/Vessel-Geometric-Transformers/ckpt/epoch=2-step=2250.ckpt\n"
     ]
    },
    {
     "name": "stdout",
     "output_type": "stream",
     "text": [
      "Testing DataLoader 0: 100%|██████████| 101/101 [00:02<00:00, 48.40it/s]"
     ]
    },
    {
     "data": {
      "image/png": "[encoded data removed]",
      "text/plain": [
       "<Figure size 1000x700 with 2 Axes>"
      ]
     },
     "metadata": {},
     "output_type": "display_data"
    },
    {
     "name": "stdout",
     "output_type": "stream",
     "text": [
      "Testing DataLoader 0: 100%|██████████| 101/101 [00:02<00:00, 44.13it/s]\n"
     ]
    },
    {
     "data": {
      "text/html": [
       "<pre style=\"white-space:pre;overflow-x:auto;line-height:normal;font-family:Menlo,'DejaVu Sans Mono',consolas,'Courier New',monospace\">┏━━━━━━━━━━━━━━━━━━━━━━━━━━━┳━━━━━━━━━━━━━━━━━━━━━━━━━━━┓\n",
       "┃<span style=\"font-weight: bold\">        Test metric        </span>┃<span style=\"font-weight: bold\">       DataLoader 0        </span>┃\n",
       "┡━━━━━━━━━━━━━━━━━━━━━━━━━━━╇━━━━━━━━━━━━━━━━━━━━━━━━━━━┩\n",
       "│<span style=\"color: #008080; text-decoration-color: #008080\">         test/acc          </span>│<span style=\"color: #800080; text-decoration-color: #800080\">     0.975062370300293     </span>│\n",
       "│<span style=\"color: #008080; text-decoration-color: #008080\">          test/f1          </span>│<span style=\"color: #800080; text-decoration-color: #800080\">    0.9756097793579102     </span>│\n",
       "│<span style=\"color: #008080; text-decoration-color: #008080\">         test/loss         </span>│<span style=\"color: #800080; text-decoration-color: #800080\">    0.05774170905351639    </span>│\n",
       "└───────────────────────────┴───────────────────────────┘\n",
       "</pre>\n"
      ],
      "text/plain": [
       "┏━━━━━━━━━━━━━━━━━━━━━━━━━━━┳━━━━━━━━━━━━━━━━━━━━━━━━━━━┓\n",
       "┃\u001b[1m \u001b[0m\u001b[1m       Test metric       \u001b[0m\u001b[1m \u001b[0m┃\u001b[1m \u001b[0m\u001b[1m      DataLoader 0       \u001b[0m\u001b[1m \u001b[0m┃\n",
       "┡━━━━━━━━━━━━━━━━━━━━━━━━━━━╇━━━━━━━━━━━━━━━━━━━━━━━━━━━┩\n",
       "│\u001b[36m \u001b[0m\u001b[36m        test/acc         \u001b[0m\u001b[36m \u001b[0m│\u001b[35m \u001b[0m\u001b[35m    0.975062370300293    \u001b[0m\u001b[35m \u001b[0m│\n",
       "│\u001b[36m \u001b[0m\u001b[36m         test/f1         \u001b[0m\u001b[36m \u001b[0m│\u001b[35m \u001b[0m\u001b[35m   0.9756097793579102    \u001b[0m\u001b[35m \u001b[0m│\n",
       "│\u001b[36m \u001b[0m\u001b[36m        test/loss        \u001b[0m\u001b[36m \u001b[0m│\u001b[35m \u001b[0m\u001b[35m   0.05774170905351639   \u001b[0m\u001b[35m \u001b[0m│\n",
       "└───────────────────────────┴───────────────────────────┘\n"
      ]
     },
     "metadata": {},
     "output_type": "display_data"
    }
   ],
   "source": [
    "trainer.test(model, data)"
   ]
  },
  {
   "cell_type": "markdown",
   "metadata": {},
   "source": [
    "---"
   ]
  },
  {
   "cell_type": "markdown",
   "metadata": {},
   "source": [
    "### GATr"
   ]
  },
  {
   "cell_type": "markdown",
   "metadata": {},
   "source": [
    "Running hyperparameter optimization to find the best hyperparameters maximizing the validation accuracy"
   ]
  },
  {
   "cell_type": "code",
   "execution_count": 12,
   "metadata": {},
   "outputs": [
    {
     "name": "stderr",
     "output_type": "stream",
     "text": [
      "[I 2024-10-31 12:03:16,320] A new study created in memory with name: gatr_hpo\n",
      "GPU available: True (cuda), used: True\n",
      "TPU available: False, using: 0 TPU cores\n",
      "HPU available: False, using: 0 HPUs\n",
      "LOCAL_RANK: 0 - CUDA_VISIBLE_DEVICES: [0]\n",
      "\n",
      "  | Name            | Type              | Params | Mode \n",
      "--------------------------------------------------------------\n",
      "0 | loss_fn         | BCEWithLogitsLoss | 0      | train\n",
      "1 | train_accuracy  | BinaryAccuracy    | 0      | train\n",
      "2 | val_accuracy    | BinaryAccuracy    | 0      | train\n",
      "3 | test_accuracy   | BinaryAccuracy    | 0      | train\n",
      "4 | train_f1        | BinaryF1Score     | 0      | train\n",
      "5 | val_f1          | BinaryF1Score     | 0      | train\n",
      "6 | test_f1         | BinaryF1Score     | 0      | train\n",
      "7 | hsProjection    | EquiLinearLayer   | 576    | train\n",
      "8 | backbone        | ModuleList        | 25.3 K | train\n",
      "9 | finalProjection | Linear            | 76.8 K | train\n",
      "--------------------------------------------------------------\n",
      "102 K     Trainable params\n",
      "0         Non-trainable params\n",
      "102 K     Total params\n",
      "0.411     Total estimated model params size (MB)\n"
     ]
    },
    {
     "name": "stdout",
     "output_type": "stream",
     "text": [
      "Starting a new hyperparameter optimization study...\n",
      "Starting a new trial...\n",
      "Trial number: 0\n",
      "Learning rate: 0.0001669972529293522\n",
      "Attention Heads: 2\n",
      "Attention Layers: 1\n",
      "Batch Size: 4\n",
      "Epoch 3: 100%|██████████| 750/750 [00:15<00:00, 47.27it/s, v_num=124, val/loss=0.0191, val/acc=0.990, val/f1=0.990, train/loss=0.018, train/acc=0.995, train/f1=0.995] "
     ]
    },
    {
     "name": "stderr",
     "output_type": "stream",
     "text": [
      "`Trainer.fit` stopped: `max_epochs=4` reached.\n"
     ]
    },
    {
     "name": "stdout",
     "output_type": "stream",
     "text": [
      "Epoch 3: 100%|██████████| 750/750 [00:15<00:00, 47.24it/s, v_num=124, val/loss=0.0191, val/acc=0.990, val/f1=0.990, train/loss=0.018, train/acc=0.995, train/f1=0.995]\n"
     ]
    },
    {
     "name": "stderr",
     "output_type": "stream",
     "text": [
      "[I 2024-10-31 12:04:20,162] Trial 0 finished with value: 0.019137676805257797 and parameters: {'lr': 0.0001669972529293522, 'num_heads': 2, 'num_layers': 1, 'batch_size': 4}. Best is trial 0 with value: 0.019137676805257797.\n"
     ]
    },
    {
     "name": "stdout",
     "output_type": "stream",
     "text": [
      "Trial 0 finished with value 0.019137676805257797\n",
      "Starting a new trial...\n",
      "Trial number: 1\n",
      "Learning rate: 0.00029059244064864577\n",
      "Attention Heads: 4\n",
      "Attention Layers: 3\n",
      "Batch Size: 4\n"
     ]
    },
    {
     "name": "stderr",
     "output_type": "stream",
     "text": [
      "GPU available: True (cuda), used: True\n",
      "TPU available: False, using: 0 TPU cores\n",
      "HPU available: False, using: 0 HPUs\n",
      "LOCAL_RANK: 0 - CUDA_VISIBLE_DEVICES: [0]\n",
      "\n",
      "  | Name            | Type              | Params | Mode \n",
      "--------------------------------------------------------------\n",
      "0 | loss_fn         | BCEWithLogitsLoss | 0      | train\n",
      "1 | train_accuracy  | BinaryAccuracy    | 0      | train\n",
      "2 | val_accuracy    | BinaryAccuracy    | 0      | train\n",
      "3 | test_accuracy   | BinaryAccuracy    | 0      | train\n",
      "4 | train_f1        | BinaryF1Score     | 0      | train\n",
      "5 | val_f1          | BinaryF1Score     | 0      | train\n",
      "6 | test_f1         | BinaryF1Score     | 0      | train\n",
      "7 | hsProjection    | EquiLinearLayer   | 576    | train\n",
      "8 | backbone        | ModuleList        | 25.3 K | train\n",
      "9 | finalProjection | Linear            | 76.8 K | train\n",
      "--------------------------------------------------------------\n",
      "102 K     Trainable params\n",
      "0         Non-trainable params\n",
      "102 K     Total params\n",
      "0.411     Total estimated model params size (MB)\n"
     ]
    },
    {
     "name": "stdout",
     "output_type": "stream",
     "text": [
      "Epoch 3: 100%|██████████| 750/750 [00:18<00:00, 40.53it/s, v_num=125, val/loss=0.0539, val/acc=0.985, val/f1=0.985, train/loss=0.000285, train/acc=1.000, train/f1=1.000]"
     ]
    },
    {
     "name": "stderr",
     "output_type": "stream",
     "text": [
      "`Trainer.fit` stopped: `max_epochs=4` reached.\n"
     ]
    },
    {
     "name": "stdout",
     "output_type": "stream",
     "text": [
      "Epoch 3: 100%|██████████| 750/750 [00:18<00:00, 40.51it/s, v_num=125, val/loss=0.0539, val/acc=0.985, val/f1=0.985, train/loss=0.000285, train/acc=1.000, train/f1=1.000]\n"
     ]
    },
    {
     "name": "stderr",
     "output_type": "stream",
     "text": [
      "[I 2024-10-31 12:05:30,195] Trial 1 finished with value: 0.053928762674331665 and parameters: {'lr': 0.00029059244064864577, 'num_heads': 4, 'num_layers': 3, 'batch_size': 4}. Best is trial 0 with value: 0.019137676805257797.\n"
     ]
    },
    {
     "name": "stdout",
     "output_type": "stream",
     "text": [
      "Trial 1 finished with value 0.053928762674331665\n",
      "Starting a new trial...\n",
      "Trial number: 2\n",
      "Learning rate: 0.000850280548262009\n",
      "Attention Heads: 2\n",
      "Attention Layers: 2\n",
      "Batch Size: 4\n"
     ]
    },
    {
     "name": "stderr",
     "output_type": "stream",
     "text": [
      "GPU available: True (cuda), used: True\n",
      "TPU available: False, using: 0 TPU cores\n",
      "HPU available: False, using: 0 HPUs\n",
      "LOCAL_RANK: 0 - CUDA_VISIBLE_DEVICES: [0]\n",
      "\n",
      "  | Name            | Type              | Params | Mode \n",
      "--------------------------------------------------------------\n",
      "0 | loss_fn         | BCEWithLogitsLoss | 0      | train\n",
      "1 | train_accuracy  | BinaryAccuracy    | 0      | train\n",
      "2 | val_accuracy    | BinaryAccuracy    | 0      | train\n",
      "3 | test_accuracy   | BinaryAccuracy    | 0      | train\n",
      "4 | train_f1        | BinaryF1Score     | 0      | train\n",
      "5 | val_f1          | BinaryF1Score     | 0      | train\n",
      "6 | test_f1         | BinaryF1Score     | 0      | train\n",
      "7 | hsProjection    | EquiLinearLayer   | 576    | train\n",
      "8 | backbone        | ModuleList        | 25.3 K | train\n",
      "9 | finalProjection | Linear            | 76.8 K | train\n",
      "--------------------------------------------------------------\n",
      "102 K     Trainable params\n",
      "0         Non-trainable params\n",
      "102 K     Total params\n",
      "0.411     Total estimated model params size (MB)\n"
     ]
    },
    {
     "name": "stdout",
     "output_type": "stream",
     "text": [
      "Epoch 3: 100%|██████████| 750/750 [00:17<00:00, 42.14it/s, v_num=126, val/loss=0.000748, val/acc=1.000, val/f1=1.000, train/loss=0.001, train/acc=1.000, train/f1=1.000] "
     ]
    },
    {
     "name": "stderr",
     "output_type": "stream",
     "text": [
      "`Trainer.fit` stopped: `max_epochs=4` reached.\n"
     ]
    },
    {
     "name": "stdout",
     "output_type": "stream",
     "text": [
      "Epoch 3: 100%|██████████| 750/750 [00:17<00:00, 42.10it/s, v_num=126, val/loss=0.000748, val/acc=1.000, val/f1=1.000, train/loss=0.001, train/acc=1.000, train/f1=1.000]\n"
     ]
    },
    {
     "name": "stderr",
     "output_type": "stream",
     "text": [
      "[I 2024-10-31 12:06:42,489] Trial 2 finished with value: 0.000747724378015846 and parameters: {'lr': 0.000850280548262009, 'num_heads': 2, 'num_layers': 2, 'batch_size': 4}. Best is trial 2 with value: 0.000747724378015846.\n",
      "GPU available: True (cuda), used: True\n"
     ]
    },
    {
     "name": "stdout",
     "output_type": "stream",
     "text": [
      "Trial 2 finished with value 0.000747724378015846\n",
      "Starting a new trial...\n",
      "Trial number: 3\n",
      "Learning rate: 0.00026796271555330157\n",
      "Attention Heads: 4\n",
      "Attention Layers: 2\n",
      "Batch Size: 4\n"
     ]
    },
    {
     "name": "stderr",
     "output_type": "stream",
     "text": [
      "TPU available: False, using: 0 TPU cores\n",
      "HPU available: False, using: 0 HPUs\n",
      "LOCAL_RANK: 0 - CUDA_VISIBLE_DEVICES: [0]\n",
      "\n",
      "  | Name            | Type              | Params | Mode \n",
      "--------------------------------------------------------------\n",
      "0 | loss_fn         | BCEWithLogitsLoss | 0      | train\n",
      "1 | train_accuracy  | BinaryAccuracy    | 0      | train\n",
      "2 | val_accuracy    | BinaryAccuracy    | 0      | train\n",
      "3 | test_accuracy   | BinaryAccuracy    | 0      | train\n",
      "4 | train_f1        | BinaryF1Score     | 0      | train\n",
      "5 | val_f1          | BinaryF1Score     | 0      | train\n",
      "6 | test_f1         | BinaryF1Score     | 0      | train\n",
      "7 | hsProjection    | EquiLinearLayer   | 576    | train\n",
      "8 | backbone        | ModuleList        | 25.3 K | train\n",
      "9 | finalProjection | Linear            | 76.8 K | train\n",
      "--------------------------------------------------------------\n",
      "102 K     Trainable params\n",
      "0         Non-trainable params\n",
      "102 K     Total params\n",
      "0.411     Total estimated model params size (MB)\n"
     ]
    },
    {
     "name": "stdout",
     "output_type": "stream",
     "text": [
      "Epoch 3: 100%|██████████| 750/750 [00:17<00:00, 43.24it/s, v_num=127, val/loss=3.92e-6, val/acc=1.000, val/f1=1.000, train/loss=1.11e-5, train/acc=1.000, train/f1=1.000]  "
     ]
    },
    {
     "name": "stderr",
     "output_type": "stream",
     "text": [
      "`Trainer.fit` stopped: `max_epochs=4` reached.\n"
     ]
    },
    {
     "name": "stdout",
     "output_type": "stream",
     "text": [
      "Epoch 3: 100%|██████████| 750/750 [00:17<00:00, 43.21it/s, v_num=127, val/loss=3.92e-6, val/acc=1.000, val/f1=1.000, train/loss=1.11e-5, train/acc=1.000, train/f1=1.000]\n"
     ]
    },
    {
     "name": "stderr",
     "output_type": "stream",
     "text": [
      "[I 2024-10-31 12:07:52,799] Trial 3 finished with value: 3.9174356061266735e-06 and parameters: {'lr': 0.00026796271555330157, 'num_heads': 4, 'num_layers': 2, 'batch_size': 4}. Best is trial 3 with value: 3.9174356061266735e-06.\n"
     ]
    },
    {
     "name": "stdout",
     "output_type": "stream",
     "text": [
      "Trial 3 finished with value 3.9174356061266735e-06\n",
      "Hyperparameter optimization completed.\n",
      "Best hyperparameters found:\n",
      "          Learning rate: 0.00026796271555330157\n",
      "          Number of Attention Heads: 4\n",
      "          Number of Attention Layers: 2\n",
      "          Batch Size: 4\n",
      "\n"
     ]
    }
   ],
   "source": [
    "from src.models import Gatr\n",
    "from src.utils.hpo import gatr_hpo\n",
    "\n",
    "gatr_hpo(config, data) # Hyperparameter optimization: writes the config file with the best hyperparameters"
   ]
  },
  {
   "cell_type": "markdown",
   "metadata": {},
   "source": [
    "Training the model using the best hyperparameters"
   ]
  },
  {
   "cell_type": "code",
   "execution_count": 13,
   "metadata": {},
   "outputs": [
    {
     "name": "stderr",
     "output_type": "stream",
     "text": [
      "\u001b[34m\u001b[1mwandb\u001b[0m: \u001b[33mWARNING\u001b[0m Calling wandb.login() after wandb.init() has no effect.\n"
     ]
    },
    {
     "data": {
      "text/html": [
       "Finishing last run (ID:9lq1e8df) before initializing another..."
      ],
      "text/plain": [
       "<IPython.core.display.HTML object>"
      ]
     },
     "metadata": {},
     "output_type": "display_data"
    },
    {
     "data": {
      "text/html": [
       "<style>\n",
       "    table.wandb td:nth-child(1) { padding: 0 10px; text-align: left ; width: auto;} td:nth-child(2) {text-align: left ; width: 100%}\n",
       "    .wandb-row { display: flex; flex-direction: row; flex-wrap: wrap; justify-content: flex-start; width: 100% }\n",
       "    .wandb-col { display: flex; flex-direction: column; flex-basis: 100%; flex: 1; padding: 10px; }\n",
       "    </style>\n",
       "<div class=\"wandb-row\"><div class=\"wandb-col\"><h3>Run history:</h3><br/><table class=\"wandb\"><tr><td>epoch</td><td>▁▁▂▂▃▃▅▅▆▆▇▇█</td></tr><tr><td>test/acc</td><td>▁</td></tr><tr><td>test/f1</td><td>▁</td></tr><tr><td>test/loss</td><td>▁</td></tr><tr><td>train/acc</td><td>▁▇▇███</td></tr><tr><td>train/f1</td><td>▁▇▇███</td></tr><tr><td>train/loss</td><td>█▂▂▁▁▁</td></tr><tr><td>trainer/global_step</td><td>▁▁▂▂▄▄▅▅▇▇███</td></tr><tr><td>val/acc</td><td>▆▇▇▃█▁</td></tr><tr><td>val/f1</td><td>▆▇▇▃█▁</td></tr><tr><td>val/loss</td><td>▃▂▁█▂█</td></tr></table><br/></div><div class=\"wandb-col\"><h3>Run summary:</h3><br/><table class=\"wandb\"><tr><td>epoch</td><td>6</td></tr><tr><td>test/acc</td><td>0.97506</td></tr><tr><td>test/f1</td><td>0.97561</td></tr><tr><td>test/loss</td><td>0.05774</td></tr><tr><td>train/acc</td><td>0.98733</td></tr><tr><td>train/f1</td><td>0.98733</td></tr><tr><td>train/loss</td><td>0.04127</td></tr><tr><td>trainer/global_step</td><td>4500</td></tr><tr><td>val/acc</td><td>0.96661</td></tr><tr><td>val/f1</td><td>0.96805</td></tr><tr><td>val/loss</td><td>0.10325</td></tr></table><br/></div></div>"
      ],
      "text/plain": [
       "<IPython.core.display.HTML object>"
      ]
     },
     "metadata": {},
     "output_type": "display_data"
    },
    {
     "data": {
      "text/html": [
       " View run <strong style=\"color:#cdcd00\">ominous-fang-74</strong> at: <a href='https://wandb.ai/neverorfrog-sapienza/Vessel-Geometric-Transformers/runs/9lq1e8df' target=\"_blank\">https://wandb.ai/neverorfrog-sapienza/Vessel-Geometric-Transformers/runs/9lq1e8df</a><br/> View project at: <a href='https://wandb.ai/neverorfrog-sapienza/Vessel-Geometric-Transformers' target=\"_blank\">https://wandb.ai/neverorfrog-sapienza/Vessel-Geometric-Transformers</a><br/>Synced 5 W&B file(s), 0 media file(s), 0 artifact file(s) and 0 other file(s)"
      ],
      "text/plain": [
       "<IPython.core.display.HTML object>"
      ]
     },
     "metadata": {},
     "output_type": "display_data"
    },
    {
     "data": {
      "text/html": [
       "Find logs at: <code>./wandb/run-20241031_115944-9lq1e8df/logs</code>"
      ],
      "text/plain": [
       "<IPython.core.display.HTML object>"
      ]
     },
     "metadata": {},
     "output_type": "display_data"
    },
    {
     "data": {
      "text/html": [
       "The new W&B backend becomes opt-out in version 0.18.0; try it out with `wandb.require(\"core\")`! See https://wandb.me/wandb-core for more information."
      ],
      "text/plain": [
       "<IPython.core.display.HTML object>"
      ]
     },
     "metadata": {},
     "output_type": "display_data"
    },
    {
     "data": {
      "text/html": [
       "Successfully finished last run (ID:9lq1e8df). Initializing new run:<br/>"
      ],
      "text/plain": [
       "<IPython.core.display.HTML object>"
      ]
     },
     "metadata": {},
     "output_type": "display_data"
    },
    {
     "data": {
      "text/html": [
       "wandb version 0.18.5 is available!  To upgrade, please run:\n",
       " $ pip install wandb --upgrade"
      ],
      "text/plain": [
       "<IPython.core.display.HTML object>"
      ]
     },
     "metadata": {},
     "output_type": "display_data"
    },
    {
     "data": {
      "text/html": [
       "Tracking run with wandb version 0.17.7"
      ],
      "text/plain": [
       "<IPython.core.display.HTML object>"
      ]
     },
     "metadata": {},
     "output_type": "display_data"
    },
    {
     "data": {
      "text/html": [
       "Run data is saved locally in <code>/home/daniaffch/Uni/Deep_Learning/Vessel-Geometric-Transformers/wandb/run-20241031_120752-8zz2055t</code>"
      ],
      "text/plain": [
       "<IPython.core.display.HTML object>"
      ]
     },
     "metadata": {},
     "output_type": "display_data"
    },
    {
     "data": {
      "text/html": [
       "Syncing run <strong><a href='https://wandb.ai/neverorfrog-sapienza/Vessel-Geometric-Transformers/runs/8zz2055t' target=\"_blank\">spooky-pumpkin-75</a></strong> to <a href='https://wandb.ai/neverorfrog-sapienza/Vessel-Geometric-Transformers' target=\"_blank\">Weights & Biases</a> (<a href='https://wandb.me/run' target=\"_blank\">docs</a>)<br/>"
      ],
      "text/plain": [
       "<IPython.core.display.HTML object>"
      ]
     },
     "metadata": {},
     "output_type": "display_data"
    },
    {
     "data": {
      "text/html": [
       " View project at <a href='https://wandb.ai/neverorfrog-sapienza/Vessel-Geometric-Transformers' target=\"_blank\">https://wandb.ai/neverorfrog-sapienza/Vessel-Geometric-Transformers</a>"
      ],
      "text/plain": [
       "<IPython.core.display.HTML object>"
      ]
     },
     "metadata": {},
     "output_type": "display_data"
    },
    {
     "data": {
      "text/html": [
       " View run at <a href='https://wandb.ai/neverorfrog-sapienza/Vessel-Geometric-Transformers/runs/8zz2055t' target=\"_blank\">https://wandb.ai/neverorfrog-sapienza/Vessel-Geometric-Transformers/runs/8zz2055t</a>"
      ],
      "text/plain": [
       "<IPython.core.display.HTML object>"
      ]
     },
     "metadata": {},
     "output_type": "display_data"
    },
    {
     "name": "stderr",
     "output_type": "stream",
     "text": [
      "GPU available: True (cuda), used: True\n",
      "TPU available: False, using: 0 TPU cores\n",
      "HPU available: False, using: 0 HPUs\n",
      "LOCAL_RANK: 0 - CUDA_VISIBLE_DEVICES: [0]\n",
      "\n",
      "  | Name            | Type              | Params | Mode \n",
      "--------------------------------------------------------------\n",
      "0 | loss_fn         | BCEWithLogitsLoss | 0      | train\n",
      "1 | train_accuracy  | BinaryAccuracy    | 0      | train\n",
      "2 | val_accuracy    | BinaryAccuracy    | 0      | train\n",
      "3 | test_accuracy   | BinaryAccuracy    | 0      | train\n",
      "4 | train_f1        | BinaryF1Score     | 0      | train\n",
      "5 | val_f1          | BinaryF1Score     | 0      | train\n",
      "6 | test_f1         | BinaryF1Score     | 0      | train\n",
      "7 | hsProjection    | EquiLinearLayer   | 576    | train\n",
      "8 | backbone        | ModuleList        | 50.7 K | train\n",
      "9 | finalProjection | Linear            | 76.8 K | train\n",
      "--------------------------------------------------------------\n",
      "128 K     Trainable params\n",
      "0         Non-trainable params\n",
      "128 K     Total params\n",
      "0.512     Total estimated model params size (MB)\n"
     ]
    },
    {
     "name": "stdout",
     "output_type": "stream",
     "text": [
      "Epoch 0: 100%|██████████| 750/750 [00:20<00:00, 35.77it/s, v_num=055t, val/loss=0.0442, val/acc=0.988, val/f1=0.989, train/loss=0.0984, train/acc=0.966, train/f1=0.966]"
     ]
    },
    {
     "name": "stderr",
     "output_type": "stream",
     "text": [
      "Metric val/loss improved. New best score: 0.044\n",
      "Epoch 0, global step 750: 'val/loss' reached 0.04421 (best 0.04421), saving model to '/home/daniaffch/Uni/Deep_Learning/Vessel-Geometric-Transformers/ckpt/epoch=0-step=750-v1.ckpt' as top 1\n"
     ]
    },
    {
     "name": "stdout",
     "output_type": "stream",
     "text": [
      "Epoch 1: 100%|██████████| 750/750 [00:21<00:00, 34.28it/s, v_num=055t, val/loss=0.0345, val/acc=0.990, val/f1=0.990, train/loss=0.0354, train/acc=0.991, train/f1=0.991]"
     ]
    },
    {
     "name": "stderr",
     "output_type": "stream",
     "text": [
      "Metric val/loss improved by 0.010 >= min_delta = 1e-05. New best score: 0.035\n",
      "Epoch 1, global step 1500: 'val/loss' reached 0.03450 (best 0.03450), saving model to '/home/daniaffch/Uni/Deep_Learning/Vessel-Geometric-Transformers/ckpt/epoch=1-step=1500.ckpt' as top 1\n"
     ]
    },
    {
     "name": "stdout",
     "output_type": "stream",
     "text": [
      "Epoch 2: 100%|██████████| 750/750 [00:21<00:00, 34.32it/s, v_num=055t, val/loss=0.0233, val/acc=0.990, val/f1=0.990, train/loss=0.0232, train/acc=0.992, train/f1=0.992]"
     ]
    },
    {
     "name": "stderr",
     "output_type": "stream",
     "text": [
      "Metric val/loss improved by 0.011 >= min_delta = 1e-05. New best score: 0.023\n",
      "Epoch 2, global step 2250: 'val/loss' reached 0.02332 (best 0.02332), saving model to '/home/daniaffch/Uni/Deep_Learning/Vessel-Geometric-Transformers/ckpt/epoch=2-step=2250-v1.ckpt' as top 1\n"
     ]
    },
    {
     "name": "stdout",
     "output_type": "stream",
     "text": [
      "Epoch 3: 100%|██████████| 750/750 [00:22<00:00, 34.04it/s, v_num=055t, val/loss=0.00831, val/acc=0.995, val/f1=0.995, train/loss=0.0116, train/acc=0.997, train/f1=0.997]"
     ]
    },
    {
     "name": "stderr",
     "output_type": "stream",
     "text": [
      "Metric val/loss improved by 0.015 >= min_delta = 1e-05. New best score: 0.008\n",
      "Epoch 3, global step 3000: 'val/loss' reached 0.00831 (best 0.00831), saving model to '/home/daniaffch/Uni/Deep_Learning/Vessel-Geometric-Transformers/ckpt/epoch=3-step=3000.ckpt' as top 1\n"
     ]
    },
    {
     "name": "stdout",
     "output_type": "stream",
     "text": [
      "Epoch 4: 100%|██████████| 750/750 [00:24<00:00, 31.00it/s, v_num=055t, val/loss=0.00419, val/acc=1.000, val/f1=1.000, train/loss=0.00846, train/acc=0.997, train/f1=0.997]"
     ]
    },
    {
     "name": "stderr",
     "output_type": "stream",
     "text": [
      "Metric val/loss improved by 0.004 >= min_delta = 1e-05. New best score: 0.004\n",
      "Epoch 4, global step 3750: 'val/loss' reached 0.00419 (best 0.00419), saving model to '/home/daniaffch/Uni/Deep_Learning/Vessel-Geometric-Transformers/ckpt/epoch=4-step=3750.ckpt' as top 1\n"
     ]
    },
    {
     "name": "stdout",
     "output_type": "stream",
     "text": [
      "Epoch 5: 100%|██████████| 750/750 [00:23<00:00, 31.95it/s, v_num=055t, val/loss=0.00274, val/acc=1.000, val/f1=1.000, train/loss=0.00405, train/acc=0.998, train/f1=0.998]"
     ]
    },
    {
     "name": "stderr",
     "output_type": "stream",
     "text": [
      "Metric val/loss improved by 0.001 >= min_delta = 1e-05. New best score: 0.003\n",
      "Epoch 5, global step 4500: 'val/loss' reached 0.00274 (best 0.00274), saving model to '/home/daniaffch/Uni/Deep_Learning/Vessel-Geometric-Transformers/ckpt/epoch=5-step=4500.ckpt' as top 1\n"
     ]
    },
    {
     "name": "stdout",
     "output_type": "stream",
     "text": [
      "Epoch 6: 100%|██████████| 750/750 [00:26<00:00, 28.75it/s, v_num=055t, val/loss=4.79e-5, val/acc=1.000, val/f1=1.000, train/loss=0.000589, train/acc=1.000, train/f1=1.000]"
     ]
    },
    {
     "name": "stderr",
     "output_type": "stream",
     "text": [
      "Metric val/loss improved by 0.003 >= min_delta = 1e-05. New best score: 0.000\n",
      "Epoch 6, global step 5250: 'val/loss' reached 0.00005 (best 0.00005), saving model to '/home/daniaffch/Uni/Deep_Learning/Vessel-Geometric-Transformers/ckpt/epoch=6-step=5250.ckpt' as top 1\n"
     ]
    },
    {
     "name": "stdout",
     "output_type": "stream",
     "text": [
      "Epoch 7: 100%|██████████| 750/750 [00:27<00:00, 27.69it/s, v_num=055t, val/loss=2.91e-5, val/acc=1.000, val/f1=1.000, train/loss=0.00046, train/acc=1.000, train/f1=1.000] "
     ]
    },
    {
     "name": "stderr",
     "output_type": "stream",
     "text": [
      "Metric val/loss improved by 0.000 >= min_delta = 1e-05. New best score: 0.000\n",
      "Epoch 7, global step 6000: 'val/loss' reached 0.00003 (best 0.00003), saving model to '/home/daniaffch/Uni/Deep_Learning/Vessel-Geometric-Transformers/ckpt/epoch=7-step=6000-v1.ckpt' as top 1\n"
     ]
    },
    {
     "name": "stdout",
     "output_type": "stream",
     "text": [
      "Epoch 8: 100%|██████████| 750/750 [00:25<00:00, 29.71it/s, v_num=055t, val/loss=3.32e-5, val/acc=1.000, val/f1=1.000, train/loss=1.67e-5, train/acc=1.000, train/f1=1.000]"
     ]
    },
    {
     "name": "stderr",
     "output_type": "stream",
     "text": [
      "Epoch 8, global step 6750: 'val/loss' was not in top 1\n"
     ]
    },
    {
     "name": "stdout",
     "output_type": "stream",
     "text": [
      "Epoch 9: 100%|██████████| 750/750 [00:24<00:00, 30.91it/s, v_num=055t, val/loss=3.47e-5, val/acc=1.000, val/f1=1.000, train/loss=1.74e-5, train/acc=1.000, train/f1=1.000]"
     ]
    },
    {
     "name": "stderr",
     "output_type": "stream",
     "text": [
      "Epoch 9, global step 7500: 'val/loss' was not in top 1\n"
     ]
    },
    {
     "name": "stdout",
     "output_type": "stream",
     "text": [
      "Epoch 10: 100%|██████████| 750/750 [00:23<00:00, 31.35it/s, v_num=055t, val/loss=0.000381, val/acc=1.000, val/f1=1.000, train/loss=0.0124, train/acc=0.996, train/f1=0.996] "
     ]
    },
    {
     "name": "stderr",
     "output_type": "stream",
     "text": [
      "Monitored metric val/loss did not improve in the last 3 records. Best score: 0.000. Signaling Trainer to stop.\n",
      "Epoch 10, global step 8250: 'val/loss' was not in top 1\n"
     ]
    },
    {
     "name": "stdout",
     "output_type": "stream",
     "text": [
      "Epoch 10: 100%|██████████| 750/750 [00:23<00:00, 31.34it/s, v_num=055t, val/loss=0.000381, val/acc=1.000, val/f1=1.000, train/loss=0.0124, train/acc=0.996, train/f1=0.996]\n"
     ]
    }
   ],
   "source": [
    "from src.trainer import VesselTrainer\n",
    "\n",
    "model = Gatr(config.gatr)\n",
    "trainer = VesselTrainer(config.trainer, \"gatr\")\n",
    "trainer.fit(model, data)"
   ]
  },
  {
   "cell_type": "markdown",
   "metadata": {},
   "source": [
    "Test the model performance on unseen test data."
   ]
  },
  {
   "cell_type": "code",
   "execution_count": 14,
   "metadata": {},
   "outputs": [
    {
     "name": "stderr",
     "output_type": "stream",
     "text": [
      "Restoring states from the checkpoint path at /home/daniaffch/Uni/Deep_Learning/Vessel-Geometric-Transformers/ckpt/epoch=7-step=6000-v1.ckpt\n",
      "LOCAL_RANK: 0 - CUDA_VISIBLE_DEVICES: [0]\n",
      "Loaded model weights from the checkpoint at /home/daniaffch/Uni/Deep_Learning/Vessel-Geometric-Transformers/ckpt/epoch=7-step=6000-v1.ckpt\n"
     ]
    },
    {
     "name": "stdout",
     "output_type": "stream",
     "text": [
      "Testing DataLoader 0: 100%|██████████| 101/101 [00:01<00:00, 74.35it/s]"
     ]
    },
    {
     "data": {
      "image/png": "[encoded data removed]",
      "text/plain": [
       "<Figure size 1000x700 with 2 Axes>"
      ]
     },
     "metadata": {},
     "output_type": "display_data"
    },
    {
     "name": "stdout",
     "output_type": "stream",
     "text": [
      "Testing DataLoader 0: 100%|██████████| 101/101 [00:01<00:00, 63.00it/s]\n"
     ]
    },
    {
     "data": {
      "text/html": [
       "<pre style=\"white-space:pre;overflow-x:auto;line-height:normal;font-family:Menlo,'DejaVu Sans Mono',consolas,'Courier New',monospace\">┏━━━━━━━━━━━━━━━━━━━━━━━━━━━┳━━━━━━━━━━━━━━━━━━━━━━━━━━━┓\n",
       "┃<span style=\"font-weight: bold\">        Test metric        </span>┃<span style=\"font-weight: bold\">       DataLoader 0        </span>┃\n",
       "┡━━━━━━━━━━━━━━━━━━━━━━━━━━━╇━━━━━━━━━━━━━━━━━━━━━━━━━━━┩\n",
       "│<span style=\"color: #008080; text-decoration-color: #008080\">         test/acc          </span>│<span style=\"color: #800080; text-decoration-color: #800080\">            1.0            </span>│\n",
       "│<span style=\"color: #008080; text-decoration-color: #008080\">          test/f1          </span>│<span style=\"color: #800080; text-decoration-color: #800080\">            1.0            </span>│\n",
       "│<span style=\"color: #008080; text-decoration-color: #008080\">         test/loss         </span>│<span style=\"color: #800080; text-decoration-color: #800080\">   1.003686793410452e-05   </span>│\n",
       "└───────────────────────────┴───────────────────────────┘\n",
       "</pre>\n"
      ],
      "text/plain": [
       "┏━━━━━━━━━━━━━━━━━━━━━━━━━━━┳━━━━━━━━━━━━━━━━━━━━━━━━━━━┓\n",
       "┃\u001b[1m \u001b[0m\u001b[1m       Test metric       \u001b[0m\u001b[1m \u001b[0m┃\u001b[1m \u001b[0m\u001b[1m      DataLoader 0       \u001b[0m\u001b[1m \u001b[0m┃\n",
       "┡━━━━━━━━━━━━━━━━━━━━━━━━━━━╇━━━━━━━━━━━━━━━━━━━━━━━━━━━┩\n",
       "│\u001b[36m \u001b[0m\u001b[36m        test/acc         \u001b[0m\u001b[36m \u001b[0m│\u001b[35m \u001b[0m\u001b[35m           1.0           \u001b[0m\u001b[35m \u001b[0m│\n",
       "│\u001b[36m \u001b[0m\u001b[36m         test/f1         \u001b[0m\u001b[36m \u001b[0m│\u001b[35m \u001b[0m\u001b[35m           1.0           \u001b[0m\u001b[35m \u001b[0m│\n",
       "│\u001b[36m \u001b[0m\u001b[36m        test/loss        \u001b[0m\u001b[36m \u001b[0m│\u001b[35m \u001b[0m\u001b[35m  1.003686793410452e-05  \u001b[0m\u001b[35m \u001b[0m│\n",
       "└───────────────────────────┴───────────────────────────┘\n"
      ]
     },
     "metadata": {},
     "output_type": "display_data"
    }
   ],
   "source": [
    "trainer.test(model, data)"
   ]
  },
  {
   "cell_type": "markdown",
   "metadata": {},
   "source": [
    "----"
   ]
  }
 ],
 "metadata": {
  "kernelspec": {
   "display_name": ".venv",
   "language": "python",
   "name": "python3"
  },
  "language_info": {
   "codemirror_mode": {
    "name": "ipython",
    "version": 3
   },
   "file_extension": ".py",
   "mimetype": "text/x-python",
   "name": "python",
   "nbconvert_exporter": "python",
   "pygments_lexer": "ipython3",
   "version": "3.10.12"
  }
 },
 "nbformat": 4,
 "nbformat_minor": 2
}
